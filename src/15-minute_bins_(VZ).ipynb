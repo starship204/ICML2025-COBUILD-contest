{
  "cells": [
    {
      "cell_type": "code",
      "execution_count": 1,
      "metadata": {
        "cellView": "form",
        "id": "RNXe3HGv9P8Q"
      },
      "outputs": [],
      "source": [
        "#@title Dataset Definition\n",
        "\n",
        "\"\"\"Smart Buildings Dataset implementation, including loading and downloading.\"\"\"\n",
        "\n",
        "\n",
        "import json\n",
        "import pickle\n",
        "import shutil\n",
        "import numpy as np\n",
        "import requests\n",
        "\n",
        "\n",
        "\n",
        "\n",
        "\n",
        "class SmartBuildingsDataset:\n",
        " \"\"\"Smart Buildings Dataset implementation, including loading and downloading.\"\"\"\n",
        "\n",
        "\n",
        " def __init__(self, download=True):\n",
        "   self.partitions = {\n",
        "       \"sb1\": [\n",
        "           \"2022_a\",\n",
        "           \"2022_b\",\n",
        "           \"2023_a\",\n",
        "           \"2023_b\",\n",
        "           \"2024_a\",\n",
        "       ],\n",
        "   }\n",
        "   if download:\n",
        "     self.download()\n",
        "\n",
        "\n",
        " def download(self):\n",
        "   \"\"\"Downloads the Smart Buildings Dataset from Google Cloud Storage.\"\"\"\n",
        "   print(\"Downloading data...\")\n",
        "\n",
        "\n",
        "   def download_file(url):\n",
        "     local_filename = url.split(\"/\")[-1]\n",
        "     with requests.get(url, stream=True) as r:\n",
        "       r.raise_for_status()\n",
        "       with open(local_filename, \"wb\") as f:\n",
        "         for chunk in r.iter_content(chunk_size=8192):\n",
        "           f.write(chunk)\n",
        "     return local_filename\n",
        "\n",
        "\n",
        "   url = \"https://storage.googleapis.com/gresearch/smart_buildings_dataset/tabular_data/sb1.zip\"\n",
        "   download_file(url)\n",
        "   shutil.unpack_archive(\"sb1.zip\", \"sb1/\")\n",
        "\n",
        "\n",
        " def get_floorplan(self, building):\n",
        "   \"\"\"Gets the floorplan and device layout map for a specific building.\n",
        "\n",
        "\n",
        "   Args:\n",
        "     building: The name of the building.\n",
        "\n",
        "\n",
        "   Returns:\n",
        "     A tuple containing the floorplan and device layout map.\n",
        "   \"\"\"\n",
        "   if building not in self.partitions.keys():\n",
        "     raise ValueError(\"invalid building\")\n",
        "   floorplan = np.load(f\"./{building}/tabular/floorplan.npy\")\n",
        "\n",
        "   def gdrive_to_direct_url(share_url):\n",
        "        file_id = share_url.split('/d/')[1].split('/')[0]\n",
        "        return f\"https://drive.google.com/uc?export=download&id={file_id}\"\n",
        "   share_url = \"https://drive.google.com/file/d/19W4exC1IfIpx6x_agZy3HO1ARXdxKnic/view?usp=sharing\"\n",
        "   direct_url = gdrive_to_direct_url(share_url)\n",
        "   response = requests.get(direct_url)\n",
        "   device_layout_map = response.json()\n",
        "\n",
        "   return floorplan, device_layout_map\n",
        "\n",
        "\n",
        " def get_building_data(self, building, partition):\n",
        "   \"\"\"Gets the data for a specific building and partition.\n",
        "\n",
        "\n",
        "   Args:\n",
        "     building: The name of the building.\n",
        "     partition: The name of the partition.\n",
        "\n",
        "\n",
        "   Returns:\n",
        "     A tuple containing the data and metadata.\n",
        "   \"\"\"\n",
        "   if building not in self.partitions.keys():\n",
        "     raise ValueError(\"invalid building\")\n",
        "   if partition not in self.partitions[building]:\n",
        "     raise ValueError(\"invalid partition\")\n",
        "   path = f\"./{building}/tabular/{building}/{partition}/\"\n",
        "\n",
        "\n",
        "   data = np.load(path + \"data.npy.npz\")\n",
        "   metadata = pickle.load(open(path + \"metadata.pickle\", \"rb\"))\n",
        "\n",
        "\n",
        "   if \"device_infos\" not in metadata.keys():\n",
        "     metadata[\"device_infos\"] = pickle.load(\n",
        "         open(f\"./{building}/tabular/device_info_dicts.pickle\", \"rb\")\n",
        "     )\n",
        "   if \"zone_infos\" not in metadata.keys():\n",
        "     metadata[\"zone_infos\"] = pickle.load(\n",
        "         open(f\"./{building}/tabular/zone_info_dicts.pickle\", \"rb\")\n",
        "     )\n",
        "   return data, metadata\n"
      ]
    },
    {
      "cell_type": "code",
      "execution_count": 2,
      "metadata": {
        "cellView": "form",
        "colab": {
          "base_uri": "https://localhost:8080/"
        },
        "id": "rm92LZNV98Cw",
        "outputId": "021d58fb-079c-490b-8092-a6c4adfed3c4"
      },
      "outputs": [
        {
          "name": "stdout",
          "output_type": "stream",
          "text": [
            "Downloading data...\n"
          ]
        }
      ],
      "source": [
        "#@title Data download and splitting\n",
        "\n",
        "ds = SmartBuildingsDataset()\n",
        "\n",
        "# training data: Jan-June 2022\n",
        "data, metadata = ds.get_building_data(\"sb1\",\"2022_a\")\n",
        "floorplan, device_layout_map = ds.get_floorplan(\"sb1\")\n",
        "\n",
        "# validation data: July-December 2022\n",
        "data_val, metadata_val = ds.get_building_data(\"sb1\",\"2022_b\")\n",
        "floorplan_val, device_layout_map_val = ds.get_floorplan(\"sb1\")\n",
        "\n",
        "# lets split validation data into things to predict, and exogenous variables\n",
        "indexes = [v for k, v in metadata_val['observation_ids'].items() if \"zone_air_temperature_sensor\" in k]\n",
        "temp_data = data_val['observation_value_matrix'][:, indexes]\n",
        "matching_items = [(k, v) for k, v in metadata_val['observation_ids'].items() if \"zone_air_temperature_sensor\" in k]\n",
        "temp_data_ids = {k: i for i, (k, v) in enumerate(matching_items)}\n",
        "\n",
        "indexes = [v for k, v in metadata_val['observation_ids'].items() if \"zone_air_temperature_sensor\" not in k]\n",
        "exogenous_observation_data = data_val['observation_value_matrix'][:, indexes]\n",
        "matching_items = [(k, v) for k, v in metadata_val['observation_ids'].items() if \"zone_air_temperature_sensor\" not in k]\n",
        "exogenous_observation_data_ids = {k: i for i, (k, v) in enumerate(matching_items)}\n",
        "\n",
        "initial_condition = temp_data[0]"
      ]
    },
    {
      "cell_type": "code",
      "execution_count": 3,
      "metadata": {
        "colab": {
          "base_uri": "https://localhost:8080/"
        },
        "id": "1_qSwXSUb4ox",
        "outputId": "c81910d5-e608-49c4-cf78-75278a8c3001"
      },
      "outputs": [
        {
          "data": {
            "text/plain": [
              "{'2760348383893915@zone_air_temperature_sensor': 0,\n",
              " '2562701969438717@zone_air_temperature_sensor': 1,\n",
              " '2806035809406684@zone_air_temperature_sensor': 2,\n",
              " '2790439929052995@zone_air_temperature_sensor': 3,\n",
              " '2628534928204590@zone_air_temperature_sensor': 4,\n",
              " '2535333053617205@zone_air_temperature_sensor': 5,\n",
              " '2619255661594253@zone_air_temperature_sensor': 6,\n",
              " '2618781414146613@zone_air_temperature_sensor': 7,\n",
              " '2613654138967436@zone_air_temperature_sensor': 8,\n",
              " '2762982574975969@zone_air_temperature_sensor': 9,\n",
              " '2578499186529204@zone_air_temperature_sensor': 10,\n",
              " '2693289483686059@zone_air_temperature_sensor': 11,\n",
              " '2549483694528743@zone_air_temperature_sensor': 12,\n",
              " '2614466029028994@zone_air_temperature_sensor': 13,\n",
              " '2760979770441910@zone_air_temperature_sensor': 14,\n",
              " '2732460999450017@zone_air_temperature_sensor': 15,\n",
              " '2549513081490212@zone_air_temperature_sensor': 16,\n",
              " '2737293899563066@zone_air_temperature_sensor': 17,\n",
              " '2710040674126014@zone_air_temperature_sensor': 18,\n",
              " '2570355700484963@zone_air_temperature_sensor': 19,\n",
              " '2779591174908667@zone_air_temperature_sensor': 20,\n",
              " '2768768486087571@zone_air_temperature_sensor': 21,\n",
              " '2810271246509820@zone_air_temperature_sensor': 22,\n",
              " '2705858092749449@zone_air_temperature_sensor': 23,\n",
              " '2693840961422865@zone_air_temperature_sensor': 24,\n",
              " '2740082748651605@zone_air_temperature_sensor': 25,\n",
              " '2802781341872564@zone_air_temperature_sensor': 26,\n",
              " '2568004980110825@zone_air_temperature_sensor': 27,\n",
              " '2791846410789505@zone_air_temperature_sensor': 28,\n",
              " '2651420801112308@zone_air_temperature_sensor': 29,\n",
              " '2792140000757803@zone_air_temperature_sensor': 30,\n",
              " '2788179547754974@zone_air_temperature_sensor': 31,\n",
              " '2747395873491002@zone_air_temperature_sensor': 32,\n",
              " '2618581107144046@zone_air_temperature_sensor': 33,\n",
              " '2656676039327836@zone_air_temperature_sensor': 34,\n",
              " '2794597849078830@zone_air_temperature_sensor': 35,\n",
              " '2601599180090084@zone_air_temperature_sensor': 36,\n",
              " '2546477821573302@zone_air_temperature_sensor': 37,\n",
              " '2743847121700440@zone_air_temperature_sensor': 38,\n",
              " '2803088381116360@zone_air_temperature_sensor': 39,\n",
              " '2731964581915812@zone_air_temperature_sensor': 40,\n",
              " '2684239960710884@zone_air_temperature_sensor': 41,\n",
              " '2786928005384747@zone_air_temperature_sensor': 42,\n",
              " '2584468317047883@zone_air_temperature_sensor': 43,\n",
              " '2687242320524339@zone_air_temperature_sensor': 44,\n",
              " '2612620611294283@zone_air_temperature_sensor': 45,\n",
              " '2580539066022773@zone_air_temperature_sensor': 46,\n",
              " '2691496710334693@zone_air_temperature_sensor': 47,\n",
              " '2764530915698643@zone_air_temperature_sensor': 48,\n",
              " '2658280459967125@zone_air_temperature_sensor': 49,\n",
              " '2641439892024140@zone_air_temperature_sensor': 50,\n",
              " '2795032460499273@zone_air_temperature_sensor': 51,\n",
              " '2696593986887004@zone_air_temperature_sensor': 52,\n",
              " '2728593088050266@zone_air_temperature_sensor': 53,\n",
              " '2545072728476481@zone_air_temperature_sensor': 54,\n",
              " '2588159730413024@zone_air_temperature_sensor': 55,\n",
              " '2619215732412810@zone_air_temperature_sensor': 56,\n",
              " '2812366126877759@zone_air_temperature_sensor': 57,\n",
              " '2752553640836480@zone_air_temperature_sensor': 58,\n",
              " '2578850932476951@zone_air_temperature_sensor': 59,\n",
              " '2613479607618585@zone_air_temperature_sensor': 60,\n",
              " '2725518459642243@zone_air_temperature_sensor': 61,\n",
              " '2782657836669444@zone_air_temperature_sensor': 62,\n",
              " '2739555701122103@zone_air_temperature_sensor': 63,\n",
              " '2786127182232356@zone_air_temperature_sensor': 64,\n",
              " '2607380776570984@zone_air_temperature_sensor': 65,\n",
              " '2811944693103115@zone_air_temperature_sensor': 66,\n",
              " '2627283060405570@zone_air_temperature_sensor': 67,\n",
              " '2558614727946404@zone_air_temperature_sensor': 68,\n",
              " '2680684754684585@zone_air_temperature_sensor': 69,\n",
              " '2607531467124107@zone_air_temperature_sensor': 70,\n",
              " '2656411871653032@zone_air_temperature_sensor': 71,\n",
              " '2603432823050217@zone_air_temperature_sensor': 72,\n",
              " '2684906181773151@zone_air_temperature_sensor': 73,\n",
              " '2590610591373965@zone_air_temperature_sensor': 74,\n",
              " '2776979270669786@zone_air_temperature_sensor': 75,\n",
              " '2622037806906769@zone_air_temperature_sensor': 76,\n",
              " '2560929853112707@zone_air_temperature_sensor': 77,\n",
              " '2703938812282949@zone_air_temperature_sensor': 78,\n",
              " '2580869304551907@zone_air_temperature_sensor': 79,\n",
              " '2599277484308959@zone_air_temperature_sensor': 80,\n",
              " '2792898514969792@zone_air_temperature_sensor': 81,\n",
              " '2726572904605154@zone_air_temperature_sensor': 82,\n",
              " '2605375500053318@zone_air_temperature_sensor': 83,\n",
              " '2734562572216344@zone_air_temperature_sensor': 84,\n",
              " '2715399727027143@zone_air_temperature_sensor': 85,\n",
              " '2746959064186014@zone_air_temperature_sensor': 86,\n",
              " '2698594043420456@zone_air_temperature_sensor': 87,\n",
              " '2779757898406144@zone_air_temperature_sensor': 88,\n",
              " '2667818838237334@zone_air_temperature_sensor': 89,\n",
              " '2577372819803107@zone_air_temperature_sensor': 90,\n",
              " '2657554847589841@zone_air_temperature_sensor': 91,\n",
              " '2736579912341782@zone_air_temperature_sensor': 92,\n",
              " '2703995402831823@zone_air_temperature_sensor': 93,\n",
              " '2758068039436455@zone_air_temperature_sensor': 94,\n",
              " '2712344453081531@zone_air_temperature_sensor': 95,\n",
              " '2555387941965464@zone_air_temperature_sensor': 96,\n",
              " '2683563351071572@zone_air_temperature_sensor': 97,\n",
              " '2706839052470546@zone_air_temperature_sensor': 98,\n",
              " '2749879183751781@zone_air_temperature_sensor': 99,\n",
              " '2620112368775269@zone_air_temperature_sensor': 100,\n",
              " '2807442344300820@zone_air_temperature_sensor': 101,\n",
              " '2806531358805482@zone_air_temperature_sensor': 102,\n",
              " '2674020841435318@zone_air_temperature_sensor': 103,\n",
              " '2590087554896009@zone_air_temperature_sensor': 104,\n",
              " '2618254258255786@zone_air_temperature_sensor': 105,\n",
              " '2787448836354673@zone_air_temperature_sensor': 106,\n",
              " '2717096440251637@zone_air_temperature_sensor': 107,\n",
              " '16286830034440683520@zone_air_temperature_sensor': 108,\n",
              " '2578744141471091@zone_air_temperature_sensor': 109,\n",
              " '2657144210326005@zone_air_temperature_sensor': 110,\n",
              " '2720359073646091@zone_air_temperature_sensor': 111,\n",
              " '2766271641619615@zone_air_temperature_sensor': 112,\n",
              " '2696383178287941@zone_air_temperature_sensor': 113,\n",
              " '2591831048896702@zone_air_temperature_sensor': 114,\n",
              " '2538526995118004@zone_air_temperature_sensor': 115,\n",
              " '2651594506537727@zone_air_temperature_sensor': 116,\n",
              " '2696614388023593@zone_air_temperature_sensor': 117,\n",
              " '2720149542779272@zone_air_temperature_sensor': 118,\n",
              " '2805009894538456@zone_air_temperature_sensor': 119,\n",
              " '2559962019321287@zone_air_temperature_sensor': 120,\n",
              " '2606839440408366@zone_air_temperature_sensor': 121,\n",
              " '2640423556868160@zone_air_temperature_sensor': 122}"
            ]
          },
          "execution_count": 3,
          "metadata": {},
          "output_type": "execute_result"
        }
      ],
      "source": [
        "# Train data:\n",
        "data['observation_value_matrix']\n",
        "metadata[\"observation_ids\"]\n",
        "metadata[\"observation_timestamps\"]\n",
        "\n",
        "data['action_value_matrix']\n",
        "metadata[\"action_ids\"]\n",
        "\n",
        "floorplan\n",
        "device_layout_map\n",
        "metadata[\"device_infos\"]\n",
        "\n",
        "# Validation data:\n",
        "data_val['action_value_matrix']\n",
        "metadata_val[\"action_ids\"]\n",
        "metadata_val[\"observation_timestamps\"]\n",
        "floorplan\n",
        "device_layout_map\n",
        "\n",
        "exogenous_observation_data\n",
        "exogenous_observation_data_ids\n",
        "initial_condition\n",
        "\n",
        "# Predict:\n",
        "temp_data\n",
        "temp_data_ids\n",
        "\n",
        "\n",
        "\n",
        "\n",
        "\n"
      ]
    },
    {
      "cell_type": "code",
      "execution_count": 4,
      "metadata": {
        "colab": {
          "base_uri": "https://localhost:8080/",
          "height": 433
        },
        "id": "2NmpFoxupB_4",
        "outputId": "7bbca74a-8be7-49f3-e7d9-b8cb6b715665"
      },
      "outputs": [
        {
          "data": {
            "image/png": "[encoded data removed]",
            "text/plain": [
              "<Figure size 640x480 with 1 Axes>"
            ]
          },
          "metadata": {},
          "output_type": "display_data"
        }
      ],
      "source": [
        "from matplotlib import pyplot as plt\n",
        "plt.imshow(floorplan, interpolation='nearest')\n",
        "plt.show()"
      ]
    },
    {
      "cell_type": "code",
      "execution_count": 5,
      "metadata": {
        "colab": {
          "base_uri": "https://localhost:8080/"
        },
        "id": "b_nY6uSJzp9B",
        "outputId": "3c6cbaf2-5ea5-4fc0-ee40-d8b63519536e"
      },
      "outputs": [
        {
          "data": {
            "text/plain": [
              "{'device_id': '202194278473007104',\n",
              " 'namespace': 'PHRED',\n",
              " 'code': 'SB1:AHU:AC-2',\n",
              " 'zone_id': '',\n",
              " 'device_type': 6,\n",
              " 'observable_fields': {'building_air_static_pressure_sensor': 1,\n",
              "  'outside_air_flowrate_sensor': 1,\n",
              "  'supply_fan_speed_percentage_command': 1,\n",
              "  'supply_air_temperature_sensor': 1,\n",
              "  'supply_fan_speed_frequency_sensor': 1,\n",
              "  'supply_air_static_pressure_setpoint': 1,\n",
              "  'return_air_temperature_sensor': 1,\n",
              "  'mixed_air_temperature_setpoint': 1,\n",
              "  'exhaust_fan_speed_percentage_command': 1,\n",
              "  'exhaust_fan_speed_frequency_sensor': 1,\n",
              "  'outside_air_damper_percentage_command': 1,\n",
              "  'mixed_air_temperature_sensor': 1,\n",
              "  'exhaust_air_damper_percentage_command': 1,\n",
              "  'cooling_percentage_command': 1,\n",
              "  'outside_air_flowrate_setpoint': 1,\n",
              "  'supply_air_temperature_setpoint': 1,\n",
              "  'building_air_static_pressure_setpoint': 1,\n",
              "  'supply_air_static_pressure_sensor': 1},\n",
              " 'action_fields': {'exhaust_air_damper_percentage_command': 1,\n",
              "  'supply_air_temperature_setpoint': 1,\n",
              "  'supply_fan_speed_percentage_command': 1,\n",
              "  'outside_air_flowrate_setpoint': 1,\n",
              "  'cooling_percentage_command': 1,\n",
              "  'mixed_air_temperature_setpoint': 1,\n",
              "  'exhaust_fan_speed_percentage_command': 1,\n",
              "  'outside_air_damper_percentage_command': 1,\n",
              "  'supply_air_static_pressure_setpoint': 1,\n",
              "  'building_air_static_pressure_setpoint': 1}}"
            ]
          },
          "execution_count": 5,
          "metadata": {},
          "output_type": "execute_result"
        }
      ],
      "source": [
        "metadata[\"device_infos\"][0]\n"
      ]
    },
    {
      "cell_type": "code",
      "execution_count": 6,
      "metadata": {
        "colab": {
          "base_uri": "https://localhost:8080/"
        },
        "id": "UWdBLwOqN1zQ",
        "outputId": "15a44d0b-9681-46fa-f773-6bdd5d3157ac"
      },
      "outputs": [
        {
          "data": {
            "text/plain": [
              "{'zone_id': 'rooms/1002000133978',\n",
              " 'building_id': 'buildings/3616672508',\n",
              " 'zone_description': 'SB1-2-C2054',\n",
              " 'area': 0.0,\n",
              " 'zone_type': 1,\n",
              " 'floor': 2,\n",
              " 'devices': ['2618581107144046', '2696593986887004']}"
            ]
          },
          "execution_count": 6,
          "metadata": {},
          "output_type": "execute_result"
        }
      ],
      "source": [
        "metadata[\"zone_infos\"][0]\n"
      ]
    },
    {
      "cell_type": "code",
      "execution_count": 7,
      "metadata": {
        "colab": {
          "base_uri": "https://localhost:8080/"
        },
        "id": "_qeF5KeBpsnV",
        "outputId": "49548b36-6e05-4e76-c3b4-91878481e786"
      },
      "outputs": [
        {
          "data": {
            "text/plain": [
              "(53292, 123)"
            ]
          },
          "execution_count": 7,
          "metadata": {},
          "output_type": "execute_result"
        }
      ],
      "source": [
        "temp_data.shape"
      ]
    },
    {
      "cell_type": "code",
      "execution_count": 8,
      "metadata": {
        "colab": {
          "base_uri": "https://localhost:8080/"
        },
        "id": "PxgShqhKptxl",
        "outputId": "daa85e42-f38f-44ed-86fd-aa93b8d3dc91"
      },
      "outputs": [
        {
          "name": "stdout",
          "output_type": "stream",
          "text": [
            "0.10406372865800263\n"
          ]
        }
      ],
      "source": [
        "print((temp_data==0).sum()/(temp_data.shape[0]*temp_data.shape[1]))"
      ]
    },
    {
      "cell_type": "code",
      "execution_count": 9,
      "metadata": {
        "colab": {
          "base_uri": "https://localhost:8080/"
        },
        "id": "_lr3ZxNcp4wH",
        "outputId": "da12dd75-7f4e-4f22-9d84-daf917a8a935"
      },
      "outputs": [
        {
          "data": {
            "text/plain": [
              "0.28568066460576663"
            ]
          },
          "execution_count": 9,
          "metadata": {},
          "output_type": "execute_result"
        }
      ],
      "source": [
        "indexes1 = [v for k, v in metadata['observation_ids'].items() if \"zone_air_temperature_sensor\" in k]\n",
        "temp_data_train = data['observation_value_matrix'][:, indexes1]\n",
        "\n",
        "(temp_data_train==0).sum()/(temp_data_train.shape[0]*temp_data_train.shape[1])"
      ]
    },
    {
      "cell_type": "code",
      "execution_count": 10,
      "metadata": {},
      "outputs": [
        {
          "name": "stdout",
          "output_type": "stream",
          "text": [
            "Starting temperature preprocessing...\n",
            "Extracting arrays from NpzFile objects...\n",
            "Training observation matrix shape: (51852, 1198)\n",
            "Validation exogenous matrix shape: (53292, 1075)\n",
            "Validation temperature matrix shape: (53292, 123)\n",
            "\n",
            "============================================================\n",
            "PREPROCESSING TRAINING DATA\n",
            "============================================================\n",
            "\n",
            "=== Temperature Preprocessing for training data ===\n",
            "Found 246 temperature sensors\n",
            "Found 357 temperature setpoints\n",
            "  Converting 36921/51852 values in 202194278473007104@return_air_temperature_sensor\n",
            "    Before: min=284.43, max=307.39\n",
            "    After:  min=52.30, max=93.64\n",
            "  Converting 36921/51852 values in 202194278473007104@mixed_air_temperature_sensor\n",
            "    Before: min=281.87, max=305.57\n",
            "    After:  min=47.69, max=90.35\n",
            "  Converting 36921/51852 values in 202194278473007104@supply_air_temperature_sensor\n",
            "    Before: min=280.11, max=305.19\n",
            "    After:  min=44.53, max=89.67\n",
            "  Converting 36758/51852 values in 2291864505572917248@outside_air_wetbulb_temperature_sensor\n",
            "    Before: min=273.01, max=293.60\n",
            "    After:  min=31.74, max=68.82\n",
            "  Converting 33690/51852 values in 2291864505572917248@outside_air_dewpoint_temperature_sensor\n",
            "    Before: min=273.00, max=290.19\n",
            "    After:  min=31.73, max=62.67\n",
            "  Converting 36876/51852 values in 2291864505572917248@outside_air_temperature_sensor\n",
            "    Before: min=273.01, max=311.09\n",
            "    After:  min=31.75, max=100.29\n",
            "  Converting 35112/51852 values in 3111519637754347520@return_water_temperature_sensor\n",
            "    Before: min=286.66, max=366.73\n",
            "    After:  min=56.32, max=200.44\n",
            "  Converting 35112/51852 values in 8729789859712991232@supply_water_temperature_sensor\n",
            "    Before: min=276.91, max=372.09\n",
            "    After:  min=38.78, max=210.09\n",
            "  Converting 35112/51852 values in 8804069566750654464@supply_water_temperature_sensor\n",
            "    Before: min=277.46, max=369.39\n",
            "    After:  min=39.76, max=205.24\n",
            "  Converting 35107/51852 values in 11251805651040468992@supply_water_temperature_sensor\n",
            "    Before: min=277.46, max=369.39\n",
            "    After:  min=39.76, max=205.24\n",
            "  Converting 36916/51852 values in 12945159110931775488@mixed_air_temperature_sensor\n",
            "    Before: min=278.42, max=306.00\n",
            "    After:  min=41.48, max=91.14\n",
            "  Converting 36916/51852 values in 12945159110931775488@return_air_temperature_sensor\n",
            "    Before: min=283.79, max=304.72\n",
            "    After:  min=51.15, max=88.83\n",
            "  Converting 36916/51852 values in 12945159110931775488@supply_air_temperature_sensor\n",
            "    Before: min=281.46, max=304.89\n",
            "    After:  min=46.96, max=89.13\n",
            "  Converting 35112/51852 values in 13761436543392677888@supply_water_temperature_sensor\n",
            "    Before: min=285.18, max=370.69\n",
            "    After:  min=53.65, max=207.57\n",
            "  Converting 35112/51852 values in 13761436543392677888@return_water_temperature_sensor\n",
            "    Before: min=286.66, max=366.73\n",
            "    After:  min=56.32, max=200.44\n",
            "  Converting 36922/51852 values in 14409954889734029312@return_air_temperature_sensor\n",
            "    Before: min=284.43, max=307.39\n",
            "    After:  min=52.30, max=93.64\n",
            "  Converting 36922/51852 values in 14409954889734029312@supply_air_temperature_sensor\n",
            "    Before: min=280.11, max=305.19\n",
            "    After:  min=44.53, max=89.67\n",
            "  Converting 36922/51852 values in 14409954889734029312@mixed_air_temperature_sensor\n",
            "    Before: min=282.11, max=305.57\n",
            "    After:  min=48.12, max=90.35\n",
            "  Converting 35112/51852 values in 14955986657738752000@supply_water_temperature_sensor\n",
            "    Before: min=276.91, max=372.09\n",
            "    After:  min=38.78, max=210.09\n",
            "  Converting 36779/51852 values in 16286830034440683520@mixed_air_temperature_sensor\n",
            "    Before: min=283.76, max=313.93\n",
            "    After:  min=51.10, max=105.40\n",
            "  Converting 36779/51852 values in 16286830034440683520@zone_air_temperature_sensor\n",
            "    Before: min=294.76, max=301.37\n",
            "    After:  min=70.90, max=82.80\n",
            "  Converting 36779/51852 values in 16286830034440683520@discharge_air_temperature_sensor\n",
            "    Before: min=276.18, max=305.31\n",
            "    After:  min=37.45, max=89.90\n",
            "  Converting 36779/51852 values in 16286830034440683520@return_air_temperature_sensor\n",
            "    Before: min=293.54, max=308.70\n",
            "    After:  min=68.70, max=96.00\n",
            "  Converting 36921/51852 values in 202194278473007104@supply_air_temperature_setpoint\n",
            "    Before: min=285.93, max=297.04\n",
            "    After:  min=55.00, max=75.00\n",
            "  Converting 36921/51852 values in 202194278473007104@mixed_air_temperature_setpoint\n",
            "    Before: min=284.81, max=295.93\n",
            "    After:  min=53.00, max=73.00\n",
            "  Converting 36916/51852 values in 12945159110931775488@supervisor_supply_air_temperature_setpoint\n",
            "    Before: min=291.48, max=291.48\n",
            "    After:  min=65.00, max=65.00\n",
            "  Converting 36916/51852 values in 12945159110931775488@mixed_air_temperature_setpoint\n",
            "    Before: min=284.81, max=295.93\n",
            "    After:  min=53.00, max=73.00\n",
            "  Converting 36916/51852 values in 12945159110931775488@program_supply_air_temperature_setpoint\n",
            "    Before: min=285.93, max=297.04\n",
            "    After:  min=55.00, max=75.00\n",
            "  Converting 36916/51852 values in 12945159110931775488@supply_air_temperature_setpoint\n",
            "    Before: min=285.93, max=297.04\n",
            "    After:  min=55.00, max=75.00\n",
            "  Converting 35112/51852 values in 13761436543392677888@supervisor_supply_water_temperature_setpoint\n",
            "    Before: min=327.59, max=327.59\n",
            "    After:  min=130.00, max=130.00\n",
            "  Converting 35112/51852 values in 13761436543392677888@supply_water_temperature_setpoint\n",
            "    Before: min=310.93, max=352.59\n",
            "    After:  min=100.00, max=175.00\n",
            "  Converting 35112/51852 values in 13761436543392677888@program_supply_water_temperature_setpoint\n",
            "    Before: min=333.15, max=369.26\n",
            "    After:  min=140.00, max=205.00\n",
            "  Converting 36922/51852 values in 14409954889734029312@mixed_air_temperature_setpoint\n",
            "    Before: min=284.81, max=295.93\n",
            "    After:  min=53.00, max=73.00\n",
            "  Converting 36922/51852 values in 14409954889734029312@program_supply_air_temperature_setpoint\n",
            "    Before: min=285.93, max=297.04\n",
            "    After:  min=55.00, max=75.00\n",
            "  Converting 36922/51852 values in 14409954889734029312@supervisor_supply_air_temperature_setpoint\n",
            "    Before: min=291.48, max=291.48\n",
            "    After:  min=65.00, max=65.00\n",
            "  Converting 36922/51852 values in 14409954889734029312@supply_air_temperature_setpoint\n",
            "    Before: min=285.93, max=297.04\n",
            "    After:  min=55.00, max=75.00\n",
            "  Converting 36779/51852 values in 16286830034440683520@zone_air_cooling_temperature_setpoint\n",
            "    Before: min=298.70, max=298.70\n",
            "    After:  min=78.00, max=78.00\n",
            "\n",
            "Conversion Summary for training data:\n",
            "  Temperature sensors converted: 23\n",
            "  Temperature setpoints converted: 14\n",
            "  Total values converted: 1343805\n",
            "\n",
            "============================================================\n",
            "PREPROCESSING VALIDATION EXOGENOUS DATA\n",
            "============================================================\n",
            "\n",
            "=== Temperature Preprocessing for validation exogenous data ===\n",
            "Found 123 temperature sensors\n",
            "Found 357 temperature setpoints\n",
            "  Converting 39124/53292 values in 202194278473007104@return_air_temperature_sensor\n",
            "    Before: min=283.89, max=312.25\n",
            "    After:  min=51.33, max=102.39\n",
            "  Converting 39124/53292 values in 202194278473007104@mixed_air_temperature_sensor\n",
            "    Before: min=280.86, max=308.40\n",
            "    After:  min=45.87, max=95.45\n",
            "  Converting 39124/53292 values in 202194278473007104@supply_air_temperature_sensor\n",
            "    Before: min=281.47, max=310.96\n",
            "    After:  min=46.98, max=100.06\n",
            "  Converting 39126/53292 values in 2291864505572917248@outside_air_wetbulb_temperature_sensor\n",
            "    Before: min=273.34, max=295.94\n",
            "    After:  min=32.34, max=73.02\n",
            "  Converting 38692/53292 values in 2291864505572917248@outside_air_dewpoint_temperature_sensor\n",
            "    Before: min=273.00, max=291.79\n",
            "    After:  min=31.73, max=65.55\n",
            "  Converting 39127/53292 values in 2291864505572917248@outside_air_temperature_sensor\n",
            "    Before: min=273.89, max=311.89\n",
            "    After:  min=33.34, max=101.74\n",
            "  Converting 42465/53292 values in 3111519637754347520@return_water_temperature_sensor\n",
            "    Before: min=287.88, max=369.87\n",
            "    After:  min=58.51, max=206.10\n",
            "  Converting 42464/53292 values in 8729789859712991232@supply_water_temperature_sensor\n",
            "    Before: min=276.93, max=371.51\n",
            "    After:  min=38.80, max=209.06\n",
            "  Converting 42464/53292 values in 8804069566750654464@supply_water_temperature_sensor\n",
            "    Before: min=277.20, max=369.73\n",
            "    After:  min=39.30, max=205.85\n",
            "  Converting 42464/53292 values in 11251805651040468992@supply_water_temperature_sensor\n",
            "    Before: min=277.20, max=369.73\n",
            "    After:  min=39.30, max=205.85\n",
            "  Converting 39127/53292 values in 12945159110931775488@mixed_air_temperature_sensor\n",
            "    Before: min=278.83, max=312.90\n",
            "    After:  min=42.23, max=103.55\n",
            "  Converting 39127/53292 values in 12945159110931775488@return_air_temperature_sensor\n",
            "    Before: min=283.23, max=313.38\n",
            "    After:  min=50.14, max=104.42\n",
            "  Converting 39127/53292 values in 12945159110931775488@supply_air_temperature_sensor\n",
            "    Before: min=282.13, max=315.68\n",
            "    After:  min=48.16, max=108.56\n",
            "  Converting 42465/53292 values in 13761436543392677888@supply_water_temperature_sensor\n",
            "    Before: min=287.69, max=367.33\n",
            "    After:  min=58.18, max=201.53\n",
            "  Converting 42465/53292 values in 13761436543392677888@return_water_temperature_sensor\n",
            "    Before: min=287.88, max=369.87\n",
            "    After:  min=58.51, max=206.10\n",
            "  Converting 39124/53292 values in 14409954889734029312@return_air_temperature_sensor\n",
            "    Before: min=283.89, max=312.25\n",
            "    After:  min=51.33, max=102.39\n",
            "  Converting 39124/53292 values in 14409954889734029312@supply_air_temperature_sensor\n",
            "    Before: min=281.47, max=310.96\n",
            "    After:  min=46.98, max=100.06\n",
            "  Converting 39124/53292 values in 14409954889734029312@mixed_air_temperature_sensor\n",
            "    Before: min=280.86, max=308.40\n",
            "    After:  min=45.87, max=95.45\n",
            "  Converting 42464/53292 values in 14955986657738752000@supply_water_temperature_sensor\n",
            "    Before: min=276.93, max=371.51\n",
            "    After:  min=38.80, max=209.06\n",
            "  Converting 47946/53292 values in 16286830034440683520@mixed_air_temperature_sensor\n",
            "    Before: min=284.37, max=312.15\n",
            "    After:  min=52.20, max=102.20\n",
            "  Converting 47946/53292 values in 16286830034440683520@discharge_air_temperature_sensor\n",
            "    Before: min=276.56, max=304.95\n",
            "    After:  min=38.15, max=89.25\n",
            "  Converting 47946/53292 values in 16286830034440683520@return_air_temperature_sensor\n",
            "    Before: min=292.81, max=308.70\n",
            "    After:  min=67.40, max=96.00\n",
            "  Converting 39127/53292 values in 202194278473007104@supply_air_temperature_setpoint\n",
            "    Before: min=285.00, max=297.04\n",
            "    After:  min=53.34, max=75.00\n",
            "  Converting 39127/53292 values in 202194278473007104@mixed_air_temperature_setpoint\n",
            "    Before: min=283.89, max=295.93\n",
            "    After:  min=51.34, max=73.00\n",
            "  Converting 39127/53292 values in 12945159110931775488@supervisor_supply_air_temperature_setpoint\n",
            "    Before: min=285.00, max=416.65\n",
            "    After:  min=53.33, max=290.29\n",
            "  Converting 39127/53292 values in 12945159110931775488@mixed_air_temperature_setpoint\n",
            "    Before: min=283.89, max=296.77\n",
            "    After:  min=51.33, max=74.52\n",
            "  Converting 39127/53292 values in 12945159110931775488@program_supply_air_temperature_setpoint\n",
            "    Before: min=285.93, max=297.04\n",
            "    After:  min=55.00, max=75.00\n",
            "  Converting 39127/53292 values in 12945159110931775488@supply_air_temperature_setpoint\n",
            "    Before: min=285.00, max=297.89\n",
            "    After:  min=53.33, max=76.52\n",
            "  Converting 42464/53292 values in 13761436543392677888@supervisor_supply_water_temperature_setpoint\n",
            "    Before: min=310.00, max=355.00\n",
            "    After:  min=98.33, max=179.33\n",
            "  Converting 42466/53292 values in 13761436543392677888@supply_water_temperature_setpoint\n",
            "    Before: min=310.00, max=352.59\n",
            "    After:  min=98.33, max=175.00\n",
            "  Converting 42318/53292 values in 13761436543392677888@program_supply_water_temperature_setpoint\n",
            "    Before: min=333.15, max=369.26\n",
            "    After:  min=140.00, max=205.00\n",
            "  Converting 39127/53292 values in 14409954889734029312@mixed_air_temperature_setpoint\n",
            "    Before: min=283.89, max=295.93\n",
            "    After:  min=51.34, max=73.00\n",
            "  Converting 39127/53292 values in 14409954889734029312@program_supply_air_temperature_setpoint\n",
            "    Before: min=285.93, max=297.04\n",
            "    After:  min=55.00, max=75.00\n",
            "  Converting 39127/53292 values in 14409954889734029312@supervisor_supply_air_temperature_setpoint\n",
            "    Before: min=285.00, max=416.56\n",
            "    After:  min=53.33, max=290.14\n",
            "  Converting 39127/53292 values in 14409954889734029312@supply_air_temperature_setpoint\n",
            "    Before: min=285.00, max=297.04\n",
            "    After:  min=53.34, max=75.00\n",
            "  Converting 47946/53292 values in 16286830034440683520@zone_air_cooling_temperature_setpoint\n",
            "    Before: min=298.70, max=298.70\n",
            "    After:  min=78.00, max=78.00\n",
            "\n",
            "Conversion Summary for validation exogenous data:\n",
            "  Temperature sensors converted: 22\n",
            "  Temperature setpoints converted: 14\n",
            "  Total values converted: 1476623\n",
            "\n",
            "============================================================\n",
            "PREPROCESSING VALIDATION TEMPERATURE DATA (TARGETS)\n",
            "============================================================\n",
            "\n",
            "=== Temperature Preprocessing for validation temperature targets ===\n",
            "  Converting 47946/53292 values in 16286830034440683520@zone_air_temperature_sensor\n",
            "    Before: min=295.87, max=305.37\n",
            "    After:  min=72.90, max=90.00\n",
            "\n",
            "Conversion Summary for validation temperature targets:\n",
            "  Temperature sensors converted: 1\n",
            "  Total values converted: 47946\n",
            "\n",
            "============================================================\n",
            "REMOVING ZERO TEMPERATURE READINGS\n",
            "============================================================\n",
            "\n",
            "============================================================\n",
            "REMOVING ZERO TEMPERATURE READINGS\n",
            "============================================================\n",
            "\n",
            "Cleaning training data...\n",
            "  Original training data: 51852 rows\n",
            "  Rows with zero temperatures: 16350\n",
            "  Rows to keep: 35502\n",
            "  Percentage kept: 68.5%\n",
            "\n",
            "Cleaning validation data...\n",
            "  Original validation data: 53292 rows\n",
            "  Rows with zero temperatures: 19415\n",
            "  Rows to keep: 33877\n",
            "  Percentage kept: 63.6%\n",
            "\n",
            "Data cleaning summary:\n",
            "  Training: 51852 -> 35502 rows\n",
            "  Validation: 53292 -> 33877 rows\n",
            "\n",
            "============================================================\n",
            "TEMPERATURE PREPROCESSING COMPLETED\n",
            "============================================================\n",
            "\n",
            "OVERALL CONVERSION SUMMARY:\n",
            "  Training data: 1343805 values converted\n",
            "  Validation exogenous: 1476623 values converted\n",
            "  Validation targets: 47946 values converted\n",
            "  TOTAL: 2868374 temperature values converted from Kelvin to Fahrenheit\n",
            "\n",
            "OVERALL ZERO REMOVAL SUMMARY:\n",
            "  Training data: 51852 -> 35502 rows\n",
            "  Validation data: 53292 -> 33877 rows\n",
            "\n",
            "Updating global variables with cleaned and preprocessed data...\n",
            "Preprocessing complete! Now starting model training with Grouped PCA...\n",
            "Initializing Smart Buildings Predictor with Zone-Aware Grouped PCA...\n",
            "Preparing training data...\n",
            "Fitted imputer on training data (found 0 NaN values, 0.00%)\n",
            "NaN values after imputation: 0\n",
            "\n",
            "Fitting Zone-Aware Grouped PCA (max 3 components per group)...\n",
            "Creating zone-aware feature groups using actual zone metadata...\n",
            "Found 563 zones in metadata\n",
            "Mapped 127 devices to zones\n",
            "Analyzing features and mapping to zones...\n",
            "\n",
            "Zone-aware feature groups created:\n",
            "  Sample groups (showing 10 of 324):\n",
            "    setpoints_Device_202194278473007104: 3 features\n",
            "    environmental_Device_202194278473007104: 3 features\n",
            "    control_commands_Device_202194278473007104: 7 features\n",
            "    air_temperatures_Device_202194278473007104: 5 features\n",
            "    setpoints_SB1_1_C111: 4 features\n",
            "    setpoints_SB1_2_C213: 6 features\n",
            "    flow_pressure_SB1_2_C213: 2 features\n",
            "    control_commands_SB1_2_C213: 3 features\n",
            "    air_temperatures_SB1_2_2H3B: 2 features\n",
            "    control_commands_SB1_2_2H3B: 2 features\n",
            "    ... and 314 more groups\n",
            "\n",
            "Summary:\n",
            "  Total feature groups: 324\n",
            "  Total features categorized: 922/1075\n",
            "  Features per domain: {'setpoints': 413, 'environmental': 27, 'control': 226, 'air': 220, 'flow': 23, 'other': 4, 'water': 9}\n",
            "  Unique zones found: 321\n",
            "  Average features per group: 2.8\n",
            "  setpoints_Device_202194278473007104: 3 features → 3 components (explained variance: 1.000)\n",
            "  environmental_Device_202194278473007104: 3 features → 3 components (explained variance: 1.000)\n",
            "  control_commands_Device_202194278473007104: 7 features → 3 components (explained variance: 1.000)\n",
            "  air_temperatures_Device_202194278473007104: 5 features → 3 components (explained variance: 0.973)\n",
            "  setpoints_SB1_1_C111: 4 features → 3 components (explained variance: 1.000)\n",
            "  setpoints_SB1_2_C213: 6 features → 3 components (explained variance: 1.000)\n",
            "  flow_pressure_SB1_2_C213: 2 features → 2 components (explained variance: 1.000)\n",
            "  control_commands_SB1_2_C213: 3 features → 3 components (explained variance: 1.000)\n",
            "  air_temperatures_SB1_2_2H3B: 2 features → 2 components (explained variance: 1.000)\n",
            "  control_commands_SB1_2_2H3B: 2 features → 2 components (explained variance: 1.000)\n",
            "  ... (showing first 10 groups, 314 more groups fitted)\n",
            "\n",
            "Zone-Aware Grouped PCA Summary:\n",
            "  Original features: 1075\n",
            "  Total PCA components: 792\n",
            "  Successful feature groups: 324\n",
            "  Average components per group: 2.4\n",
            "  Dimensionality reduction: 1075 → 792\n",
            "  Reduction factor: 1.4x\n",
            "Training data shape: X=(35502, 809), y=(35502, 123)\n",
            "Feature names: 809 features\n",
            "WARNING: Large feature count (809). Consider reducing components_per_group.\n",
            "Training 96 fifteen-minute models (out of 96 possible)...\n",
            "Training model for time bin 0 (00:00-00:14)...\n"
          ]
        },
        {
          "name": "stderr",
          "output_type": "stream",
          "text": [
            "[I 2025-07-07 12:51:05,987] A new study created in memory with name: timebin_0\n",
            "[I 2025-07-07 12:52:11,832] Trial 0 finished with value: 1.783619339878611 and parameters: {'n_estimators': 125, 'max_depth': 4, 'learning_rate': 0.25114338443712053, 'subsample': 0.7484540743134267, 'colsample_bytree': 0.6029673403255533, 'reg_alpha': 7.232936228553694, 'reg_lambda': 9.063633560920994}. Best is trial 0 with value: 1.783619339878611.\n",
            "[I 2025-07-07 12:56:05,189] Trial 1 finished with value: 1.6828274393032525 and parameters: {'n_estimators': 267, 'max_depth': 6, 'learning_rate': 0.1148568043837944, 'subsample': 0.6984295686714826, 'colsample_bytree': 0.784794260926966, 'reg_alpha': 7.364291768878315, 'reg_lambda': 9.471775573746068}. Best is trial 1 with value: 1.6828274393032525.\n",
            "[I 2025-07-07 12:58:22,824] Trial 2 finished with value: 2.1143847601560877 and parameters: {'n_estimators': 204, 'max_depth': 5, 'learning_rate': 0.03097020296412692, 'subsample': 0.6311686609725266, 'colsample_bytree': 0.8216796900676393, 'reg_alpha': 8.31793492727059, 'reg_lambda': 4.496704005975939}. Best is trial 1 with value: 1.6828274393032525.\n",
            "[I 2025-07-07 13:00:28,872] Trial 3 finished with value: 1.7186902059373557 and parameters: {'n_estimators': 165, 'max_depth': 5, 'learning_rate': 0.08866982846018955, 'subsample': 0.9567344690681931, 'colsample_bytree': 0.7755070101126011, 'reg_alpha': 5.458929801798077, 'reg_lambda': 9.617057817068224}. Best is trial 1 with value: 1.6828274393032525.\n",
            "[I 2025-07-07 13:01:58,718] Trial 4 finished with value: 1.5956067109967946 and parameters: {'n_estimators': 244, 'max_depth': 3, 'learning_rate': 0.25033270850260286, 'subsample': 0.7253227537255872, 'colsample_bytree': 0.6777598790279211, 'reg_alpha': 0.26416289924528724, 'reg_lambda': 0.4532604112527628}. Best is trial 4 with value: 1.5956067109967946.\n"
          ]
        },
        {
          "name": "stdout",
          "output_type": "stream",
          "text": [
            "Time bin 0 (00:00-00:14) - Best MAE: 1.5956\n"
          ]
        },
        {
          "name": "stderr",
          "output_type": "stream",
          "text": [
            "[I 2025-07-07 13:03:26,299] A new study created in memory with name: timebin_1\n"
          ]
        },
        {
          "name": "stdout",
          "output_type": "stream",
          "text": [
            "Training model for time bin 1 (00:15-00:29)...\n"
          ]
        },
        {
          "name": "stderr",
          "output_type": "stream",
          "text": [
            "[I 2025-07-07 13:04:41,436] Trial 0 finished with value: 1.6883203503455708 and parameters: {'n_estimators': 184, 'max_depth': 3, 'learning_rate': 0.19184835389094, 'subsample': 0.645235014138314, 'colsample_bytree': 0.9281748507736342, 'reg_alpha': 2.551231433487073, 'reg_lambda': 6.675727687591845}. Best is trial 0 with value: 1.6883203503455708.\n",
            "[I 2025-07-07 13:07:06,997] Trial 1 finished with value: 1.7176590840496804 and parameters: {'n_estimators': 223, 'max_depth': 5, 'learning_rate': 0.0823889704481081, 'subsample': 0.6423995292425069, 'colsample_bytree': 0.6048885466743511, 'reg_alpha': 2.0321838781221104, 'reg_lambda': 4.00003368551919}. Best is trial 0 with value: 1.6883203503455708.\n",
            "[I 2025-07-07 13:08:09,193] Trial 2 finished with value: 2.1037063017495377 and parameters: {'n_estimators': 115, 'max_depth': 4, 'learning_rate': 0.05009427468662802, 'subsample': 0.9697571720893632, 'colsample_bytree': 0.6513456891566305, 'reg_alpha': 5.049965556811032, 'reg_lambda': 8.092204485366368}. Best is trial 0 with value: 1.6883203503455708.\n",
            "[I 2025-07-07 13:09:35,231] Trial 3 finished with value: 1.742557213277761 and parameters: {'n_estimators': 223, 'max_depth': 3, 'learning_rate': 0.26435158639916384, 'subsample': 0.7173254363364039, 'colsample_bytree': 0.603746496219582, 'reg_alpha': 6.2982756987252495, 'reg_lambda': 1.9594966995249339}. Best is trial 0 with value: 1.6883203503455708.\n",
            "[I 2025-07-07 13:12:19,776] Trial 4 finished with value: 1.813053036664314 and parameters: {'n_estimators': 192, 'max_depth': 6, 'learning_rate': 0.04806095661029636, 'subsample': 0.6829309164406685, 'colsample_bytree': 0.7088401308360773, 'reg_alpha': 5.05834834243752, 'reg_lambda': 1.0733447667954699}. Best is trial 0 with value: 1.6883203503455708.\n"
          ]
        },
        {
          "name": "stdout",
          "output_type": "stream",
          "text": [
            "Time bin 1 (00:15-00:29) - Best MAE: 1.6883\n",
            "Training model for time bin 2 (00:30-00:44)...\n"
          ]
        },
        {
          "name": "stderr",
          "output_type": "stream",
          "text": [
            "[I 2025-07-07 13:13:38,188] A new study created in memory with name: timebin_2\n",
            "[I 2025-07-07 13:15:27,653] Trial 0 finished with value: 1.681789061130151 and parameters: {'n_estimators': 124, 'max_depth': 5, 'learning_rate': 0.2739442631729998, 'subsample': 0.8355326403212587, 'colsample_bytree': 0.9330590054122506, 'reg_alpha': 9.154335624040542, 'reg_lambda': 0.6515173551234118}. Best is trial 0 with value: 1.681789061130151.\n",
            "[I 2025-07-07 13:17:50,190] Trial 1 finished with value: 1.743181961742748 and parameters: {'n_estimators': 276, 'max_depth': 4, 'learning_rate': 0.04951846357133362, 'subsample': 0.754803214242348, 'colsample_bytree': 0.6222697881298792, 'reg_alpha': 8.23516436800709, 'reg_lambda': 8.641108633405459}. Best is trial 0 with value: 1.681789061130151.\n",
            "[I 2025-07-07 13:19:17,821] Trial 2 finished with value: 1.671399383702175 and parameters: {'n_estimators': 161, 'max_depth': 4, 'learning_rate': 0.23966529700753103, 'subsample': 0.7088033130302487, 'colsample_bytree': 0.6618274867102849, 'reg_alpha': 6.783030252824485, 'reg_lambda': 4.035948281651821}. Best is trial 2 with value: 1.671399383702175.\n",
            "[I 2025-07-07 13:22:23,467] Trial 3 finished with value: 1.6645547346968865 and parameters: {'n_estimators': 175, 'max_depth': 6, 'learning_rate': 0.2803350564408326, 'subsample': 0.7780908085032284, 'colsample_bytree': 0.8565165665403316, 'reg_alpha': 8.792999552968446, 'reg_lambda': 2.851853372605169}. Best is trial 3 with value: 1.6645547346968865.\n",
            "[I 2025-07-07 13:24:02,574] Trial 4 finished with value: 1.6387172550195737 and parameters: {'n_estimators': 161, 'max_depth': 4, 'learning_rate': 0.23341148962172434, 'subsample': 0.7987683489383006, 'colsample_bytree': 0.8029932877621025, 'reg_alpha': 9.800566788100086, 'reg_lambda': 9.155284201224434}. Best is trial 4 with value: 1.6387172550195737.\n"
          ]
        },
        {
          "name": "stdout",
          "output_type": "stream",
          "text": [
            "Time bin 2 (00:30-00:44) - Best MAE: 1.6387\n"
          ]
        },
        {
          "name": "stderr",
          "output_type": "stream",
          "text": [
            "[I 2025-07-07 13:25:46,212] A new study created in memory with name: timebin_3\n"
          ]
        },
        {
          "name": "stdout",
          "output_type": "stream",
          "text": [
            "Training model for time bin 3 (00:45-00:59)...\n"
          ]
        },
        {
          "name": "stderr",
          "output_type": "stream",
          "text": [
            "[I 2025-07-07 13:27:20,333] Trial 0 finished with value: 1.662813246157542 and parameters: {'n_estimators': 189, 'max_depth': 4, 'learning_rate': 0.08997821649665838, 'subsample': 0.6119118886034067, 'colsample_bytree': 0.6035003100128321, 'reg_alpha': 0.24751639603684358, 'reg_lambda': 5.463370680043381}. Best is trial 0 with value: 1.662813246157542.\n",
            "[I 2025-07-07 13:29:18,716] Trial 1 finished with value: 1.5352372148301865 and parameters: {'n_estimators': 195, 'max_depth': 4, 'learning_rate': 0.169655951852269, 'subsample': 0.8900958751239476, 'colsample_bytree': 0.8651352576929937, 'reg_alpha': 1.7788132362062739, 'reg_lambda': 7.724897500335223}. Best is trial 1 with value: 1.5352372148301865.\n",
            "[I 2025-07-07 13:32:29,397] Trial 2 finished with value: 1.500867334760409 and parameters: {'n_estimators': 229, 'max_depth': 5, 'learning_rate': 0.20516734226924074, 'subsample': 0.6677407287092786, 'colsample_bytree': 0.7993396034816921, 'reg_alpha': 3.609712446258198, 'reg_lambda': 8.658714210378589}. Best is trial 2 with value: 1.500867334760409.\n",
            "[I 2025-07-07 13:34:04,767] Trial 3 finished with value: 1.6049402738328227 and parameters: {'n_estimators': 236, 'max_depth': 3, 'learning_rate': 0.2557084289798082, 'subsample': 0.889950236709041, 'colsample_bytree': 0.8182683280245423, 'reg_alpha': 5.768656252176791, 'reg_lambda': 2.2658324805234926}. Best is trial 2 with value: 1.500867334760409.\n",
            "[I 2025-07-07 13:37:09,018] Trial 4 finished with value: 1.484307652501879 and parameters: {'n_estimators': 248, 'max_depth': 5, 'learning_rate': 0.22747004576746102, 'subsample': 0.9691556219299555, 'colsample_bytree': 0.6569263225115162, 'reg_alpha': 2.0362582163231417, 'reg_lambda': 0.3722299747432052}. Best is trial 4 with value: 1.484307652501879.\n"
          ]
        },
        {
          "name": "stdout",
          "output_type": "stream",
          "text": [
            "Time bin 3 (00:45-00:59) - Best MAE: 1.4843\n"
          ]
        },
        {
          "name": "stderr",
          "output_type": "stream",
          "text": [
            "[I 2025-07-07 13:40:26,889] A new study created in memory with name: timebin_4\n"
          ]
        },
        {
          "name": "stdout",
          "output_type": "stream",
          "text": [
            "Training model for time bin 4 (01:00-01:14)...\n"
          ]
        },
        {
          "name": "stderr",
          "output_type": "stream",
          "text": [
            "[I 2025-07-07 13:41:26,750] Trial 0 finished with value: 1.9127202211583343 and parameters: {'n_estimators': 145, 'max_depth': 3, 'learning_rate': 0.2699185086390224, 'subsample': 0.9595346684595942, 'colsample_bytree': 0.6299267693244499, 'reg_alpha': 7.990742391367157, 'reg_lambda': 0.04310589754540859}. Best is trial 0 with value: 1.9127202211583343.\n",
            "[I 2025-07-07 13:43:28,427] Trial 1 finished with value: 1.7769374462928365 and parameters: {'n_estimators': 107, 'max_depth': 6, 'learning_rate': 0.16044708697966545, 'subsample': 0.8171024349132074, 'colsample_bytree': 0.8010885416366774, 'reg_alpha': 4.3717277317298695, 'reg_lambda': 9.882606463047003}. Best is trial 1 with value: 1.7769374462928365.\n",
            "[I 2025-07-07 13:45:25,044] Trial 2 finished with value: 1.9919218900858107 and parameters: {'n_estimators': 196, 'max_depth': 4, 'learning_rate': 0.04561093826784593, 'subsample': 0.8412828781187794, 'colsample_bytree': 0.9454375636433315, 'reg_alpha': 7.718615925481866, 'reg_lambda': 5.094831973117696}. Best is trial 1 with value: 1.7769374462928365.\n",
            "[I 2025-07-07 13:46:52,974] Trial 3 finished with value: 1.8063733235670099 and parameters: {'n_estimators': 122, 'max_depth': 5, 'learning_rate': 0.11159487443527329, 'subsample': 0.7571986616928873, 'colsample_bytree': 0.7006630798836136, 'reg_alpha': 0.9117996711976946, 'reg_lambda': 6.678107013536861}. Best is trial 1 with value: 1.7769374462928365.\n",
            "[I 2025-07-07 13:49:47,022] Trial 4 finished with value: 1.7845950852567412 and parameters: {'n_estimators': 162, 'max_depth': 6, 'learning_rate': 0.21004967196821542, 'subsample': 0.6827570601567725, 'colsample_bytree': 0.908564446959023, 'reg_alpha': 6.216237167689092, 'reg_lambda': 1.029959271923283}. Best is trial 1 with value: 1.7769374462928365.\n"
          ]
        },
        {
          "name": "stdout",
          "output_type": "stream",
          "text": [
            "Time bin 4 (01:00-01:14) - Best MAE: 1.7769\n"
          ]
        },
        {
          "name": "stderr",
          "output_type": "stream",
          "text": [
            "[I 2025-07-07 13:51:56,440] A new study created in memory with name: timebin_5\n"
          ]
        },
        {
          "name": "stdout",
          "output_type": "stream",
          "text": [
            "Training model for time bin 5 (01:15-01:29)...\n"
          ]
        },
        {
          "name": "stderr",
          "output_type": "stream",
          "text": [
            "[I 2025-07-07 13:53:08,160] Trial 0 finished with value: 1.98013389315704 and parameters: {'n_estimators': 113, 'max_depth': 4, 'learning_rate': 0.07469536744073957, 'subsample': 0.9684808388866044, 'colsample_bytree': 0.9666246323006615, 'reg_alpha': 7.610188138365885, 'reg_lambda': 9.524882115473805}. Best is trial 0 with value: 1.98013389315704.\n",
            "[I 2025-07-07 13:54:27,566] Trial 1 finished with value: 1.9190428791157532 and parameters: {'n_estimators': 107, 'max_depth': 5, 'learning_rate': 0.1522995460571349, 'subsample': 0.8130183891168685, 'colsample_bytree': 0.6272236606361182, 'reg_alpha': 7.47072249526175, 'reg_lambda': 2.085275543131732}. Best is trial 1 with value: 1.9190428791157532.\n",
            "[I 2025-07-07 13:56:47,836] Trial 2 finished with value: 1.826680269301395 and parameters: {'n_estimators': 137, 'max_depth': 6, 'learning_rate': 0.07056915665575327, 'subsample': 0.9452774355551699, 'colsample_bytree': 0.7903729161600613, 'reg_alpha': 3.310070621627812, 'reg_lambda': 0.4674990707137309}. Best is trial 2 with value: 1.826680269301395.\n",
            "[I 2025-07-07 13:57:41,264] Trial 3 finished with value: 2.2614493587960847 and parameters: {'n_estimators': 125, 'max_depth': 3, 'learning_rate': 0.041593670971057414, 'subsample': 0.7411478727404243, 'colsample_bytree': 0.8479041819300375, 'reg_alpha': 4.525382570406693, 'reg_lambda': 3.796652807546905}. Best is trial 2 with value: 1.826680269301395.\n",
            "[I 2025-07-07 13:58:31,469] Trial 4 finished with value: 1.9176594595350542 and parameters: {'n_estimators': 109, 'max_depth': 3, 'learning_rate': 0.19554730231879466, 'subsample': 0.6697981226519032, 'colsample_bytree': 0.9400344270473969, 'reg_alpha': 2.30744352121217, 'reg_lambda': 2.736361957717556}. Best is trial 2 with value: 1.826680269301395.\n"
          ]
        },
        {
          "name": "stdout",
          "output_type": "stream",
          "text": [
            "Time bin 5 (01:15-01:29) - Best MAE: 1.8267\n"
          ]
        },
        {
          "name": "stderr",
          "output_type": "stream",
          "text": [
            "[I 2025-07-07 14:01:02,386] A new study created in memory with name: timebin_6\n"
          ]
        },
        {
          "name": "stdout",
          "output_type": "stream",
          "text": [
            "Training model for time bin 6 (01:30-01:44)...\n"
          ]
        },
        {
          "name": "stderr",
          "output_type": "stream",
          "text": [
            "[I 2025-07-07 14:03:07,068] Trial 0 finished with value: 1.756916167838978 and parameters: {'n_estimators': 288, 'max_depth': 3, 'learning_rate': 0.27957958138138245, 'subsample': 0.7313324958196037, 'colsample_bytree': 0.9032309949882454, 'reg_alpha': 9.555890222006273, 'reg_lambda': 8.320469143919416}. Best is trial 0 with value: 1.756916167838978.\n",
            "[I 2025-07-07 14:04:33,323] Trial 1 finished with value: 2.348013198662088 and parameters: {'n_estimators': 112, 'max_depth': 5, 'learning_rate': 0.03461650134820639, 'subsample': 0.7403035963082513, 'colsample_bytree': 0.7740981582000103, 'reg_alpha': 7.053242044864739, 'reg_lambda': 6.007541785031902}. Best is trial 0 with value: 1.756916167838978.\n",
            "[I 2025-07-07 14:06:53,010] Trial 2 finished with value: 1.4963079283948102 and parameters: {'n_estimators': 247, 'max_depth': 4, 'learning_rate': 0.2621547414574582, 'subsample': 0.8584799847303686, 'colsample_bytree': 0.8162471461103342, 'reg_alpha': 0.3100543901424416, 'reg_lambda': 4.798152247592265}. Best is trial 2 with value: 1.4963079283948102.\n",
            "[I 2025-07-07 14:09:27,604] Trial 3 finished with value: 1.5548081918670784 and parameters: {'n_estimators': 240, 'max_depth': 4, 'learning_rate': 0.2319380742579317, 'subsample': 0.9229053465309707, 'colsample_bytree': 0.9509407229003801, 'reg_alpha': 6.916841405052724, 'reg_lambda': 1.1408362103186787}. Best is trial 2 with value: 1.4963079283948102.\n",
            "[I 2025-07-07 14:11:54,202] Trial 4 finished with value: 1.688807657150745 and parameters: {'n_estimators': 176, 'max_depth': 5, 'learning_rate': 0.23971002331901514, 'subsample': 0.9261104212470139, 'colsample_bytree': 0.804839191695922, 'reg_alpha': 9.918161199959119, 'reg_lambda': 1.930370009793505}. Best is trial 2 with value: 1.4963079283948102.\n"
          ]
        },
        {
          "name": "stdout",
          "output_type": "stream",
          "text": [
            "Time bin 6 (01:30-01:44) - Best MAE: 1.4963\n"
          ]
        },
        {
          "name": "stderr",
          "output_type": "stream",
          "text": [
            "[I 2025-07-07 14:14:17,023] A new study created in memory with name: timebin_7\n"
          ]
        },
        {
          "name": "stdout",
          "output_type": "stream",
          "text": [
            "Training model for time bin 7 (01:45-01:59)...\n"
          ]
        },
        {
          "name": "stderr",
          "output_type": "stream",
          "text": [
            "[I 2025-07-07 14:18:17,684] Trial 0 finished with value: 1.4552189110481055 and parameters: {'n_estimators': 216, 'max_depth': 6, 'learning_rate': 0.2433038237219167, 'subsample': 0.9362284546788276, 'colsample_bytree': 0.8178137389841211, 'reg_alpha': 7.346590041214666, 'reg_lambda': 3.6321937089923972}. Best is trial 0 with value: 1.4552189110481055.\n",
            "[I 2025-07-07 14:20:50,304] Trial 1 finished with value: 1.5679829949960258 and parameters: {'n_estimators': 252, 'max_depth': 4, 'learning_rate': 0.25981080565318415, 'subsample': 0.7221653812555575, 'colsample_bytree': 0.6226196960650836, 'reg_alpha': 4.249529687136931, 'reg_lambda': 7.915991214473565}. Best is trial 0 with value: 1.4552189110481055.\n",
            "[I 2025-07-07 14:22:41,516] Trial 2 finished with value: 1.6231361793300536 and parameters: {'n_estimators': 110, 'max_depth': 5, 'learning_rate': 0.15589698976726102, 'subsample': 0.913072473487731, 'colsample_bytree': 0.927441636928939, 'reg_alpha': 6.756853664637124, 'reg_lambda': 0.5069886551278764}. Best is trial 0 with value: 1.4552189110481055.\n",
            "[I 2025-07-07 14:24:38,022] Trial 3 finished with value: 1.5517923590763731 and parameters: {'n_estimators': 277, 'max_depth': 3, 'learning_rate': 0.2920538972771184, 'subsample': 0.7640253233126351, 'colsample_bytree': 0.7841110417396709, 'reg_alpha': 1.6493364981073293, 'reg_lambda': 7.588243866352633}. Best is trial 0 with value: 1.4552189110481055.\n",
            "[I 2025-07-07 14:26:56,889] Trial 4 finished with value: 1.6323378742217582 and parameters: {'n_estimators': 160, 'max_depth': 6, 'learning_rate': 0.04683947566581053, 'subsample': 0.9445368189211113, 'colsample_bytree': 0.6788444862369044, 'reg_alpha': 0.4266342547601367, 'reg_lambda': 1.2472356314484965}. Best is trial 0 with value: 1.4552189110481055.\n"
          ]
        },
        {
          "name": "stdout",
          "output_type": "stream",
          "text": [
            "Time bin 7 (01:45-01:59) - Best MAE: 1.4552\n"
          ]
        },
        {
          "name": "stderr",
          "output_type": "stream",
          "text": [
            "[I 2025-07-07 14:31:21,494] A new study created in memory with name: timebin_8\n"
          ]
        },
        {
          "name": "stdout",
          "output_type": "stream",
          "text": [
            "Training model for time bin 8 (02:00-02:14)...\n"
          ]
        },
        {
          "name": "stderr",
          "output_type": "stream",
          "text": [
            "[I 2025-07-07 14:33:15,787] Trial 0 finished with value: 1.8150066706750125 and parameters: {'n_estimators': 192, 'max_depth': 4, 'learning_rate': 0.18067235749117683, 'subsample': 0.9766604696613801, 'colsample_bytree': 0.8840867590202313, 'reg_alpha': 9.712098223839519, 'reg_lambda': 0.013037060572337738}. Best is trial 0 with value: 1.8150066706750125.\n",
            "[I 2025-07-07 14:36:40,133] Trial 1 finished with value: 1.5125191426252593 and parameters: {'n_estimators': 247, 'max_depth': 5, 'learning_rate': 0.27418446796957535, 'subsample': 0.9751506902219246, 'colsample_bytree': 0.8300555591871619, 'reg_alpha': 4.312365842739331, 'reg_lambda': 7.4341493398088705}. Best is trial 1 with value: 1.5125191426252593.\n",
            "[I 2025-07-07 14:39:45,080] Trial 2 finished with value: 1.6073995606153677 and parameters: {'n_estimators': 238, 'max_depth': 5, 'learning_rate': 0.08587463261326633, 'subsample': 0.9340060853210919, 'colsample_bytree': 0.801521006984754, 'reg_alpha': 4.7302058097556765, 'reg_lambda': 5.1497529004918485}. Best is trial 1 with value: 1.5125191426252593.\n",
            "[I 2025-07-07 14:42:05,163] Trial 3 finished with value: 1.7757773439387037 and parameters: {'n_estimators': 255, 'max_depth': 4, 'learning_rate': 0.24891056766132366, 'subsample': 0.6773434248644977, 'colsample_bytree': 0.786325222426596, 'reg_alpha': 7.6434654885597455, 'reg_lambda': 6.6919924078181445}. Best is trial 1 with value: 1.5125191426252593.\n",
            "[I 2025-07-07 14:43:24,132] Trial 4 finished with value: 1.8906730924252724 and parameters: {'n_estimators': 150, 'max_depth': 4, 'learning_rate': 0.1568147912895303, 'subsample': 0.7006257303926428, 'colsample_bytree': 0.6539871364333636, 'reg_alpha': 5.626663624886158, 'reg_lambda': 9.790561413434267}. Best is trial 1 with value: 1.5125191426252593.\n"
          ]
        },
        {
          "name": "stdout",
          "output_type": "stream",
          "text": [
            "Time bin 8 (02:00-02:14) - Best MAE: 1.5125\n"
          ]
        },
        {
          "name": "stderr",
          "output_type": "stream",
          "text": [
            "[I 2025-07-07 14:46:54,439] A new study created in memory with name: timebin_9\n"
          ]
        },
        {
          "name": "stdout",
          "output_type": "stream",
          "text": [
            "Training model for time bin 9 (02:15-02:29)...\n"
          ]
        },
        {
          "name": "stderr",
          "output_type": "stream",
          "text": [
            "[I 2025-07-07 14:47:52,732] Trial 0 finished with value: 2.006696851846758 and parameters: {'n_estimators': 161, 'max_depth': 3, 'learning_rate': 0.0644067573330837, 'subsample': 0.7459585143183525, 'colsample_bytree': 0.6948759774496704, 'reg_alpha': 0.2921717916060944, 'reg_lambda': 9.438928013259055}. Best is trial 0 with value: 2.006696851846758.\n",
            "[I 2025-07-07 14:48:55,651] Trial 1 finished with value: 1.8227955973572876 and parameters: {'n_estimators': 123, 'max_depth': 4, 'learning_rate': 0.12365292823085407, 'subsample': 0.7711904566240836, 'colsample_bytree': 0.646331023336966, 'reg_alpha': 3.7080309209079063, 'reg_lambda': 6.142895834758691}. Best is trial 1 with value: 1.8227955973572876.\n",
            "[I 2025-07-07 14:51:05,234] Trial 2 finished with value: 1.6202883207337986 and parameters: {'n_estimators': 158, 'max_depth': 5, 'learning_rate': 0.10672020788157578, 'subsample': 0.8529256265589809, 'colsample_bytree': 0.9716537635460399, 'reg_alpha': 1.654405369935379, 'reg_lambda': 8.335797699429884}. Best is trial 2 with value: 1.6202883207337986.\n",
            "[I 2025-07-07 14:53:15,462] Trial 3 finished with value: 1.5226581086613367 and parameters: {'n_estimators': 282, 'max_depth': 4, 'learning_rate': 0.25210473062371896, 'subsample': 0.6646218314800924, 'colsample_bytree': 0.6094053330138207, 'reg_alpha': 0.45556998290060546, 'reg_lambda': 2.766890195830062}. Best is trial 3 with value: 1.5226581086613367.\n",
            "[I 2025-07-07 14:54:45,308] Trial 4 finished with value: 1.675959200713283 and parameters: {'n_estimators': 169, 'max_depth': 4, 'learning_rate': 0.14230640653020316, 'subsample': 0.7316812118105163, 'colsample_bytree': 0.84359287865705, 'reg_alpha': 1.6479953171724333, 'reg_lambda': 0.10874785203114762}. Best is trial 3 with value: 1.5226581086613367.\n"
          ]
        },
        {
          "name": "stdout",
          "output_type": "stream",
          "text": [
            "Time bin 9 (02:15-02:29) - Best MAE: 1.5227\n"
          ]
        },
        {
          "name": "stderr",
          "output_type": "stream",
          "text": [
            "[I 2025-07-07 14:56:55,132] A new study created in memory with name: timebin_10\n"
          ]
        },
        {
          "name": "stdout",
          "output_type": "stream",
          "text": [
            "Training model for time bin 10 (02:30-02:44)...\n"
          ]
        },
        {
          "name": "stderr",
          "output_type": "stream",
          "text": [
            "[I 2025-07-07 14:58:01,853] Trial 0 finished with value: 1.9772301415972295 and parameters: {'n_estimators': 162, 'max_depth': 3, 'learning_rate': 0.13925119096067795, 'subsample': 0.6230319836239188, 'colsample_bytree': 0.9610706984671475, 'reg_alpha': 3.9606661212469465, 'reg_lambda': 7.1296215707618655}. Best is trial 0 with value: 1.9772301415972295.\n",
            "[I 2025-07-07 14:59:58,473] Trial 1 finished with value: 1.6085318902960404 and parameters: {'n_estimators': 145, 'max_depth': 5, 'learning_rate': 0.28485764125080626, 'subsample': 0.9059601784618542, 'colsample_bytree': 0.8778629048146389, 'reg_alpha': 2.5412882561762946, 'reg_lambda': 0.9385204618575496}. Best is trial 1 with value: 1.6085318902960404.\n",
            "[I 2025-07-07 15:01:03,288] Trial 2 finished with value: 1.6919891125211515 and parameters: {'n_estimators': 164, 'max_depth': 3, 'learning_rate': 0.2998586251760074, 'subsample': 0.8799303090904993, 'colsample_bytree': 0.9690379666000594, 'reg_alpha': 0.6266113568365465, 'reg_lambda': 4.057096455650339}. Best is trial 1 with value: 1.6085318902960404.\n",
            "[I 2025-07-07 15:04:56,529] Trial 3 finished with value: 1.9468473351322524 and parameters: {'n_estimators': 287, 'max_depth': 6, 'learning_rate': 0.023952226670984247, 'subsample': 0.7545702314064492, 'colsample_bytree': 0.7365738555843637, 'reg_alpha': 2.0976640748807647, 'reg_lambda': 4.094303555671224}. Best is trial 1 with value: 1.6085318902960404.\n",
            "[I 2025-07-07 15:08:56,567] Trial 4 finished with value: 1.5391857712366839 and parameters: {'n_estimators': 284, 'max_depth': 6, 'learning_rate': 0.2746192233653928, 'subsample': 0.6662622258055458, 'colsample_bytree': 0.6153798626157444, 'reg_alpha': 1.5540901268810552, 'reg_lambda': 0.7286802391009132}. Best is trial 4 with value: 1.5391857712366839.\n"
          ]
        },
        {
          "name": "stdout",
          "output_type": "stream",
          "text": [
            "Time bin 10 (02:30-02:44) - Best MAE: 1.5392\n",
            "Training model for time bin 11 (02:45-02:59)...\n"
          ]
        },
        {
          "name": "stderr",
          "output_type": "stream",
          "text": [
            "[I 2025-07-07 15:13:05,053] A new study created in memory with name: timebin_11\n",
            "[I 2025-07-07 15:16:35,636] Trial 0 finished with value: 2.0423370617825345 and parameters: {'n_estimators': 268, 'max_depth': 6, 'learning_rate': 0.02925664748064876, 'subsample': 0.7149346802380685, 'colsample_bytree': 0.8028789005012296, 'reg_alpha': 9.982217617365228, 'reg_lambda': 1.92505912798429}. Best is trial 0 with value: 2.0423370617825345.\n",
            "[I 2025-07-07 15:20:43,195] Trial 1 finished with value: 1.556765217756496 and parameters: {'n_estimators': 268, 'max_depth': 6, 'learning_rate': 0.14858906652447731, 'subsample': 0.8084037272006225, 'colsample_bytree': 0.6369689633679898, 'reg_alpha': 2.1906567392724208, 'reg_lambda': 9.377096889764944}. Best is trial 1 with value: 1.556765217756496.\n",
            "[I 2025-07-07 15:22:51,049] Trial 2 finished with value: 1.8335738707664402 and parameters: {'n_estimators': 218, 'max_depth': 4, 'learning_rate': 0.14190296804433164, 'subsample': 0.844602304802138, 'colsample_bytree': 0.841960817310808, 'reg_alpha': 8.170691727165904, 'reg_lambda': 7.459775262882998}. Best is trial 1 with value: 1.556765217756496.\n",
            "[I 2025-07-07 15:25:50,962] Trial 3 finished with value: 1.695179943948298 and parameters: {'n_estimators': 210, 'max_depth': 5, 'learning_rate': 0.13530405706155982, 'subsample': 0.8197600912320419, 'colsample_bytree': 0.8565009651280119, 'reg_alpha': 4.26475010378262, 'reg_lambda': 4.97795502530514}. Best is trial 1 with value: 1.556765217756496.\n",
            "[I 2025-07-07 15:29:25,994] Trial 4 finished with value: 1.6831496721322519 and parameters: {'n_estimators': 282, 'max_depth': 5, 'learning_rate': 0.07037455177379662, 'subsample': 0.7793517473122502, 'colsample_bytree': 0.783365954943316, 'reg_alpha': 6.8535746997938425, 'reg_lambda': 1.8866301287878648}. Best is trial 1 with value: 1.556765217756496.\n"
          ]
        },
        {
          "name": "stdout",
          "output_type": "stream",
          "text": [
            "Time bin 11 (02:45-02:59) - Best MAE: 1.5568\n",
            "Training model for time bin 12 (03:00-03:14)...\n"
          ]
        },
        {
          "name": "stderr",
          "output_type": "stream",
          "text": [
            "[I 2025-07-07 15:33:48,207] A new study created in memory with name: timebin_12\n",
            "[I 2025-07-07 15:34:52,082] Trial 0 finished with value: 1.8406033848848018 and parameters: {'n_estimators': 115, 'max_depth': 4, 'learning_rate': 0.24472691357607132, 'subsample': 0.9575478247615677, 'colsample_bytree': 0.9047689332038059, 'reg_alpha': 2.275680929807738, 'reg_lambda': 5.612242250783102}. Best is trial 0 with value: 1.8406033848848018.\n",
            "[I 2025-07-07 15:36:23,278] Trial 1 finished with value: 2.2559886140953314 and parameters: {'n_estimators': 260, 'max_depth': 3, 'learning_rate': 0.03699636167130056, 'subsample': 0.72932638507463, 'colsample_bytree': 0.7146844882901597, 'reg_alpha': 8.117462476828655, 'reg_lambda': 4.455472923186719}. Best is trial 0 with value: 1.8406033848848018.\n",
            "[I 2025-07-07 15:38:17,384] Trial 2 finished with value: 1.8927527079117554 and parameters: {'n_estimators': 173, 'max_depth': 5, 'learning_rate': 0.269418168651778, 'subsample': 0.8430037914197668, 'colsample_bytree': 0.6130448170970108, 'reg_alpha': 4.643488477660258, 'reg_lambda': 7.277256756907367}. Best is trial 0 with value: 1.8406033848848018.\n",
            "[I 2025-07-07 15:39:36,855] Trial 3 finished with value: 2.1327484874142195 and parameters: {'n_estimators': 218, 'max_depth': 3, 'learning_rate': 0.19322807005071227, 'subsample': 0.7051963593001681, 'colsample_bytree': 0.8195193410618907, 'reg_alpha': 6.301443211244438, 'reg_lambda': 0.12250857715698511}. Best is trial 0 with value: 1.8406033848848018.\n",
            "[I 2025-07-07 15:41:32,643] Trial 4 finished with value: 2.1466319038149115 and parameters: {'n_estimators': 193, 'max_depth': 5, 'learning_rate': 0.0408082162089567, 'subsample': 0.7825437023564388, 'colsample_bytree': 0.627864394670989, 'reg_alpha': 5.501351205022254, 'reg_lambda': 4.585859413628786}. Best is trial 0 with value: 1.8406033848848018.\n"
          ]
        },
        {
          "name": "stdout",
          "output_type": "stream",
          "text": [
            "Time bin 12 (03:00-03:14) - Best MAE: 1.8406\n",
            "Training model for time bin 13 (03:15-03:29)...\n"
          ]
        },
        {
          "name": "stderr",
          "output_type": "stream",
          "text": [
            "[I 2025-07-07 15:42:37,273] A new study created in memory with name: timebin_13\n",
            "[I 2025-07-07 15:46:47,813] Trial 0 finished with value: 1.8923416352957287 and parameters: {'n_estimators': 295, 'max_depth': 6, 'learning_rate': 0.06719064066089436, 'subsample': 0.9628951415324535, 'colsample_bytree': 0.8824861597861131, 'reg_alpha': 6.827295705053599, 'reg_lambda': 3.409311234894372}. Best is trial 0 with value: 1.8923416352957287.\n",
            "[I 2025-07-07 15:48:03,309] Trial 1 finished with value: 1.9733410433812142 and parameters: {'n_estimators': 162, 'max_depth': 4, 'learning_rate': 0.14474739916133256, 'subsample': 0.8013925412724362, 'colsample_bytree': 0.6670911398375273, 'reg_alpha': 2.5345484611472306, 'reg_lambda': 5.411641434227753}. Best is trial 0 with value: 1.8923416352957287.\n",
            "[I 2025-07-07 15:49:04,664] Trial 2 finished with value: 2.1503924583785383 and parameters: {'n_estimators': 172, 'max_depth': 3, 'learning_rate': 0.22446830388345865, 'subsample': 0.6831945653074413, 'colsample_bytree': 0.7215213359618659, 'reg_alpha': 4.149073779782153, 'reg_lambda': 5.065036992438849}. Best is trial 0 with value: 1.8923416352957287.\n",
            "[I 2025-07-07 15:51:40,934] Trial 3 finished with value: 2.0088464086391284 and parameters: {'n_estimators': 220, 'max_depth': 5, 'learning_rate': 0.1815907860792555, 'subsample': 0.6534198166911849, 'colsample_bytree': 0.7528363928380819, 'reg_alpha': 4.073259468293223, 'reg_lambda': 5.14410663267012}. Best is trial 0 with value: 1.8923416352957287.\n",
            "[I 2025-07-07 15:52:24,237] Trial 4 finished with value: 2.2555739822134337 and parameters: {'n_estimators': 109, 'max_depth': 3, 'learning_rate': 0.19203573731271006, 'subsample': 0.8444155727462543, 'colsample_bytree': 0.8442883476351816, 'reg_alpha': 7.535120300492777, 'reg_lambda': 3.3471888455655145}. Best is trial 0 with value: 1.8923416352957287.\n"
          ]
        },
        {
          "name": "stdout",
          "output_type": "stream",
          "text": [
            "Time bin 13 (03:15-03:29) - Best MAE: 1.8923\n",
            "Training model for time bin 14 (03:30-03:44)...\n"
          ]
        },
        {
          "name": "stderr",
          "output_type": "stream",
          "text": [
            "[I 2025-07-07 15:57:01,653] A new study created in memory with name: timebin_14\n",
            "[I 2025-07-07 15:58:14,702] Trial 0 finished with value: 2.561718229142904 and parameters: {'n_estimators': 216, 'max_depth': 3, 'learning_rate': 0.022136024407016487, 'subsample': 0.6865055433345635, 'colsample_bytree': 0.7197937267271389, 'reg_alpha': 0.2021294716915424, 'reg_lambda': 6.39079035407446}. Best is trial 0 with value: 2.561718229142904.\n",
            "[I 2025-07-07 15:59:33,688] Trial 1 finished with value: 2.794344044332309 and parameters: {'n_estimators': 120, 'max_depth': 5, 'learning_rate': 0.03042753719579095, 'subsample': 0.663222788073977, 'colsample_bytree': 0.9070499052139127, 'reg_alpha': 1.8099587487906668, 'reg_lambda': 4.696512105436971}. Best is trial 0 with value: 2.561718229142904.\n",
            "[I 2025-07-07 16:01:06,093] Trial 2 finished with value: 2.3965620103139567 and parameters: {'n_estimators': 150, 'max_depth': 5, 'learning_rate': 0.2303339054054691, 'subsample': 0.6983204471664813, 'colsample_bytree': 0.7261512829692602, 'reg_alpha': 9.904888459851366, 'reg_lambda': 9.790502411968498}. Best is trial 2 with value: 2.3965620103139567.\n",
            "[I 2025-07-07 16:02:40,524] Trial 3 finished with value: 2.4028216922453804 and parameters: {'n_estimators': 243, 'max_depth': 3, 'learning_rate': 0.14717899229130965, 'subsample': 0.6152372121710649, 'colsample_bytree': 0.9261545924680097, 'reg_alpha': 9.009202413777402, 'reg_lambda': 6.53534079855791}. Best is trial 2 with value: 2.3965620103139567.\n",
            "[I 2025-07-07 16:06:31,428] Trial 4 finished with value: 2.0144353525556404 and parameters: {'n_estimators': 279, 'max_depth': 6, 'learning_rate': 0.1461571130895664, 'subsample': 0.910000640085771, 'colsample_bytree': 0.7481546649925366, 'reg_alpha': 6.843929512297211, 'reg_lambda': 6.567665873749474}. Best is trial 4 with value: 2.0144353525556404.\n"
          ]
        },
        {
          "name": "stdout",
          "output_type": "stream",
          "text": [
            "Time bin 14 (03:30-03:44) - Best MAE: 2.0144\n",
            "Training model for time bin 15 (03:45-03:59)...\n"
          ]
        },
        {
          "name": "stderr",
          "output_type": "stream",
          "text": [
            "[I 2025-07-07 16:10:39,624] A new study created in memory with name: timebin_15\n",
            "[I 2025-07-07 16:13:55,195] Trial 0 finished with value: 1.9330239555230462 and parameters: {'n_estimators': 252, 'max_depth': 6, 'learning_rate': 0.0415687449648715, 'subsample': 0.9733414219325659, 'colsample_bytree': 0.7169387108362797, 'reg_alpha': 1.5332558688501268, 'reg_lambda': 2.7266444776533523}. Best is trial 0 with value: 1.9330239555230462.\n",
            "[I 2025-07-07 16:17:09,797] Trial 1 finished with value: 2.0950703424584556 and parameters: {'n_estimators': 279, 'max_depth': 5, 'learning_rate': 0.22243042190616627, 'subsample': 0.7500307361817902, 'colsample_bytree': 0.8064469436982312, 'reg_alpha': 3.7393364282702364, 'reg_lambda': 9.724414655604448}. Best is trial 0 with value: 1.9330239555230462.\n",
            "[I 2025-07-07 16:19:50,128] Trial 2 finished with value: 2.214038622170451 and parameters: {'n_estimators': 259, 'max_depth': 5, 'learning_rate': 0.05036827051270784, 'subsample': 0.7293229855514989, 'colsample_bytree': 0.7078769449995456, 'reg_alpha': 5.429180347525991, 'reg_lambda': 7.8801227814334895}. Best is trial 0 with value: 1.9330239555230462.\n",
            "[I 2025-07-07 16:21:17,638] Trial 3 finished with value: 2.476067508255017 and parameters: {'n_estimators': 142, 'max_depth': 5, 'learning_rate': 0.05256812868526949, 'subsample': 0.830799725050294, 'colsample_bytree': 0.7097856940768466, 'reg_alpha': 6.831852950561225, 'reg_lambda': 8.706480793873439}. Best is trial 0 with value: 1.9330239555230462.\n",
            "[I 2025-07-07 16:25:07,474] Trial 4 finished with value: 2.0417265196992105 and parameters: {'n_estimators': 263, 'max_depth': 6, 'learning_rate': 0.1828610437167761, 'subsample': 0.7451614585839295, 'colsample_bytree': 0.8069346409234299, 'reg_alpha': 0.34755667046097305, 'reg_lambda': 9.42292450257533}. Best is trial 0 with value: 1.9330239555230462.\n"
          ]
        },
        {
          "name": "stdout",
          "output_type": "stream",
          "text": [
            "Time bin 15 (03:45-03:59) - Best MAE: 1.9330\n",
            "Training model for time bin 16 (04:00-04:14)...\n"
          ]
        },
        {
          "name": "stderr",
          "output_type": "stream",
          "text": [
            "[I 2025-07-07 16:28:28,337] A new study created in memory with name: timebin_16\n",
            "[I 2025-07-07 16:30:12,672] Trial 0 finished with value: 2.3031289912575126 and parameters: {'n_estimators': 294, 'max_depth': 3, 'learning_rate': 0.12462949101908331, 'subsample': 0.6242743330324879, 'colsample_bytree': 0.6349421964960538, 'reg_alpha': 7.1737584406072195, 'reg_lambda': 4.932284754541037}. Best is trial 0 with value: 2.3031289912575126.\n",
            "[I 2025-07-07 16:31:02,591] Trial 1 finished with value: 3.6938941264526552 and parameters: {'n_estimators': 129, 'max_depth': 3, 'learning_rate': 0.014502342140712658, 'subsample': 0.6331283188631734, 'colsample_bytree': 0.8394345390979325, 'reg_alpha': 4.574243006700278, 'reg_lambda': 8.758508070317873}. Best is trial 0 with value: 2.3031289912575126.\n",
            "[I 2025-07-07 16:32:21,605] Trial 2 finished with value: 2.074486849929109 and parameters: {'n_estimators': 222, 'max_depth': 3, 'learning_rate': 0.16545508248641827, 'subsample': 0.7026548938405005, 'colsample_bytree': 0.7826010673154713, 'reg_alpha': 1.738541690194623, 'reg_lambda': 5.103363293476506}. Best is trial 2 with value: 2.074486849929109.\n",
            "[I 2025-07-07 16:34:35,546] Trial 3 finished with value: 1.9879387134590005 and parameters: {'n_estimators': 203, 'max_depth': 5, 'learning_rate': 0.2504049210567275, 'subsample': 0.8187272459436228, 'colsample_bytree': 0.6799766955188487, 'reg_alpha': 2.1966675026333555, 'reg_lambda': 5.936463512614915}. Best is trial 3 with value: 1.9879387134590005.\n",
            "[I 2025-07-07 16:36:50,297] Trial 4 finished with value: 2.106347943848383 and parameters: {'n_estimators': 279, 'max_depth': 4, 'learning_rate': 0.07646821075815552, 'subsample': 0.6054969259518709, 'colsample_bytree': 0.8901534039292809, 'reg_alpha': 0.2157236615143139, 'reg_lambda': 6.260602587225453}. Best is trial 3 with value: 1.9879387134590005.\n"
          ]
        },
        {
          "name": "stdout",
          "output_type": "stream",
          "text": [
            "Time bin 16 (04:00-04:14) - Best MAE: 1.9879\n",
            "Training model for time bin 17 (04:15-04:29)...\n"
          ]
        },
        {
          "name": "stderr",
          "output_type": "stream",
          "text": [
            "[I 2025-07-07 16:39:09,422] A new study created in memory with name: timebin_17\n",
            "[I 2025-07-07 16:40:06,219] Trial 0 finished with value: 2.275432427551903 and parameters: {'n_estimators': 149, 'max_depth': 3, 'learning_rate': 0.16306152127116227, 'subsample': 0.7595748505724754, 'colsample_bytree': 0.8735559757147335, 'reg_alpha': 8.279396562214009, 'reg_lambda': 2.009697328607874}. Best is trial 0 with value: 2.275432427551903.\n",
            "[I 2025-07-07 16:40:45,394] Trial 1 finished with value: 3.936674817454847 and parameters: {'n_estimators': 101, 'max_depth': 3, 'learning_rate': 0.012305693247045607, 'subsample': 0.8666083711889256, 'colsample_bytree': 0.6951533829928765, 'reg_alpha': 9.529426046539806, 'reg_lambda': 3.893305936347667}. Best is trial 0 with value: 2.275432427551903.\n",
            "[I 2025-07-07 16:43:58,932] Trial 2 finished with value: 2.0469610652217156 and parameters: {'n_estimators': 292, 'max_depth': 5, 'learning_rate': 0.06552028481429929, 'subsample': 0.9947083222838753, 'colsample_bytree': 0.8462964408972006, 'reg_alpha': 9.064314597634016, 'reg_lambda': 5.834292778511235}. Best is trial 2 with value: 2.0469610652217156.\n",
            "[I 2025-07-07 16:45:24,917] Trial 3 finished with value: 2.178085942996334 and parameters: {'n_estimators': 160, 'max_depth': 4, 'learning_rate': 0.2767663910893487, 'subsample': 0.840886268790815, 'colsample_bytree': 0.8791747230271492, 'reg_alpha': 8.408478268016477, 'reg_lambda': 1.5874913201507803}. Best is trial 2 with value: 2.0469610652217156.\n",
            "[I 2025-07-07 16:46:43,913] Trial 4 finished with value: 2.195345294163264 and parameters: {'n_estimators': 119, 'max_depth': 5, 'learning_rate': 0.2034216363139165, 'subsample': 0.8814802541760831, 'colsample_bytree': 0.7474536971010789, 'reg_alpha': 8.28855072519795, 'reg_lambda': 0.4911997843152632}. Best is trial 2 with value: 2.0469610652217156.\n"
          ]
        },
        {
          "name": "stdout",
          "output_type": "stream",
          "text": [
            "Time bin 17 (04:15-04:29) - Best MAE: 2.0470\n",
            "Training model for time bin 18 (04:30-04:44)...\n"
          ]
        },
        {
          "name": "stderr",
          "output_type": "stream",
          "text": [
            "[I 2025-07-07 16:50:03,466] A new study created in memory with name: timebin_18\n",
            "[I 2025-07-07 16:53:09,034] Trial 0 finished with value: 1.8915685330453822 and parameters: {'n_estimators': 285, 'max_depth': 5, 'learning_rate': 0.2849725205117393, 'subsample': 0.9764711048798409, 'colsample_bytree': 0.7807896186280479, 'reg_alpha': 1.409310140720009, 'reg_lambda': 1.395222089576346}. Best is trial 0 with value: 1.8915685330453822.\n",
            "[I 2025-07-07 16:55:02,244] Trial 1 finished with value: 1.9917712767789681 and parameters: {'n_estimators': 221, 'max_depth': 4, 'learning_rate': 0.18492137911068274, 'subsample': 0.988445574554286, 'colsample_bytree': 0.8930085128913854, 'reg_alpha': 5.953039538834912, 'reg_lambda': 4.1278643068251055}. Best is trial 0 with value: 1.8915685330453822.\n",
            "[I 2025-07-07 16:56:36,157] Trial 2 finished with value: 2.0584006529190355 and parameters: {'n_estimators': 260, 'max_depth': 3, 'learning_rate': 0.16903739892343528, 'subsample': 0.811912372753577, 'colsample_bytree': 0.9472765286012844, 'reg_alpha': 4.096916773808122, 'reg_lambda': 8.571894294861094}. Best is trial 0 with value: 1.8915685330453822.\n",
            "[I 2025-07-07 16:57:55,307] Trial 3 finished with value: 2.1776043584870135 and parameters: {'n_estimators': 241, 'max_depth': 3, 'learning_rate': 0.05542446008503517, 'subsample': 0.8081560226301178, 'colsample_bytree': 0.6381575776361778, 'reg_alpha': 4.70406572040151, 'reg_lambda': 8.649921286999733}. Best is trial 0 with value: 1.8915685330453822.\n",
            "[I 2025-07-07 16:58:37,479] Trial 4 finished with value: 2.1082172320571804 and parameters: {'n_estimators': 114, 'max_depth': 3, 'learning_rate': 0.16859887646617724, 'subsample': 0.855225884639979, 'colsample_bytree': 0.6211640436949661, 'reg_alpha': 3.589241157028611, 'reg_lambda': 3.5865462171420868}. Best is trial 0 with value: 1.8915685330453822.\n"
          ]
        },
        {
          "name": "stdout",
          "output_type": "stream",
          "text": [
            "Time bin 18 (04:30-04:44) - Best MAE: 1.8916\n",
            "Training model for time bin 19 (04:45-04:59)...\n"
          ]
        },
        {
          "name": "stderr",
          "output_type": "stream",
          "text": [
            "[I 2025-07-07 17:01:44,431] A new study created in memory with name: timebin_19\n",
            "[I 2025-07-07 17:03:05,218] Trial 0 finished with value: 2.0681822748537417 and parameters: {'n_estimators': 226, 'max_depth': 3, 'learning_rate': 0.10529713920299912, 'subsample': 0.624084766529381, 'colsample_bytree': 0.8311243452358441, 'reg_alpha': 4.737598938123469, 'reg_lambda': 1.3104909668499574}. Best is trial 0 with value: 2.0681822748537417.\n",
            "[I 2025-07-07 17:05:20,657] Trial 1 finished with value: 2.1128341759920337 and parameters: {'n_estimators': 143, 'max_depth': 6, 'learning_rate': 0.18236810296838338, 'subsample': 0.6080055244220989, 'colsample_bytree': 0.9830350001013283, 'reg_alpha': 2.4485777877479102, 'reg_lambda': 9.584526201846115}. Best is trial 0 with value: 2.0681822748537417.\n",
            "[I 2025-07-07 17:06:59,963] Trial 2 finished with value: 1.8159833811076784 and parameters: {'n_estimators': 287, 'max_depth': 3, 'learning_rate': 0.17372220368043023, 'subsample': 0.7108733463354382, 'colsample_bytree': 0.9024906971964783, 'reg_alpha': 1.0772644277960663, 'reg_lambda': 1.9171241709566231}. Best is trial 2 with value: 1.8159833811076784.\n",
            "[I 2025-07-07 17:08:46,823] Trial 3 finished with value: 1.9785643207133083 and parameters: {'n_estimators': 121, 'max_depth': 6, 'learning_rate': 0.15863184971649277, 'subsample': 0.8385522779453942, 'colsample_bytree': 0.8967848967734442, 'reg_alpha': 4.160740518318102, 'reg_lambda': 2.1530384110039225}. Best is trial 2 with value: 1.8159833811076784.\n",
            "[I 2025-07-07 17:10:11,289] Trial 4 finished with value: 1.8778293605656264 and parameters: {'n_estimators': 170, 'max_depth': 4, 'learning_rate': 0.18492932693151234, 'subsample': 0.9966473064588126, 'colsample_bytree': 0.8909667897637481, 'reg_alpha': 3.4801462042548703, 'reg_lambda': 2.3829301233321587}. Best is trial 2 with value: 1.8159833811076784.\n"
          ]
        },
        {
          "name": "stdout",
          "output_type": "stream",
          "text": [
            "Time bin 19 (04:45-04:59) - Best MAE: 1.8160\n"
          ]
        },
        {
          "name": "stderr",
          "output_type": "stream",
          "text": [
            "[I 2025-07-07 17:11:51,558] A new study created in memory with name: timebin_20\n"
          ]
        },
        {
          "name": "stdout",
          "output_type": "stream",
          "text": [
            "Training model for time bin 20 (05:00-05:14)...\n"
          ]
        },
        {
          "name": "stderr",
          "output_type": "stream",
          "text": [
            "[I 2025-07-07 17:13:28,006] Trial 0 finished with value: 2.0366236235800366 and parameters: {'n_estimators': 102, 'max_depth': 6, 'learning_rate': 0.16946749768115513, 'subsample': 0.8348922100548611, 'colsample_bytree': 0.9949161935752655, 'reg_alpha': 3.702114874708396, 'reg_lambda': 6.178028587009407}. Best is trial 0 with value: 2.0366236235800366.\n",
            "[I 2025-07-07 17:16:49,432] Trial 1 finished with value: 1.883152031041312 and parameters: {'n_estimators': 240, 'max_depth': 6, 'learning_rate': 0.25865719478201354, 'subsample': 0.9247734868776987, 'colsample_bytree': 0.7549696591643085, 'reg_alpha': 0.7572710449237583, 'reg_lambda': 8.46111212190671}. Best is trial 1 with value: 1.883152031041312.\n",
            "[I 2025-07-07 17:17:57,865] Trial 2 finished with value: 2.072988985073706 and parameters: {'n_estimators': 198, 'max_depth': 3, 'learning_rate': 0.13892946499398137, 'subsample': 0.6639510772698632, 'colsample_bytree': 0.6966200546021697, 'reg_alpha': 8.669213535406689, 'reg_lambda': 1.5846379690246724}. Best is trial 1 with value: 1.883152031041312.\n",
            "[I 2025-07-07 17:19:11,812] Trial 3 finished with value: 2.1153877355821944 and parameters: {'n_estimators': 189, 'max_depth': 3, 'learning_rate': 0.10870506555841412, 'subsample': 0.6853249090964957, 'colsample_bytree': 0.8250098968037745, 'reg_alpha': 5.94889637787807, 'reg_lambda': 8.378524419705759}. Best is trial 1 with value: 1.883152031041312.\n",
            "[I 2025-07-07 17:23:12,058] Trial 4 finished with value: 1.9661508902538545 and parameters: {'n_estimators': 235, 'max_depth': 6, 'learning_rate': 0.2651259657268063, 'subsample': 0.8227210191324668, 'colsample_bytree': 0.9207335464026172, 'reg_alpha': 3.8963622001379394, 'reg_lambda': 8.013445303002898}. Best is trial 1 with value: 1.883152031041312.\n"
          ]
        },
        {
          "name": "stdout",
          "output_type": "stream",
          "text": [
            "Time bin 20 (05:00-05:14) - Best MAE: 1.8832\n"
          ]
        },
        {
          "name": "stderr",
          "output_type": "stream",
          "text": [
            "[I 2025-07-07 17:27:06,584] A new study created in memory with name: timebin_21\n"
          ]
        },
        {
          "name": "stdout",
          "output_type": "stream",
          "text": [
            "Training model for time bin 21 (05:15-05:29)...\n"
          ]
        },
        {
          "name": "stderr",
          "output_type": "stream",
          "text": [
            "[I 2025-07-07 17:27:53,646] Trial 0 finished with value: 2.9059092701375215 and parameters: {'n_estimators': 108, 'max_depth': 3, 'learning_rate': 0.03189572835501908, 'subsample': 0.6622554103065988, 'colsample_bytree': 0.7800602984617622, 'reg_alpha': 5.111869778966615, 'reg_lambda': 3.0445809599579094}. Best is trial 0 with value: 2.9059092701375215.\n",
            "[I 2025-07-07 17:29:01,784] Trial 1 finished with value: 2.076982784633068 and parameters: {'n_estimators': 175, 'max_depth': 3, 'learning_rate': 0.2712596992889404, 'subsample': 0.7795447746765859, 'colsample_bytree': 0.8369516534252925, 'reg_alpha': 9.530307763462883, 'reg_lambda': 7.2962743784018675}. Best is trial 1 with value: 2.076982784633068.\n",
            "[I 2025-07-07 17:31:17,879] Trial 2 finished with value: 1.9315953867911435 and parameters: {'n_estimators': 145, 'max_depth': 6, 'learning_rate': 0.27820516038948523, 'subsample': 0.9180837916207971, 'colsample_bytree': 0.8683263932557133, 'reg_alpha': 0.4814772690099023, 'reg_lambda': 5.222499567433505}. Best is trial 2 with value: 1.9315953867911435.\n",
            "[I 2025-07-07 17:34:00,685] Trial 3 finished with value: 1.9384360333402197 and parameters: {'n_estimators': 291, 'max_depth': 4, 'learning_rate': 0.2886028848863209, 'subsample': 0.7375696895960484, 'colsample_bytree': 0.748874686369011, 'reg_alpha': 3.44807726927675, 'reg_lambda': 1.840049600686698}. Best is trial 2 with value: 1.9315953867911435.\n",
            "[I 2025-07-07 17:35:37,383] Trial 4 finished with value: 2.065025705580466 and parameters: {'n_estimators': 240, 'max_depth': 3, 'learning_rate': 0.06059347790587353, 'subsample': 0.9227397981246729, 'colsample_bytree': 0.7855394076052302, 'reg_alpha': 6.609149268295775, 'reg_lambda': 8.685692201443391}. Best is trial 2 with value: 1.9315953867911435.\n"
          ]
        },
        {
          "name": "stdout",
          "output_type": "stream",
          "text": [
            "Time bin 21 (05:15-05:29) - Best MAE: 1.9316\n"
          ]
        },
        {
          "name": "stderr",
          "output_type": "stream",
          "text": [
            "[I 2025-07-07 17:37:55,849] A new study created in memory with name: timebin_22\n"
          ]
        },
        {
          "name": "stdout",
          "output_type": "stream",
          "text": [
            "Training model for time bin 22 (05:30-05:44)...\n"
          ]
        },
        {
          "name": "stderr",
          "output_type": "stream",
          "text": [
            "[I 2025-07-07 17:40:22,479] Trial 0 finished with value: 2.0157785219056388 and parameters: {'n_estimators': 279, 'max_depth': 4, 'learning_rate': 0.15082580808966842, 'subsample': 0.726459422512471, 'colsample_bytree': 0.9538685254202588, 'reg_alpha': 8.6813750104814, 'reg_lambda': 6.796220001330536}. Best is trial 0 with value: 2.0157785219056388.\n",
            "[I 2025-07-07 17:43:05,907] Trial 1 finished with value: 2.1189446793532953 and parameters: {'n_estimators': 278, 'max_depth': 4, 'learning_rate': 0.05520085907963575, 'subsample': 0.70865888100739, 'colsample_bytree': 0.8778258619445847, 'reg_alpha': 9.376823882375595, 'reg_lambda': 6.192947056997712}. Best is trial 0 with value: 2.0157785219056388.\n",
            "[I 2025-07-07 17:44:12,154] Trial 2 finished with value: 2.189234733254174 and parameters: {'n_estimators': 109, 'max_depth': 4, 'learning_rate': 0.2125860624807162, 'subsample': 0.778439462851696, 'colsample_bytree': 0.9773024140744726, 'reg_alpha': 9.467130758177852, 'reg_lambda': 0.19339461954641116}. Best is trial 0 with value: 2.0157785219056388.\n",
            "[I 2025-07-07 17:44:59,931] Trial 3 finished with value: 2.0033420361326746 and parameters: {'n_estimators': 130, 'max_depth': 3, 'learning_rate': 0.23106352861454058, 'subsample': 0.7294513662797435, 'colsample_bytree': 0.8176112734360501, 'reg_alpha': 2.479257767094435, 'reg_lambda': 5.452485282434143}. Best is trial 3 with value: 2.0033420361326746.\n",
            "[I 2025-07-07 17:48:46,046] Trial 4 finished with value: 1.8033201344118748 and parameters: {'n_estimators': 283, 'max_depth': 6, 'learning_rate': 0.11096030919162128, 'subsample': 0.8822818164116557, 'colsample_bytree': 0.8063819449208077, 'reg_alpha': 0.6522199093218223, 'reg_lambda': 3.7535471678695296}. Best is trial 4 with value: 1.8033201344118748.\n"
          ]
        },
        {
          "name": "stdout",
          "output_type": "stream",
          "text": [
            "Time bin 22 (05:30-05:44) - Best MAE: 1.8033\n"
          ]
        },
        {
          "name": "stderr",
          "output_type": "stream",
          "text": [
            "[I 2025-07-07 17:52:47,574] A new study created in memory with name: timebin_23\n"
          ]
        },
        {
          "name": "stdout",
          "output_type": "stream",
          "text": [
            "Training model for time bin 23 (05:45-05:59)...\n"
          ]
        },
        {
          "name": "stderr",
          "output_type": "stream",
          "text": [
            "[I 2025-07-07 17:54:32,896] Trial 0 finished with value: 2.1137581493408697 and parameters: {'n_estimators': 227, 'max_depth': 4, 'learning_rate': 0.0957665722577715, 'subsample': 0.8955240648408641, 'colsample_bytree': 0.7148991299993349, 'reg_alpha': 9.883259983814128, 'reg_lambda': 6.17170347306752}. Best is trial 0 with value: 2.1137581493408697.\n",
            "[I 2025-07-07 17:56:30,552] Trial 1 finished with value: 2.199191389747213 and parameters: {'n_estimators': 171, 'max_depth': 5, 'learning_rate': 0.08033274024603278, 'subsample': 0.8544930995043665, 'colsample_bytree': 0.8898997415672895, 'reg_alpha': 5.540565858648121, 'reg_lambda': 6.348760630176288}. Best is trial 0 with value: 2.1137581493408697.\n",
            "[I 2025-07-07 17:58:25,219] Trial 2 finished with value: 1.963715897157802 and parameters: {'n_estimators': 215, 'max_depth': 4, 'learning_rate': 0.1467137769732235, 'subsample': 0.7813562086190511, 'colsample_bytree': 0.9842336652411364, 'reg_alpha': 0.9960602104277774, 'reg_lambda': 9.631272386064968}. Best is trial 2 with value: 1.963715897157802.\n",
            "[I 2025-07-07 18:00:06,570] Trial 3 finished with value: 1.9220179075018826 and parameters: {'n_estimators': 292, 'max_depth': 3, 'learning_rate': 0.13785914298884375, 'subsample': 0.9322465399900794, 'colsample_bytree': 0.6402769264702722, 'reg_alpha': 5.444462469687165, 'reg_lambda': 3.004472921445383}. Best is trial 3 with value: 1.9220179075018826.\n",
            "[I 2025-07-07 18:01:14,020] Trial 4 finished with value: 2.616256049913443 and parameters: {'n_estimators': 168, 'max_depth': 3, 'learning_rate': 0.04889025864585442, 'subsample': 0.6927320939454374, 'colsample_bytree': 0.8505195736340514, 'reg_alpha': 8.644699507164692, 'reg_lambda': 6.316267514088495}. Best is trial 3 with value: 1.9220179075018826.\n"
          ]
        },
        {
          "name": "stdout",
          "output_type": "stream",
          "text": [
            "Time bin 23 (05:45-05:59) - Best MAE: 1.9220\n"
          ]
        },
        {
          "name": "stderr",
          "output_type": "stream",
          "text": [
            "[I 2025-07-07 18:02:51,716] A new study created in memory with name: timebin_24\n"
          ]
        },
        {
          "name": "stdout",
          "output_type": "stream",
          "text": [
            "Training model for time bin 24 (06:00-06:14)...\n"
          ]
        },
        {
          "name": "stderr",
          "output_type": "stream",
          "text": [
            "[I 2025-07-07 18:04:58,958] Trial 0 finished with value: 2.053493602049706 and parameters: {'n_estimators': 283, 'max_depth': 4, 'learning_rate': 0.2625145613693522, 'subsample': 0.6247754640747802, 'colsample_bytree': 0.6722072091335635, 'reg_alpha': 9.342595455686995, 'reg_lambda': 1.4750843715386097}. Best is trial 0 with value: 2.053493602049706.\n",
            "[I 2025-07-07 18:06:11,389] Trial 1 finished with value: 2.0209312454471746 and parameters: {'n_estimators': 201, 'max_depth': 3, 'learning_rate': 0.2758840946021416, 'subsample': 0.662509644350695, 'colsample_bytree': 0.8716767604705343, 'reg_alpha': 2.0795723811849283, 'reg_lambda': 7.127777537848583}. Best is trial 1 with value: 2.0209312454471746.\n",
            "[I 2025-07-07 18:07:09,237] Trial 2 finished with value: 2.4897133701258993 and parameters: {'n_estimators': 164, 'max_depth': 3, 'learning_rate': 0.052734705547035826, 'subsample': 0.7444908747896464, 'colsample_bytree': 0.8178821670912623, 'reg_alpha': 4.472354219023524, 'reg_lambda': 6.614812905494755}. Best is trial 1 with value: 2.0209312454471746.\n",
            "[I 2025-07-07 18:09:50,657] Trial 3 finished with value: 1.946927382926631 and parameters: {'n_estimators': 236, 'max_depth': 5, 'learning_rate': 0.22798948841118602, 'subsample': 0.9008719085706978, 'colsample_bytree': 0.8783409010983165, 'reg_alpha': 1.561427131879555, 'reg_lambda': 6.869199285958857}. Best is trial 3 with value: 1.946927382926631.\n",
            "[I 2025-07-07 18:10:56,024] Trial 4 finished with value: 2.0179667286239664 and parameters: {'n_estimators': 127, 'max_depth': 4, 'learning_rate': 0.23358007641359943, 'subsample': 0.9053630585833978, 'colsample_bytree': 0.8881063133674427, 'reg_alpha': 4.4932732030354305, 'reg_lambda': 1.09287631267322}. Best is trial 3 with value: 1.946927382926631.\n"
          ]
        },
        {
          "name": "stdout",
          "output_type": "stream",
          "text": [
            "Time bin 24 (06:00-06:14) - Best MAE: 1.9469\n",
            "Training model for time bin 25 (06:15-06:29)...\n"
          ]
        },
        {
          "name": "stderr",
          "output_type": "stream",
          "text": [
            "[I 2025-07-07 18:13:44,450] A new study created in memory with name: timebin_25\n",
            "[I 2025-07-07 18:14:38,134] Trial 0 finished with value: 2.097529580203283 and parameters: {'n_estimators': 151, 'max_depth': 3, 'learning_rate': 0.25012655120811567, 'subsample': 0.664384294577004, 'colsample_bytree': 0.7853429980578179, 'reg_alpha': 3.262567263631674, 'reg_lambda': 9.528913304608787}. Best is trial 0 with value: 2.097529580203283.\n",
            "[I 2025-07-07 18:16:02,280] Trial 1 finished with value: 2.0741946873583013 and parameters: {'n_estimators': 237, 'max_depth': 3, 'learning_rate': 0.12166787075878983, 'subsample': 0.6511023410460955, 'colsample_bytree': 0.8851550669664527, 'reg_alpha': 3.685985150541056, 'reg_lambda': 4.473037525427673}. Best is trial 1 with value: 2.0741946873583013.\n",
            "[I 2025-07-07 18:16:43,591] Trial 2 finished with value: 2.1632789421598444 and parameters: {'n_estimators': 117, 'max_depth': 3, 'learning_rate': 0.14078751867397207, 'subsample': 0.7205262398394808, 'colsample_bytree': 0.6238423382608861, 'reg_alpha': 2.9004442266445043, 'reg_lambda': 5.427472926196002}. Best is trial 1 with value: 2.0741946873583013.\n",
            "[I 2025-07-07 18:18:02,948] Trial 3 finished with value: 2.8505203811349156 and parameters: {'n_estimators': 144, 'max_depth': 5, 'learning_rate': 0.022721523268521462, 'subsample': 0.8907307418089381, 'colsample_bytree': 0.8485027748053635, 'reg_alpha': 3.273793093321373, 'reg_lambda': 3.276300638232289}. Best is trial 1 with value: 2.0741946873583013.\n",
            "[I 2025-07-07 18:20:49,495] Trial 4 finished with value: 2.003845966135799 and parameters: {'n_estimators': 246, 'max_depth': 5, 'learning_rate': 0.2683731109805247, 'subsample': 0.8353478172579496, 'colsample_bytree': 0.836278591818012, 'reg_alpha': 3.168682553260392, 'reg_lambda': 3.3264679632162153}. Best is trial 4 with value: 2.003845966135799.\n"
          ]
        },
        {
          "name": "stdout",
          "output_type": "stream",
          "text": [
            "Time bin 25 (06:15-06:29) - Best MAE: 2.0038\n"
          ]
        },
        {
          "name": "stderr",
          "output_type": "stream",
          "text": [
            "[I 2025-07-07 18:23:44,089] A new study created in memory with name: timebin_26\n"
          ]
        },
        {
          "name": "stdout",
          "output_type": "stream",
          "text": [
            "Training model for time bin 26 (06:30-06:44)...\n"
          ]
        },
        {
          "name": "stderr",
          "output_type": "stream",
          "text": [
            "[I 2025-07-07 18:25:06,806] Trial 0 finished with value: 2.1900970250847327 and parameters: {'n_estimators': 114, 'max_depth': 6, 'learning_rate': 0.16568784694104732, 'subsample': 0.6164042686333232, 'colsample_bytree': 0.6503291237226898, 'reg_alpha': 3.9985290100726973, 'reg_lambda': 3.638725383982311}. Best is trial 0 with value: 2.1900970250847327.\n",
            "[I 2025-07-07 18:25:58,352] Trial 1 finished with value: 1.963239840013871 and parameters: {'n_estimators': 113, 'max_depth': 4, 'learning_rate': 0.23508257155322285, 'subsample': 0.9710968122640045, 'colsample_bytree': 0.6134809746934986, 'reg_alpha': 0.5639535887446979, 'reg_lambda': 9.896970174336147}. Best is trial 1 with value: 1.963239840013871.\n",
            "[I 2025-07-07 18:28:02,994] Trial 2 finished with value: 2.069656824716707 and parameters: {'n_estimators': 200, 'max_depth': 5, 'learning_rate': 0.08016900987207966, 'subsample': 0.9769393089780436, 'colsample_bytree': 0.8672032478482444, 'reg_alpha': 9.485249947130203, 'reg_lambda': 4.296926553429928}. Best is trial 1 with value: 1.963239840013871.\n",
            "[I 2025-07-07 18:29:38,173] Trial 3 finished with value: 2.0226680987012635 and parameters: {'n_estimators': 149, 'max_depth': 5, 'learning_rate': 0.0933638619680915, 'subsample': 0.9504658068576743, 'colsample_bytree': 0.8562368954946231, 'reg_alpha': 3.611054236511937, 'reg_lambda': 2.382560873229158}. Best is trial 1 with value: 1.963239840013871.\n",
            "[I 2025-07-07 18:31:31,232] Trial 4 finished with value: 2.085099151235716 and parameters: {'n_estimators': 182, 'max_depth': 5, 'learning_rate': 0.2140206483670569, 'subsample': 0.7772648635411804, 'colsample_bytree': 0.7431328127298282, 'reg_alpha': 7.401120229769306, 'reg_lambda': 8.785999919342741}. Best is trial 1 with value: 1.963239840013871.\n"
          ]
        },
        {
          "name": "stdout",
          "output_type": "stream",
          "text": [
            "Time bin 26 (06:30-06:44) - Best MAE: 1.9632\n"
          ]
        },
        {
          "name": "stderr",
          "output_type": "stream",
          "text": [
            "[I 2025-07-07 18:32:24,066] A new study created in memory with name: timebin_27\n"
          ]
        },
        {
          "name": "stdout",
          "output_type": "stream",
          "text": [
            "Training model for time bin 27 (06:45-06:59)...\n"
          ]
        },
        {
          "name": "stderr",
          "output_type": "stream",
          "text": [
            "[I 2025-07-07 18:34:29,322] Trial 0 finished with value: 2.1669622161093334 and parameters: {'n_estimators': 297, 'max_depth': 4, 'learning_rate': 0.04764844120036469, 'subsample': 0.8476577573368815, 'colsample_bytree': 0.6241750983452037, 'reg_alpha': 8.53279783462558, 'reg_lambda': 6.472273503197742}. Best is trial 0 with value: 2.1669622161093334.\n",
            "[I 2025-07-07 18:35:58,092] Trial 1 finished with value: 2.134500778356757 and parameters: {'n_estimators': 208, 'max_depth': 4, 'learning_rate': 0.04575754083626001, 'subsample': 0.8378047562806179, 'colsample_bytree': 0.7316016230792223, 'reg_alpha': 0.8022057037615689, 'reg_lambda': 5.024907516991439}. Best is trial 1 with value: 2.134500778356757.\n",
            "[I 2025-07-07 18:36:56,573] Trial 2 finished with value: 2.4107068523934223 and parameters: {'n_estimators': 130, 'max_depth': 4, 'learning_rate': 0.08887812041484491, 'subsample': 0.9108948555676778, 'colsample_bytree': 0.6554371222780141, 'reg_alpha': 8.396517476701135, 'reg_lambda': 8.471363372127108}. Best is trial 1 with value: 2.134500778356757.\n",
            "[I 2025-07-07 18:38:30,815] Trial 3 finished with value: 2.222920296263243 and parameters: {'n_estimators': 122, 'max_depth': 6, 'learning_rate': 0.26210113626783055, 'subsample': 0.7028437727527845, 'colsample_bytree': 0.7667943581156073, 'reg_alpha': 7.760596506244107, 'reg_lambda': 7.965794637863938}. Best is trial 1 with value: 2.134500778356757.\n",
            "[I 2025-07-07 18:39:49,691] Trial 4 finished with value: 1.870223913649341 and parameters: {'n_estimators': 228, 'max_depth': 3, 'learning_rate': 0.25990281559784545, 'subsample': 0.7572048928843849, 'colsample_bytree': 0.782995507333796, 'reg_alpha': 1.17616669910725, 'reg_lambda': 2.582149525932797}. Best is trial 4 with value: 1.870223913649341.\n"
          ]
        },
        {
          "name": "stdout",
          "output_type": "stream",
          "text": [
            "Time bin 27 (06:45-06:59) - Best MAE: 1.8702\n"
          ]
        },
        {
          "name": "stderr",
          "output_type": "stream",
          "text": [
            "[I 2025-07-07 18:41:09,579] A new study created in memory with name: timebin_28\n"
          ]
        },
        {
          "name": "stdout",
          "output_type": "stream",
          "text": [
            "Training model for time bin 28 (07:00-07:14)...\n"
          ]
        },
        {
          "name": "stderr",
          "output_type": "stream",
          "text": [
            "[I 2025-07-07 18:42:11,832] Trial 0 finished with value: 2.1394988692334453 and parameters: {'n_estimators': 178, 'max_depth': 3, 'learning_rate': 0.162810679944634, 'subsample': 0.6327821698291457, 'colsample_bytree': 0.6772391183150674, 'reg_alpha': 5.530616255761562, 'reg_lambda': 3.894426092498644}. Best is trial 0 with value: 2.1394988692334453.\n",
            "[I 2025-07-07 18:42:57,965] Trial 1 finished with value: 2.056396863415312 and parameters: {'n_estimators': 122, 'max_depth': 3, 'learning_rate': 0.2492924025045647, 'subsample': 0.8283176064832084, 'colsample_bytree': 0.8792743972951187, 'reg_alpha': 2.812608552898206, 'reg_lambda': 4.5946944852307015}. Best is trial 1 with value: 2.056396863415312.\n",
            "[I 2025-07-07 18:44:24,879] Trial 2 finished with value: 2.1216054659311903 and parameters: {'n_estimators': 106, 'max_depth': 6, 'learning_rate': 0.13718611108718723, 'subsample': 0.9742081143478998, 'colsample_bytree': 0.8258204355821231, 'reg_alpha': 5.126548007677105, 'reg_lambda': 5.202067058021366}. Best is trial 1 with value: 2.056396863415312.\n",
            "[I 2025-07-07 18:46:56,447] Trial 3 finished with value: 2.0309044658933124 and parameters: {'n_estimators': 264, 'max_depth': 5, 'learning_rate': 0.1292436878259299, 'subsample': 0.6346970814929779, 'colsample_bytree': 0.6183816772223577, 'reg_alpha': 3.9817463604970107, 'reg_lambda': 4.467558610680112}. Best is trial 3 with value: 2.0309044658933124.\n",
            "[I 2025-07-07 18:49:02,365] Trial 4 finished with value: 2.139474760656865 and parameters: {'n_estimators': 136, 'max_depth': 6, 'learning_rate': 0.2339961368281948, 'subsample': 0.863500404623212, 'colsample_bytree': 0.9422178288558432, 'reg_alpha': 7.499366028719473, 'reg_lambda': 0.49750868934139914}. Best is trial 3 with value: 2.0309044658933124.\n"
          ]
        },
        {
          "name": "stdout",
          "output_type": "stream",
          "text": [
            "Time bin 28 (07:00-07:14) - Best MAE: 2.0309\n",
            "Training model for time bin 29 (07:15-07:29)...\n"
          ]
        },
        {
          "name": "stderr",
          "output_type": "stream",
          "text": [
            "[I 2025-07-07 18:51:51,111] A new study created in memory with name: timebin_29\n",
            "[I 2025-07-07 18:54:00,405] Trial 0 finished with value: 2.0922079044779682 and parameters: {'n_estimators': 153, 'max_depth': 6, 'learning_rate': 0.2610225627773102, 'subsample': 0.6136201061178004, 'colsample_bytree': 0.6946456402561056, 'reg_alpha': 3.3387476459575303, 'reg_lambda': 0.03172719655498552}. Best is trial 0 with value: 2.0922079044779682.\n",
            "[I 2025-07-07 18:57:56,288] Trial 1 finished with value: 2.021961665149196 and parameters: {'n_estimators': 279, 'max_depth': 6, 'learning_rate': 0.12264440152114348, 'subsample': 0.8053769250546248, 'colsample_bytree': 0.873066029170426, 'reg_alpha': 7.848937166232496, 'reg_lambda': 0.9933387250556963}. Best is trial 1 with value: 2.021961665149196.\n",
            "[I 2025-07-07 18:58:50,481] Trial 2 finished with value: 2.827007538176057 and parameters: {'n_estimators': 133, 'max_depth': 3, 'learning_rate': 0.0365352710480588, 'subsample': 0.8441327826282783, 'colsample_bytree': 0.9814281384639536, 'reg_alpha': 8.405013504022142, 'reg_lambda': 3.3258635419794738}. Best is trial 1 with value: 2.021961665149196.\n",
            "[I 2025-07-07 19:00:49,759] Trial 3 finished with value: 2.0685368633873313 and parameters: {'n_estimators': 249, 'max_depth': 4, 'learning_rate': 0.24834555505312692, 'subsample': 0.6726347662160238, 'colsample_bytree': 0.6248539239631303, 'reg_alpha': 9.114261256289307, 'reg_lambda': 3.917469471936483}. Best is trial 1 with value: 2.021961665149196.\n",
            "[I 2025-07-07 19:02:34,885] Trial 4 finished with value: 2.0434506197501223 and parameters: {'n_estimators': 151, 'max_depth': 5, 'learning_rate': 0.14337714965141532, 'subsample': 0.8376835932005476, 'colsample_bytree': 0.7311722237148763, 'reg_alpha': 4.553936855262674, 'reg_lambda': 2.698846492855893}. Best is trial 1 with value: 2.021961665149196.\n"
          ]
        },
        {
          "name": "stdout",
          "output_type": "stream",
          "text": [
            "Time bin 29 (07:15-07:29) - Best MAE: 2.0220\n"
          ]
        },
        {
          "name": "stderr",
          "output_type": "stream",
          "text": [
            "[I 2025-07-07 19:06:56,589] A new study created in memory with name: timebin_30\n"
          ]
        },
        {
          "name": "stdout",
          "output_type": "stream",
          "text": [
            "Training model for time bin 30 (07:30-07:44)...\n"
          ]
        },
        {
          "name": "stderr",
          "output_type": "stream",
          "text": [
            "[I 2025-07-07 19:09:49,762] Trial 0 finished with value: 1.9755550135032707 and parameters: {'n_estimators': 227, 'max_depth': 5, 'learning_rate': 0.15567844756455634, 'subsample': 0.8038316302927508, 'colsample_bytree': 0.9563749383513936, 'reg_alpha': 3.847308897863657, 'reg_lambda': 0.1340405311966754}. Best is trial 0 with value: 1.9755550135032707.\n",
            "[I 2025-07-07 19:10:59,699] Trial 1 finished with value: 3.544209024658479 and parameters: {'n_estimators': 157, 'max_depth': 4, 'learning_rate': 0.015358007903524934, 'subsample': 0.9568900236223056, 'colsample_bytree': 0.661111339400742, 'reg_alpha': 9.676484221602099, 'reg_lambda': 1.372346273056226}. Best is trial 0 with value: 1.9755550135032707.\n",
            "[I 2025-07-07 19:11:40,352] Trial 2 finished with value: 2.0661786135576174 and parameters: {'n_estimators': 101, 'max_depth': 3, 'learning_rate': 0.22178865307133633, 'subsample': 0.8337942893777058, 'colsample_bytree': 0.6868414185299795, 'reg_alpha': 2.7615840806841305, 'reg_lambda': 1.2741621401889707}. Best is trial 0 with value: 1.9755550135032707.\n",
            "[I 2025-07-07 19:12:52,889] Trial 3 finished with value: 1.9887518238698243 and parameters: {'n_estimators': 192, 'max_depth': 3, 'learning_rate': 0.24861185171294287, 'subsample': 0.9540195889608363, 'colsample_bytree': 0.6720513274099154, 'reg_alpha': 4.612620549244372, 'reg_lambda': 6.072224098990958}. Best is trial 0 with value: 1.9755550135032707.\n",
            "[I 2025-07-07 19:14:16,922] Trial 4 finished with value: 2.1031370436574495 and parameters: {'n_estimators': 217, 'max_depth': 3, 'learning_rate': 0.26629344151929746, 'subsample': 0.6401218028593222, 'colsample_bytree': 0.6695010868528751, 'reg_alpha': 7.656992871621095, 'reg_lambda': 8.374155371687268}. Best is trial 0 with value: 1.9755550135032707.\n"
          ]
        },
        {
          "name": "stdout",
          "output_type": "stream",
          "text": [
            "Time bin 30 (07:30-07:44) - Best MAE: 1.9756\n"
          ]
        },
        {
          "name": "stderr",
          "output_type": "stream",
          "text": [
            "[I 2025-07-07 19:17:15,183] A new study created in memory with name: timebin_31\n"
          ]
        },
        {
          "name": "stdout",
          "output_type": "stream",
          "text": [
            "Training model for time bin 31 (07:45-07:59)...\n"
          ]
        },
        {
          "name": "stderr",
          "output_type": "stream",
          "text": [
            "[I 2025-07-07 19:19:31,182] Trial 0 finished with value: 2.141386550442787 and parameters: {'n_estimators': 172, 'max_depth': 6, 'learning_rate': 0.25182232813648847, 'subsample': 0.6572320785328015, 'colsample_bytree': 0.7815001993563053, 'reg_alpha': 8.483995367264791, 'reg_lambda': 4.0886658245677205}. Best is trial 0 with value: 2.141386550442787.\n",
            "[I 2025-07-07 19:22:34,118] Trial 1 finished with value: 2.0419701515246187 and parameters: {'n_estimators': 276, 'max_depth': 5, 'learning_rate': 0.29976684196725023, 'subsample': 0.7053031702569952, 'colsample_bytree': 0.619480910873744, 'reg_alpha': 5.584471424874155, 'reg_lambda': 5.502893432088094}. Best is trial 1 with value: 2.0419701515246187.\n",
            "[I 2025-07-07 19:24:16,608] Trial 2 finished with value: 2.167766065120644 and parameters: {'n_estimators': 125, 'max_depth': 6, 'learning_rate': 0.09645520951078299, 'subsample': 0.9895706273440626, 'colsample_bytree': 0.7629507599340395, 'reg_alpha': 7.1842101325592145, 'reg_lambda': 2.8021965178224946}. Best is trial 1 with value: 2.0419701515246187.\n",
            "[I 2025-07-07 19:25:29,302] Trial 3 finished with value: 4.148304613569901 and parameters: {'n_estimators': 110, 'max_depth': 6, 'learning_rate': 0.014060295217522282, 'subsample': 0.9172007028758479, 'colsample_bytree': 0.8125054070367204, 'reg_alpha': 5.327251528468813, 'reg_lambda': 1.1702954896310926}. Best is trial 1 with value: 2.0419701515246187.\n",
            "[I 2025-07-07 19:28:31,483] Trial 4 finished with value: 1.9407072113611503 and parameters: {'n_estimators': 207, 'max_depth': 6, 'learning_rate': 0.0969957587871076, 'subsample': 0.9120791675494476, 'colsample_bytree': 0.8053794236633214, 'reg_alpha': 5.3369667772872145, 'reg_lambda': 9.50465810988505}. Best is trial 4 with value: 1.9407072113611503.\n"
          ]
        },
        {
          "name": "stdout",
          "output_type": "stream",
          "text": [
            "Time bin 31 (07:45-07:59) - Best MAE: 1.9407\n"
          ]
        },
        {
          "name": "stderr",
          "output_type": "stream",
          "text": [
            "[I 2025-07-07 19:31:42,793] A new study created in memory with name: timebin_32\n"
          ]
        },
        {
          "name": "stdout",
          "output_type": "stream",
          "text": [
            "Training model for time bin 32 (08:00-08:14)...\n"
          ]
        },
        {
          "name": "stderr",
          "output_type": "stream",
          "text": [
            "[I 2025-07-07 19:34:03,512] Trial 0 finished with value: 1.877756196852715 and parameters: {'n_estimators': 145, 'max_depth': 6, 'learning_rate': 0.23356071443954532, 'subsample': 0.942312790879918, 'colsample_bytree': 0.7897469741665807, 'reg_alpha': 2.2224591374440457, 'reg_lambda': 5.680517291565141}. Best is trial 0 with value: 1.877756196852715.\n",
            "[I 2025-07-07 19:35:28,739] Trial 1 finished with value: 2.0056629535485144 and parameters: {'n_estimators': 156, 'max_depth': 4, 'learning_rate': 0.257498409732183, 'subsample': 0.7039272881378875, 'colsample_bytree': 0.8906276977696653, 'reg_alpha': 2.1128303681105765, 'reg_lambda': 9.568913232237943}. Best is trial 0 with value: 1.877756196852715.\n",
            "[I 2025-07-07 19:36:35,377] Trial 2 finished with value: 2.808333144106676 and parameters: {'n_estimators': 146, 'max_depth': 4, 'learning_rate': 0.03227098606787468, 'subsample': 0.7972362882230987, 'colsample_bytree': 0.6581414923367279, 'reg_alpha': 8.741563882818948, 'reg_lambda': 4.645522258014623}. Best is trial 0 with value: 1.877756196852715.\n",
            "[I 2025-07-07 19:38:53,253] Trial 3 finished with value: 1.7839017600686053 and parameters: {'n_estimators': 282, 'max_depth': 4, 'learning_rate': 0.08596216414787326, 'subsample': 0.9826335854986442, 'colsample_bytree': 0.634608549217313, 'reg_alpha': 4.697217000366758, 'reg_lambda': 1.9353050156832665}. Best is trial 3 with value: 1.7839017600686053.\n",
            "[I 2025-07-07 19:40:24,689] Trial 4 finished with value: 2.5093861452037447 and parameters: {'n_estimators': 180, 'max_depth': 4, 'learning_rate': 0.052558982334936374, 'subsample': 0.6807355597773818, 'colsample_bytree': 0.8924036178758519, 'reg_alpha': 7.4047324040468645, 'reg_lambda': 6.603291768517374}. Best is trial 3 with value: 1.7839017600686053.\n"
          ]
        },
        {
          "name": "stdout",
          "output_type": "stream",
          "text": [
            "Time bin 32 (08:00-08:14) - Best MAE: 1.7839\n",
            "Training model for time bin 33 (08:15-08:29)...\n"
          ]
        },
        {
          "name": "stderr",
          "output_type": "stream",
          "text": [
            "[I 2025-07-07 19:42:39,893] A new study created in memory with name: timebin_33\n",
            "[I 2025-07-07 19:45:20,404] Trial 0 finished with value: 2.069238127132662 and parameters: {'n_estimators': 168, 'max_depth': 6, 'learning_rate': 0.2772259916320314, 'subsample': 0.9460167154541478, 'colsample_bytree': 0.8758581531472347, 'reg_alpha': 6.622029265901432, 'reg_lambda': 9.742220644635172}. Best is trial 0 with value: 2.069238127132662.\n",
            "[I 2025-07-07 19:48:23,369] Trial 1 finished with value: 1.9523325980157042 and parameters: {'n_estimators': 196, 'max_depth': 6, 'learning_rate': 0.19857259056834003, 'subsample': 0.9722738387808869, 'colsample_bytree': 0.8225922136568475, 'reg_alpha': 5.23001612081469, 'reg_lambda': 7.2072954614127624}. Best is trial 1 with value: 1.9523325980157042.\n",
            "[I 2025-07-07 19:50:37,613] Trial 2 finished with value: 2.137869315597206 and parameters: {'n_estimators': 145, 'max_depth': 6, 'learning_rate': 0.12907941224656522, 'subsample': 0.668924379871516, 'colsample_bytree': 0.9192166260956979, 'reg_alpha': 3.1732829897892194, 'reg_lambda': 9.106788832352368}. Best is trial 1 with value: 1.9523325980157042.\n",
            "[I 2025-07-07 19:53:45,820] Trial 3 finished with value: 2.020992779980817 and parameters: {'n_estimators': 206, 'max_depth': 6, 'learning_rate': 0.0967729821106174, 'subsample': 0.6166164311200135, 'colsample_bytree': 0.9246285885504262, 'reg_alpha': 1.3093633844241945, 'reg_lambda': 7.857938695928613}. Best is trial 1 with value: 1.9523325980157042.\n",
            "[I 2025-07-07 19:56:10,034] Trial 4 finished with value: 2.0474738154319443 and parameters: {'n_estimators': 184, 'max_depth': 6, 'learning_rate': 0.14522682962127195, 'subsample': 0.7150362626800023, 'colsample_bytree': 0.6887353926831077, 'reg_alpha': 5.819777452415952, 'reg_lambda': 6.151673494064687}. Best is trial 1 with value: 1.9523325980157042.\n"
          ]
        },
        {
          "name": "stdout",
          "output_type": "stream",
          "text": [
            "Time bin 33 (08:15-08:29) - Best MAE: 1.9523\n",
            "Training model for time bin 34 (08:30-08:44)...\n"
          ]
        },
        {
          "name": "stderr",
          "output_type": "stream",
          "text": [
            "[I 2025-07-07 19:59:25,411] A new study created in memory with name: timebin_34\n",
            "[I 2025-07-07 20:00:47,374] Trial 0 finished with value: 2.118941184367936 and parameters: {'n_estimators': 111, 'max_depth': 5, 'learning_rate': 0.22179906419961815, 'subsample': 0.7596594937195154, 'colsample_bytree': 0.8782330596400105, 'reg_alpha': 6.499275738714724, 'reg_lambda': 2.8439660897981773}. Best is trial 0 with value: 2.118941184367936.\n",
            "[I 2025-07-07 20:02:20,926] Trial 1 finished with value: 2.0055898337168236 and parameters: {'n_estimators': 114, 'max_depth': 6, 'learning_rate': 0.19856385256086068, 'subsample': 0.6833902229607571, 'colsample_bytree': 0.6161222266985219, 'reg_alpha': 2.839943616498995, 'reg_lambda': 2.106002505289276}. Best is trial 1 with value: 2.0055898337168236.\n",
            "[I 2025-07-07 20:03:59,827] Trial 2 finished with value: 2.007060800644347 and parameters: {'n_estimators': 202, 'max_depth': 4, 'learning_rate': 0.13875294368794372, 'subsample': 0.7253834778380674, 'colsample_bytree': 0.6181157711589227, 'reg_alpha': 7.2282942172085125, 'reg_lambda': 3.732323702422561}. Best is trial 1 with value: 2.0055898337168236.\n",
            "[I 2025-07-07 20:06:58,551] Trial 3 finished with value: 1.9119589443272638 and parameters: {'n_estimators': 262, 'max_depth': 5, 'learning_rate': 0.19260658066726447, 'subsample': 0.9278191302354294, 'colsample_bytree': 0.7677324034098767, 'reg_alpha': 7.274756820407315, 'reg_lambda': 3.171711147196891}. Best is trial 3 with value: 1.9119589443272638.\n",
            "[I 2025-07-07 20:09:41,500] Trial 4 finished with value: 2.0086840448486787 and parameters: {'n_estimators': 221, 'max_depth': 5, 'learning_rate': 0.12650436067883833, 'subsample': 0.7637334086741812, 'colsample_bytree': 0.9708882377904494, 'reg_alpha': 7.655994297815971, 'reg_lambda': 1.1398737988705618}. Best is trial 3 with value: 1.9119589443272638.\n"
          ]
        },
        {
          "name": "stdout",
          "output_type": "stream",
          "text": [
            "Time bin 34 (08:30-08:44) - Best MAE: 1.9120\n",
            "Training model for time bin 35 (08:45-08:59)...\n"
          ]
        },
        {
          "name": "stderr",
          "output_type": "stream",
          "text": [
            "[I 2025-07-07 20:12:47,665] A new study created in memory with name: timebin_35\n",
            "[I 2025-07-07 20:14:36,500] Trial 0 finished with value: 3.067028818303137 and parameters: {'n_estimators': 291, 'max_depth': 3, 'learning_rate': 0.013250272845690005, 'subsample': 0.7847778167403919, 'colsample_bytree': 0.97489455606273, 'reg_alpha': 3.7282156624673966, 'reg_lambda': 2.3724750427001435}. Best is trial 0 with value: 3.067028818303137.\n",
            "[I 2025-07-07 20:15:30,875] Trial 1 finished with value: 1.9919107979792567 and parameters: {'n_estimators': 140, 'max_depth': 3, 'learning_rate': 0.16145966030750694, 'subsample': 0.997671470309437, 'colsample_bytree': 0.6901011126163108, 'reg_alpha': 0.46680463013638157, 'reg_lambda': 7.843905195601359}. Best is trial 1 with value: 1.9919107979792567.\n",
            "[I 2025-07-07 20:17:11,400] Trial 2 finished with value: 2.3294408889563756 and parameters: {'n_estimators': 270, 'max_depth': 3, 'learning_rate': 0.05024921979502913, 'subsample': 0.8324218870591494, 'colsample_bytree': 0.868214622937177, 'reg_alpha': 6.399124665326027, 'reg_lambda': 9.447065953811489}. Best is trial 1 with value: 1.9919107979792567.\n",
            "[I 2025-07-07 20:19:06,950] Trial 3 finished with value: 1.9957494644950724 and parameters: {'n_estimators': 238, 'max_depth': 4, 'learning_rate': 0.13021099246611811, 'subsample': 0.775132843024271, 'colsample_bytree': 0.6855430346327653, 'reg_alpha': 3.105112331502943, 'reg_lambda': 7.903876188804394}. Best is trial 1 with value: 1.9919107979792567.\n",
            "[I 2025-07-07 20:20:47,049] Trial 4 finished with value: 2.3828779261477924 and parameters: {'n_estimators': 156, 'max_depth': 5, 'learning_rate': 0.09141275094390067, 'subsample': 0.7506522520885479, 'colsample_bytree': 0.7499094738618198, 'reg_alpha': 5.999519026442699, 'reg_lambda': 9.711112317660696}. Best is trial 1 with value: 1.9919107979792567.\n"
          ]
        },
        {
          "name": "stdout",
          "output_type": "stream",
          "text": [
            "Time bin 35 (08:45-08:59) - Best MAE: 1.9919\n",
            "Training model for time bin 36 (09:00-09:14)...\n"
          ]
        },
        {
          "name": "stderr",
          "output_type": "stream",
          "text": [
            "[I 2025-07-07 20:21:42,045] A new study created in memory with name: timebin_36\n",
            "[I 2025-07-07 20:23:54,246] Trial 0 finished with value: 2.22111871992902 and parameters: {'n_estimators': 216, 'max_depth': 5, 'learning_rate': 0.12152037408726314, 'subsample': 0.7457385920495363, 'colsample_bytree': 0.644918366234454, 'reg_alpha': 9.280033013839393, 'reg_lambda': 5.892872806542981}. Best is trial 0 with value: 2.22111871992902.\n",
            "[I 2025-07-07 20:26:09,222] Trial 1 finished with value: 2.4200107341818042 and parameters: {'n_estimators': 268, 'max_depth': 4, 'learning_rate': 0.042554429899948475, 'subsample': 0.7861609332968232, 'colsample_bytree': 0.7893402603499853, 'reg_alpha': 7.080829202589299, 'reg_lambda': 5.664143600596406}. Best is trial 0 with value: 2.22111871992902.\n",
            "[I 2025-07-07 20:28:49,518] Trial 2 finished with value: 2.140125624874291 and parameters: {'n_estimators': 215, 'max_depth': 5, 'learning_rate': 0.24233081343217927, 'subsample': 0.6672381950921199, 'colsample_bytree': 0.7913402100854467, 'reg_alpha': 3.453484375423334, 'reg_lambda': 4.046724946110183}. Best is trial 2 with value: 2.140125624874291.\n",
            "[I 2025-07-07 20:29:44,350] Trial 3 finished with value: 2.1166127660735836 and parameters: {'n_estimators': 131, 'max_depth': 3, 'learning_rate': 0.11035958565919012, 'subsample': 0.9150231452639489, 'colsample_bytree': 0.9310866534285147, 'reg_alpha': 1.2558592186917312, 'reg_lambda': 1.914288517004736}. Best is trial 3 with value: 2.1166127660735836.\n",
            "[I 2025-07-07 20:31:11,794] Trial 4 finished with value: 2.042936041342469 and parameters: {'n_estimators': 235, 'max_depth': 3, 'learning_rate': 0.20811848139846298, 'subsample': 0.6185490578916287, 'colsample_bytree': 0.7429901046298716, 'reg_alpha': 1.5828062957161115, 'reg_lambda': 5.20880235571187}. Best is trial 4 with value: 2.042936041342469.\n"
          ]
        },
        {
          "name": "stdout",
          "output_type": "stream",
          "text": [
            "Time bin 36 (09:00-09:14) - Best MAE: 2.0429\n"
          ]
        },
        {
          "name": "stderr",
          "output_type": "stream",
          "text": [
            "[I 2025-07-07 20:32:39,661] A new study created in memory with name: timebin_37\n"
          ]
        },
        {
          "name": "stdout",
          "output_type": "stream",
          "text": [
            "Training model for time bin 37 (09:15-09:29)...\n"
          ]
        },
        {
          "name": "stderr",
          "output_type": "stream",
          "text": [
            "[I 2025-07-07 20:34:24,476] Trial 0 finished with value: 2.813742014749005 and parameters: {'n_estimators': 137, 'max_depth': 6, 'learning_rate': 0.05803770008219905, 'subsample': 0.7385325558803375, 'colsample_bytree': 0.7900025254460253, 'reg_alpha': 8.923529035870246, 'reg_lambda': 5.077095305648958}. Best is trial 0 with value: 2.813742014749005.\n",
            "[I 2025-07-07 20:36:10,894] Trial 1 finished with value: 1.9358253683612274 and parameters: {'n_estimators': 193, 'max_depth': 4, 'learning_rate': 0.2195518456697475, 'subsample': 0.9364409877441267, 'colsample_bytree': 0.9572285791777939, 'reg_alpha': 1.352396660400502, 'reg_lambda': 3.0377429878803284}. Best is trial 1 with value: 1.9358253683612274.\n",
            "[I 2025-07-07 20:37:49,655] Trial 2 finished with value: 2.1889628521348077 and parameters: {'n_estimators': 174, 'max_depth': 4, 'learning_rate': 0.2181843879332424, 'subsample': 0.6427469698490819, 'colsample_bytree': 0.9712386902469072, 'reg_alpha': 4.011642411889273, 'reg_lambda': 6.20240732847475}. Best is trial 1 with value: 1.9358253683612274.\n",
            "[I 2025-07-07 20:40:49,496] Trial 3 finished with value: 2.0118276908895187 and parameters: {'n_estimators': 208, 'max_depth': 6, 'learning_rate': 0.14060973472689228, 'subsample': 0.6530069817756281, 'colsample_bytree': 0.817555114493958, 'reg_alpha': 0.2120453201054264, 'reg_lambda': 4.281429806415514}. Best is trial 1 with value: 1.9358253683612274.\n",
            "[I 2025-07-07 20:42:18,051] Trial 4 finished with value: 1.9532077515475472 and parameters: {'n_estimators': 254, 'max_depth': 3, 'learning_rate': 0.0754003867296135, 'subsample': 0.9559041155683902, 'colsample_bytree': 0.6001870038087066, 'reg_alpha': 3.94972233836506, 'reg_lambda': 0.7810896531059482}. Best is trial 1 with value: 1.9358253683612274.\n"
          ]
        },
        {
          "name": "stdout",
          "output_type": "stream",
          "text": [
            "Time bin 37 (09:15-09:29) - Best MAE: 1.9358\n",
            "Training model for time bin 38 (09:30-09:44)...\n"
          ]
        },
        {
          "name": "stderr",
          "output_type": "stream",
          "text": [
            "[I 2025-07-07 20:43:59,697] A new study created in memory with name: timebin_38\n",
            "[I 2025-07-07 20:45:26,328] Trial 0 finished with value: 1.9539089317259752 and parameters: {'n_estimators': 241, 'max_depth': 3, 'learning_rate': 0.19670416072740451, 'subsample': 0.7845668190456454, 'colsample_bytree': 0.793214333428769, 'reg_alpha': 3.3598524907169725, 'reg_lambda': 4.05542174702024}. Best is trial 0 with value: 1.9539089317259752.\n",
            "[I 2025-07-07 20:46:56,036] Trial 1 finished with value: 2.3536389958906305 and parameters: {'n_estimators': 109, 'max_depth': 6, 'learning_rate': 0.15372230537747514, 'subsample': 0.6696121238452192, 'colsample_bytree': 0.6787196084300247, 'reg_alpha': 3.146026989630353, 'reg_lambda': 8.752682403367217}. Best is trial 0 with value: 1.9539089317259752.\n",
            "[I 2025-07-07 20:49:24,462] Trial 2 finished with value: 2.2222715652424467 and parameters: {'n_estimators': 205, 'max_depth': 6, 'learning_rate': 0.126540770607245, 'subsample': 0.6514321539688197, 'colsample_bytree': 0.6725704623524607, 'reg_alpha': 7.607226582106254, 'reg_lambda': 5.913379010695827}. Best is trial 0 with value: 1.9539089317259752.\n",
            "[I 2025-07-07 20:50:33,487] Trial 3 finished with value: 2.2891277910599546 and parameters: {'n_estimators': 190, 'max_depth': 3, 'learning_rate': 0.08098375556111377, 'subsample': 0.6453882468863145, 'colsample_bytree': 0.7858155074818197, 'reg_alpha': 2.766251760037821, 'reg_lambda': 5.873060766298246}. Best is trial 0 with value: 1.9539089317259752.\n",
            "[I 2025-07-07 20:52:53,023] Trial 4 finished with value: 2.0003623833881163 and parameters: {'n_estimators': 285, 'max_depth': 4, 'learning_rate': 0.09155630605857895, 'subsample': 0.8716572860755983, 'colsample_bytree': 0.7925406791447029, 'reg_alpha': 7.171686516492802, 'reg_lambda': 7.082922801372757}. Best is trial 0 with value: 1.9539089317259752.\n"
          ]
        },
        {
          "name": "stdout",
          "output_type": "stream",
          "text": [
            "Time bin 38 (09:30-09:44) - Best MAE: 1.9539\n",
            "Training model for time bin 39 (09:45-09:59)...\n"
          ]
        },
        {
          "name": "stderr",
          "output_type": "stream",
          "text": [
            "[I 2025-07-07 20:54:18,917] A new study created in memory with name: timebin_39\n",
            "[I 2025-07-07 20:55:27,095] Trial 0 finished with value: 2.434766050145426 and parameters: {'n_estimators': 195, 'max_depth': 3, 'learning_rate': 0.1284685138357132, 'subsample': 0.7008531076093417, 'colsample_bytree': 0.6338639302658238, 'reg_alpha': 9.111406298289905, 'reg_lambda': 8.812839963439826}. Best is trial 0 with value: 2.434766050145426.\n",
            "[I 2025-07-07 20:56:56,917] Trial 1 finished with value: 2.0850529608667063 and parameters: {'n_estimators': 138, 'max_depth': 5, 'learning_rate': 0.11485773803414709, 'subsample': 0.9904942111917858, 'colsample_bytree': 0.7278176849291113, 'reg_alpha': 3.7309320203902976, 'reg_lambda': 2.118786023422684}. Best is trial 1 with value: 2.0850529608667063.\n",
            "[I 2025-07-07 20:58:51,237] Trial 2 finished with value: 2.2077738306061043 and parameters: {'n_estimators': 228, 'max_depth': 4, 'learning_rate': 0.20945492318237674, 'subsample': 0.7149016408568818, 'colsample_bytree': 0.8242134883442622, 'reg_alpha': 9.856247617261202, 'reg_lambda': 8.178782906465344}. Best is trial 1 with value: 2.0850529608667063.\n",
            "[I 2025-07-07 21:00:58,316] Trial 3 finished with value: 2.295348869327866 and parameters: {'n_estimators': 185, 'max_depth': 5, 'learning_rate': 0.10454384063053544, 'subsample': 0.8011764797004599, 'colsample_bytree': 0.9172001206290274, 'reg_alpha': 7.3626262195127365, 'reg_lambda': 2.6715898906900915}. Best is trial 1 with value: 2.0850529608667063.\n",
            "[I 2025-07-07 21:02:21,872] Trial 4 finished with value: 2.158223343796976 and parameters: {'n_estimators': 136, 'max_depth': 5, 'learning_rate': 0.1015463562928257, 'subsample': 0.9553807392470318, 'colsample_bytree': 0.6256492740060453, 'reg_alpha': 3.1645778639330278, 'reg_lambda': 4.928274359749269}. Best is trial 1 with value: 2.0850529608667063.\n"
          ]
        },
        {
          "name": "stdout",
          "output_type": "stream",
          "text": [
            "Time bin 39 (09:45-09:59) - Best MAE: 2.0851\n"
          ]
        },
        {
          "name": "stderr",
          "output_type": "stream",
          "text": [
            "[I 2025-07-07 21:03:52,306] A new study created in memory with name: timebin_40\n"
          ]
        },
        {
          "name": "stdout",
          "output_type": "stream",
          "text": [
            "Training model for time bin 40 (10:00-10:14)...\n"
          ]
        },
        {
          "name": "stderr",
          "output_type": "stream",
          "text": [
            "[I 2025-07-07 21:05:02,280] Trial 0 finished with value: 2.3672812142982216 and parameters: {'n_estimators': 103, 'max_depth': 5, 'learning_rate': 0.12762069388821026, 'subsample': 0.8397848313910017, 'colsample_bytree': 0.8071455282192698, 'reg_alpha': 4.908676633303416, 'reg_lambda': 0.010054135652566494}. Best is trial 0 with value: 2.3672812142982216.\n",
            "[I 2025-07-07 21:06:34,905] Trial 1 finished with value: 2.2811479405250927 and parameters: {'n_estimators': 127, 'max_depth': 5, 'learning_rate': 0.2880136457385666, 'subsample': 0.9086831458343116, 'colsample_bytree': 0.8539516445005476, 'reg_alpha': 6.28059687499722, 'reg_lambda': 2.9517729923080562}. Best is trial 1 with value: 2.2811479405250927.\n",
            "[I 2025-07-07 21:08:35,383] Trial 2 finished with value: 2.558677240599411 and parameters: {'n_estimators': 146, 'max_depth': 6, 'learning_rate': 0.07505215196781781, 'subsample': 0.7702905048249944, 'colsample_bytree': 0.9404426948901774, 'reg_alpha': 7.190646620391383, 'reg_lambda': 0.5164253915828291}. Best is trial 1 with value: 2.2811479405250927.\n",
            "[I 2025-07-07 21:10:39,692] Trial 3 finished with value: 2.2415434657379665 and parameters: {'n_estimators': 240, 'max_depth': 4, 'learning_rate': 0.22643612746401232, 'subsample': 0.8082504861149786, 'colsample_bytree': 0.8947140495941386, 'reg_alpha': 9.136429414158886, 'reg_lambda': 2.1734106686357206}. Best is trial 3 with value: 2.2415434657379665.\n",
            "[I 2025-07-07 21:29:35,320] Trial 4 finished with value: 2.2185029549653787 and parameters: {'n_estimators': 284, 'max_depth': 6, 'learning_rate': 0.2865780452650239, 'subsample': 0.8505408600873667, 'colsample_bytree': 0.9175887109068162, 'reg_alpha': 4.568622432438731, 'reg_lambda': 2.8491178201391905}. Best is trial 4 with value: 2.2185029549653787.\n"
          ]
        },
        {
          "name": "stdout",
          "output_type": "stream",
          "text": [
            "Time bin 40 (10:00-10:14) - Best MAE: 2.2185\n"
          ]
        },
        {
          "name": "stderr",
          "output_type": "stream",
          "text": [
            "[I 2025-07-07 21:34:30,600] A new study created in memory with name: timebin_41\n"
          ]
        },
        {
          "name": "stdout",
          "output_type": "stream",
          "text": [
            "Training model for time bin 41 (10:15-10:29)...\n"
          ]
        },
        {
          "name": "stderr",
          "output_type": "stream",
          "text": [
            "[I 2025-07-07 21:36:35,168] Trial 0 finished with value: 2.1083682178665444 and parameters: {'n_estimators': 149, 'max_depth': 6, 'learning_rate': 0.1699725235863513, 'subsample': 0.9100372404737501, 'colsample_bytree': 0.6820065278306987, 'reg_alpha': 2.478744858195674, 'reg_lambda': 6.211382976073027}. Best is trial 0 with value: 2.1083682178665444.\n",
            "[I 2025-07-07 21:39:00,595] Trial 1 finished with value: 2.103345412195979 and parameters: {'n_estimators': 197, 'max_depth': 5, 'learning_rate': 0.1538570189404458, 'subsample': 0.9418443025858492, 'colsample_bytree': 0.8920829324616968, 'reg_alpha': 5.0765439548426965, 'reg_lambda': 2.4973923130812383}. Best is trial 1 with value: 2.103345412195979.\n",
            "[I 2025-07-07 21:39:53,891] Trial 2 finished with value: 2.7938955720143284 and parameters: {'n_estimators': 141, 'max_depth': 3, 'learning_rate': 0.09842421525632047, 'subsample': 0.6117347067766615, 'colsample_bytree': 0.8610212395198493, 'reg_alpha': 8.881866666535327, 'reg_lambda': 1.8545233857702172}. Best is trial 1 with value: 2.103345412195979.\n",
            "[I 2025-07-07 21:41:12,347] Trial 3 finished with value: 2.040236987586097 and parameters: {'n_estimators': 157, 'max_depth': 4, 'learning_rate': 0.2942645224742181, 'subsample': 0.8309785494069438, 'colsample_bytree': 0.9277201323394931, 'reg_alpha': 0.7383172826697616, 'reg_lambda': 1.1429463108723141}. Best is trial 3 with value: 2.040236987586097.\n",
            "[I 2025-07-07 21:44:31,239] Trial 4 finished with value: 1.9969678377992943 and parameters: {'n_estimators': 290, 'max_depth': 5, 'learning_rate': 0.26693003605753096, 'subsample': 0.9437075526631792, 'colsample_bytree': 0.9388085262792284, 'reg_alpha': 0.2643474413396712, 'reg_lambda': 2.867952517933676}. Best is trial 4 with value: 1.9969678377992943.\n"
          ]
        },
        {
          "name": "stdout",
          "output_type": "stream",
          "text": [
            "Time bin 41 (10:15-10:29) - Best MAE: 1.9970\n",
            "Training model for time bin 42 (10:30-10:44)...\n"
          ]
        },
        {
          "name": "stderr",
          "output_type": "stream",
          "text": [
            "[I 2025-07-07 21:47:49,844] A new study created in memory with name: timebin_42\n",
            "[I 2025-07-07 21:50:23,653] Trial 0 finished with value: 2.3372084244061706 and parameters: {'n_estimators': 160, 'max_depth': 6, 'learning_rate': 0.27887879547280475, 'subsample': 0.8601180072594101, 'colsample_bytree': 0.8530117089965878, 'reg_alpha': 4.396471624322145, 'reg_lambda': 0.5965781177182441}. Best is trial 0 with value: 2.3372084244061706.\n",
            "[I 2025-07-07 21:52:40,697] Trial 1 finished with value: 2.3300609920797157 and parameters: {'n_estimators': 199, 'max_depth': 5, 'learning_rate': 0.10736786014788106, 'subsample': 0.9160293891994769, 'colsample_bytree': 0.9005053520898139, 'reg_alpha': 8.579614016763829, 'reg_lambda': 7.153156313131197}. Best is trial 1 with value: 2.3300609920797157.\n",
            "[I 2025-07-07 21:54:17,689] Trial 2 finished with value: 2.0758651820563534 and parameters: {'n_estimators': 294, 'max_depth': 3, 'learning_rate': 0.2320135845297687, 'subsample': 0.6617174729146404, 'colsample_bytree': 0.681885174014565, 'reg_alpha': 0.1318939030524218, 'reg_lambda': 1.899513037914786}. Best is trial 2 with value: 2.0758651820563534.\n",
            "[I 2025-07-07 21:57:22,329] Trial 3 finished with value: 2.1820096246819745 and parameters: {'n_estimators': 258, 'max_depth': 5, 'learning_rate': 0.2182509986999266, 'subsample': 0.8868928749523721, 'colsample_bytree': 0.7816920216916996, 'reg_alpha': 3.735668977088444, 'reg_lambda': 2.1163989119995077}. Best is trial 2 with value: 2.0758651820563534.\n",
            "[I 2025-07-07 21:58:41,914] Trial 4 finished with value: 3.3311037625601316 and parameters: {'n_estimators': 117, 'max_depth': 5, 'learning_rate': 0.038578460963157625, 'subsample': 0.9012447423497242, 'colsample_bytree': 0.7539155902424034, 'reg_alpha': 5.364368422284951, 'reg_lambda': 6.779896805544911}. Best is trial 2 with value: 2.0758651820563534.\n"
          ]
        },
        {
          "name": "stdout",
          "output_type": "stream",
          "text": [
            "Time bin 42 (10:30-10:44) - Best MAE: 2.0759\n",
            "Training model for time bin 43 (10:45-10:59)...\n"
          ]
        },
        {
          "name": "stderr",
          "output_type": "stream",
          "text": [
            "[I 2025-07-07 22:00:24,134] A new study created in memory with name: timebin_43\n",
            "[I 2025-07-07 22:03:42,251] Trial 0 finished with value: 2.110235053190167 and parameters: {'n_estimators': 294, 'max_depth': 5, 'learning_rate': 0.09603161838744897, 'subsample': 0.9349155538501889, 'colsample_bytree': 0.7992149085286436, 'reg_alpha': 3.944669213259791, 'reg_lambda': 4.389202785553214}. Best is trial 0 with value: 2.110235053190167.\n",
            "[I 2025-07-07 22:04:31,855] Trial 1 finished with value: 2.454613849834137 and parameters: {'n_estimators': 129, 'max_depth': 3, 'learning_rate': 0.16856772672873993, 'subsample': 0.760557380045305, 'colsample_bytree': 0.8356986613101325, 'reg_alpha': 5.2458042405037055, 'reg_lambda': 4.093637858799459}. Best is trial 0 with value: 2.110235053190167.\n",
            "[I 2025-07-07 22:05:46,201] Trial 2 finished with value: 2.644343885096108 and parameters: {'n_estimators': 134, 'max_depth': 4, 'learning_rate': 0.21332524778965878, 'subsample': 0.6374742443704701, 'colsample_bytree': 0.9731039923861811, 'reg_alpha': 8.917362693612972, 'reg_lambda': 0.8707954952408871}. Best is trial 0 with value: 2.110235053190167.\n",
            "[I 2025-07-07 22:06:55,483] Trial 3 finished with value: 2.6783185446155233 and parameters: {'n_estimators': 128, 'max_depth': 4, 'learning_rate': 0.1014736593481789, 'subsample': 0.9218951246546613, 'colsample_bytree': 0.9276283812036101, 'reg_alpha': 8.84788988703813, 'reg_lambda': 9.95036154381763}. Best is trial 0 with value: 2.110235053190167.\n",
            "[I 2025-07-07 22:09:02,947] Trial 4 finished with value: 2.3296252601372163 and parameters: {'n_estimators': 240, 'max_depth': 4, 'learning_rate': 0.18148600344834567, 'subsample': 0.7921618633316735, 'colsample_bytree': 0.9149850831104265, 'reg_alpha': 6.398595641539646, 'reg_lambda': 5.702319032655385}. Best is trial 0 with value: 2.110235053190167.\n"
          ]
        },
        {
          "name": "stdout",
          "output_type": "stream",
          "text": [
            "Time bin 43 (10:45-10:59) - Best MAE: 2.1102\n"
          ]
        },
        {
          "name": "stderr",
          "output_type": "stream",
          "text": [
            "[I 2025-07-07 22:12:26,485] A new study created in memory with name: timebin_44\n"
          ]
        },
        {
          "name": "stdout",
          "output_type": "stream",
          "text": [
            "Training model for time bin 44 (11:00-11:14)...\n"
          ]
        },
        {
          "name": "stderr",
          "output_type": "stream",
          "text": [
            "[I 2025-07-07 22:13:39,018] Trial 0 finished with value: 2.7684840894837035 and parameters: {'n_estimators': 215, 'max_depth': 3, 'learning_rate': 0.030567466003294075, 'subsample': 0.9381155363662987, 'colsample_bytree': 0.6591184850731001, 'reg_alpha': 2.4988009333858705, 'reg_lambda': 9.641713935290582}. Best is trial 0 with value: 2.7684840894837035.\n",
            "[I 2025-07-07 22:14:46,683] Trial 1 finished with value: 2.834452018019579 and parameters: {'n_estimators': 190, 'max_depth': 3, 'learning_rate': 0.034927606493327594, 'subsample': 0.9541696841312093, 'colsample_bytree': 0.8753209825476033, 'reg_alpha': 2.962517962472771, 'reg_lambda': 8.600301514338074}. Best is trial 0 with value: 2.7684840894837035.\n",
            "[I 2025-07-07 22:16:29,701] Trial 2 finished with value: 2.2683103365851207 and parameters: {'n_estimators': 211, 'max_depth': 4, 'learning_rate': 0.20070937784470885, 'subsample': 0.7368049467066505, 'colsample_bytree': 0.7674820414285632, 'reg_alpha': 1.5956123260012445, 'reg_lambda': 5.394785362736956}. Best is trial 2 with value: 2.2683103365851207.\n",
            "[I 2025-07-07 22:19:00,923] Trial 3 finished with value: 2.2844316299236076 and parameters: {'n_estimators': 237, 'max_depth': 5, 'learning_rate': 0.19098459145594573, 'subsample': 0.6530400317613632, 'colsample_bytree': 0.6740536275774133, 'reg_alpha': 1.333123679628238, 'reg_lambda': 5.827868697854764}. Best is trial 2 with value: 2.2683103365851207.\n",
            "[I 2025-07-07 22:20:34,989] Trial 4 finished with value: 2.3164198332114454 and parameters: {'n_estimators': 204, 'max_depth': 4, 'learning_rate': 0.14245391154930184, 'subsample': 0.6519283221562885, 'colsample_bytree': 0.6238305828391354, 'reg_alpha': 2.408916323536235, 'reg_lambda': 6.987933665665285}. Best is trial 2 with value: 2.2683103365851207.\n"
          ]
        },
        {
          "name": "stdout",
          "output_type": "stream",
          "text": [
            "Time bin 44 (11:00-11:14) - Best MAE: 2.2683\n"
          ]
        },
        {
          "name": "stderr",
          "output_type": "stream",
          "text": [
            "[I 2025-07-07 22:22:18,229] A new study created in memory with name: timebin_45\n"
          ]
        },
        {
          "name": "stdout",
          "output_type": "stream",
          "text": [
            "Training model for time bin 45 (11:15-11:29)...\n"
          ]
        },
        {
          "name": "stderr",
          "output_type": "stream",
          "text": [
            "[I 2025-07-07 22:23:37,366] Trial 0 finished with value: 2.32181212211808 and parameters: {'n_estimators': 218, 'max_depth': 3, 'learning_rate': 0.15192927419201738, 'subsample': 0.6948206749361489, 'colsample_bytree': 0.8389501902717109, 'reg_alpha': 3.52594186605755, 'reg_lambda': 3.686884659564083}. Best is trial 0 with value: 2.32181212211808.\n",
            "[I 2025-07-07 22:25:56,309] Trial 1 finished with value: 2.312723887961392 and parameters: {'n_estimators': 203, 'max_depth': 5, 'learning_rate': 0.2329120657385942, 'subsample': 0.7981363630358972, 'colsample_bytree': 0.7136744701730036, 'reg_alpha': 2.7647479160682633, 'reg_lambda': 7.156936529937354}. Best is trial 1 with value: 2.312723887961392.\n",
            "[I 2025-07-07 22:27:18,950] Trial 2 finished with value: 2.279154078149367 and parameters: {'n_estimators': 221, 'max_depth': 3, 'learning_rate': 0.1492874140763916, 'subsample': 0.6376877522378015, 'colsample_bytree': 0.9224244982886675, 'reg_alpha': 2.3366601416920254, 'reg_lambda': 2.7125448607156937}. Best is trial 2 with value: 2.279154078149367.\n",
            "[I 2025-07-07 22:28:18,119] Trial 3 finished with value: 2.6016280399268643 and parameters: {'n_estimators': 119, 'max_depth': 4, 'learning_rate': 0.15791688001417833, 'subsample': 0.8374275075036469, 'colsample_bytree': 0.6189065290357377, 'reg_alpha': 9.861053592669622, 'reg_lambda': 7.472395766951868}. Best is trial 2 with value: 2.279154078149367.\n",
            "[I 2025-07-07 22:30:20,237] Trial 4 finished with value: 2.3869389717875764 and parameters: {'n_estimators': 159, 'max_depth': 6, 'learning_rate': 0.07901561172929558, 'subsample': 0.9814362201637153, 'colsample_bytree': 0.6422688903454572, 'reg_alpha': 6.478552767243722, 'reg_lambda': 8.224274791511013}. Best is trial 2 with value: 2.279154078149367.\n"
          ]
        },
        {
          "name": "stdout",
          "output_type": "stream",
          "text": [
            "Time bin 45 (11:15-11:29) - Best MAE: 2.2792\n",
            "Training model for time bin 46 (11:30-11:44)...\n"
          ]
        },
        {
          "name": "stderr",
          "output_type": "stream",
          "text": [
            "[I 2025-07-07 22:31:43,543] A new study created in memory with name: timebin_46\n",
            "[I 2025-07-07 22:35:24,572] Trial 0 finished with value: 2.3262745111520142 and parameters: {'n_estimators': 299, 'max_depth': 5, 'learning_rate': 0.12390966144124146, 'subsample': 0.7528154103821258, 'colsample_bytree': 0.9432186013022861, 'reg_alpha': 5.302417419793787, 'reg_lambda': 1.6462475486447152}. Best is trial 0 with value: 2.3262745111520142.\n",
            "[I 2025-07-07 22:37:18,113] Trial 1 finished with value: 2.225305366271267 and parameters: {'n_estimators': 243, 'max_depth': 4, 'learning_rate': 0.29972672503816944, 'subsample': 0.9552250162918814, 'colsample_bytree': 0.6978960948289754, 'reg_alpha': 1.7437218354633834, 'reg_lambda': 1.1385479527123266}. Best is trial 1 with value: 2.225305366271267.\n",
            "[I 2025-07-07 22:39:21,619] Trial 2 finished with value: 2.313790146595502 and parameters: {'n_estimators': 205, 'max_depth': 5, 'learning_rate': 0.061280591767788224, 'subsample': 0.7288699780100647, 'colsample_bytree': 0.6918973163681147, 'reg_alpha': 1.724006423288962, 'reg_lambda': 1.2441665344125443}. Best is trial 1 with value: 2.225305366271267.\n",
            "[I 2025-07-07 22:43:43,244] Trial 3 finished with value: 2.369721664898815 and parameters: {'n_estimators': 235, 'max_depth': 6, 'learning_rate': 0.2482699313490617, 'subsample': 0.9645511042030879, 'colsample_bytree': 0.8682639922605202, 'reg_alpha': 3.9649415516390305, 'reg_lambda': 7.868655391005401}. Best is trial 1 with value: 2.225305366271267.\n",
            "[I 2025-07-07 22:45:15,688] Trial 4 finished with value: 2.4341052279882467 and parameters: {'n_estimators': 156, 'max_depth': 4, 'learning_rate': 0.14810032829243244, 'subsample': 0.8032741280962215, 'colsample_bytree': 0.9924032024747217, 'reg_alpha': 5.699263092877892, 'reg_lambda': 1.0989943123547636}. Best is trial 1 with value: 2.225305366271267.\n"
          ]
        },
        {
          "name": "stdout",
          "output_type": "stream",
          "text": [
            "Time bin 46 (11:30-11:44) - Best MAE: 2.2253\n",
            "Training model for time bin 47 (11:45-11:59)...\n"
          ]
        },
        {
          "name": "stderr",
          "output_type": "stream",
          "text": [
            "[I 2025-07-07 22:47:18,593] A new study created in memory with name: timebin_47\n",
            "[I 2025-07-07 22:49:56,654] Trial 0 finished with value: 2.3011122320169335 and parameters: {'n_estimators': 297, 'max_depth': 4, 'learning_rate': 0.07687171595963864, 'subsample': 0.9088224012826388, 'colsample_bytree': 0.8900932363555398, 'reg_alpha': 3.4366932821499385, 'reg_lambda': 4.06949863702823}. Best is trial 0 with value: 2.3011122320169335.\n",
            "[I 2025-07-07 22:52:04,031] Trial 1 finished with value: 2.301134427827536 and parameters: {'n_estimators': 271, 'max_depth': 4, 'learning_rate': 0.0993284276731722, 'subsample': 0.8812110711915472, 'colsample_bytree': 0.6510687771234002, 'reg_alpha': 0.23202110566136222, 'reg_lambda': 8.429473592605826}. Best is trial 0 with value: 2.3011122320169335.\n",
            "[I 2025-07-07 22:56:51,824] Trial 2 finished with value: 2.427946557186055 and parameters: {'n_estimators': 283, 'max_depth': 6, 'learning_rate': 0.14921701587817243, 'subsample': 0.7780422899131281, 'colsample_bytree': 0.8979912512609668, 'reg_alpha': 4.5226305219864145, 'reg_lambda': 1.208727363200116}. Best is trial 0 with value: 2.3011122320169335.\n",
            "[I 2025-07-07 22:59:36,172] Trial 3 finished with value: 2.534522656471044 and parameters: {'n_estimators': 162, 'max_depth': 6, 'learning_rate': 0.28979799428061503, 'subsample': 0.629927013282196, 'colsample_bytree': 0.8980631194465507, 'reg_alpha': 3.0098542281628013, 'reg_lambda': 3.2761195335142266}. Best is trial 0 with value: 2.3011122320169335.\n",
            "[I 2025-07-07 23:01:18,512] Trial 4 finished with value: 2.3827405343082413 and parameters: {'n_estimators': 277, 'max_depth': 3, 'learning_rate': 0.1301442422512714, 'subsample': 0.8421380589280342, 'colsample_bytree': 0.7804359309736751, 'reg_alpha': 4.77037803888491, 'reg_lambda': 0.4556931247568486}. Best is trial 0 with value: 2.3011122320169335.\n"
          ]
        },
        {
          "name": "stdout",
          "output_type": "stream",
          "text": [
            "Time bin 47 (11:45-11:59) - Best MAE: 2.3011\n"
          ]
        },
        {
          "name": "stderr",
          "output_type": "stream",
          "text": [
            "[I 2025-07-07 23:03:50,272] A new study created in memory with name: timebin_48\n"
          ]
        },
        {
          "name": "stdout",
          "output_type": "stream",
          "text": [
            "Training model for time bin 48 (12:00-12:14)...\n"
          ]
        },
        {
          "name": "stderr",
          "output_type": "stream",
          "text": [
            "[I 2025-07-07 23:04:53,441] Trial 0 finished with value: 2.3947766905390435 and parameters: {'n_estimators': 161, 'max_depth': 3, 'learning_rate': 0.2743802765124029, 'subsample': 0.6493853455362181, 'colsample_bytree': 0.712780635253434, 'reg_alpha': 5.211382751575717, 'reg_lambda': 9.080571608812727}. Best is trial 0 with value: 2.3947766905390435.\n",
            "[I 2025-07-07 23:07:17,652] Trial 1 finished with value: 2.835877402080753 and parameters: {'n_estimators': 264, 'max_depth': 4, 'learning_rate': 0.03328482746872858, 'subsample': 0.6780458762743448, 'colsample_bytree': 0.8800296230264174, 'reg_alpha': 3.934286572681913, 'reg_lambda': 8.074614055943114}. Best is trial 0 with value: 2.3947766905390435.\n",
            "[I 2025-07-07 23:09:22,819] Trial 2 finished with value: 2.223152858672942 and parameters: {'n_estimators': 240, 'max_depth': 4, 'learning_rate': 0.1306782570796126, 'subsample': 0.9832628712943157, 'colsample_bytree': 0.6669120530236812, 'reg_alpha': 6.762253115826921, 'reg_lambda': 5.582331705965027}. Best is trial 2 with value: 2.223152858672942.\n",
            "[I 2025-07-07 23:11:35,794] Trial 3 finished with value: 2.772260948068832 and parameters: {'n_estimators': 179, 'max_depth': 5, 'learning_rate': 0.06116969827596853, 'subsample': 0.7771625584837545, 'colsample_bytree': 0.8205268579709274, 'reg_alpha': 8.572112694062575, 'reg_lambda': 2.0886367600460622}. Best is trial 2 with value: 2.223152858672942.\n",
            "[I 2025-07-07 23:13:13,641] Trial 4 finished with value: 2.0764088568690586 and parameters: {'n_estimators': 236, 'max_depth': 3, 'learning_rate': 0.22629729307151278, 'subsample': 0.9892518630765925, 'colsample_bytree': 0.6958475881442739, 'reg_alpha': 1.8406980811003435, 'reg_lambda': 4.358348459478165}. Best is trial 4 with value: 2.0764088568690586.\n"
          ]
        },
        {
          "name": "stdout",
          "output_type": "stream",
          "text": [
            "Time bin 48 (12:00-12:14) - Best MAE: 2.0764\n"
          ]
        },
        {
          "name": "stderr",
          "output_type": "stream",
          "text": [
            "[I 2025-07-07 23:14:51,089] A new study created in memory with name: timebin_49\n"
          ]
        },
        {
          "name": "stdout",
          "output_type": "stream",
          "text": [
            "Training model for time bin 49 (12:15-12:29)...\n"
          ]
        },
        {
          "name": "stderr",
          "output_type": "stream",
          "text": [
            "[I 2025-07-07 23:17:54,992] Trial 0 finished with value: 2.2595357555002993 and parameters: {'n_estimators': 244, 'max_depth': 5, 'learning_rate': 0.2133759381169902, 'subsample': 0.8071231336425059, 'colsample_bytree': 0.6281351358621482, 'reg_alpha': 1.8674869568260188, 'reg_lambda': 5.790147317783666}. Best is trial 0 with value: 2.2595357555002993.\n",
            "[I 2025-07-07 23:20:58,399] Trial 1 finished with value: 2.627971503958286 and parameters: {'n_estimators': 189, 'max_depth': 6, 'learning_rate': 0.12062235163750756, 'subsample': 0.8109617007054373, 'colsample_bytree': 0.7201646727641698, 'reg_alpha': 8.707725287323912, 'reg_lambda': 8.109740560491067}. Best is trial 0 with value: 2.2595357555002993.\n",
            "[I 2025-07-07 23:22:48,987] Trial 2 finished with value: 2.5105328416415706 and parameters: {'n_estimators': 269, 'max_depth': 3, 'learning_rate': 0.1991565039965109, 'subsample': 0.8810990841811811, 'colsample_bytree': 0.7647394712416887, 'reg_alpha': 8.574987644981299, 'reg_lambda': 6.9360675180074445}. Best is trial 0 with value: 2.2595357555002993.\n",
            "[I 2025-07-07 23:24:06,193] Trial 3 finished with value: 3.251086828843287 and parameters: {'n_estimators': 165, 'max_depth': 3, 'learning_rate': 0.026176679134914248, 'subsample': 0.97116425148153, 'colsample_bytree': 0.9847745989517072, 'reg_alpha': 1.7249854492998846, 'reg_lambda': 9.086649653166894}. Best is trial 0 with value: 2.2595357555002993.\n",
            "[I 2025-07-07 23:25:33,224] Trial 4 finished with value: 2.37052540117975 and parameters: {'n_estimators': 201, 'max_depth': 3, 'learning_rate': 0.17474713504053999, 'subsample': 0.6511713763598236, 'colsample_bytree': 0.9265302541838132, 'reg_alpha': 0.4493086531720095, 'reg_lambda': 4.527589322150042}. Best is trial 0 with value: 2.2595357555002993.\n"
          ]
        },
        {
          "name": "stdout",
          "output_type": "stream",
          "text": [
            "Time bin 49 (12:15-12:29) - Best MAE: 2.2595\n",
            "Training model for time bin 50 (12:30-12:44)...\n"
          ]
        },
        {
          "name": "stderr",
          "output_type": "stream",
          "text": [
            "[I 2025-07-07 23:29:08,817] A new study created in memory with name: timebin_50\n",
            "[I 2025-07-07 23:31:32,629] Trial 0 finished with value: 2.3339976520408405 and parameters: {'n_estimators': 188, 'max_depth': 5, 'learning_rate': 0.15443633444146, 'subsample': 0.8103459590291788, 'colsample_bytree': 0.660353084520693, 'reg_alpha': 3.634414724726544, 'reg_lambda': 8.157845669815705}. Best is trial 0 with value: 2.3339976520408405.\n",
            "[I 2025-07-07 23:35:34,102] Trial 1 finished with value: 2.1449744917036173 and parameters: {'n_estimators': 290, 'max_depth': 5, 'learning_rate': 0.22853819490888352, 'subsample': 0.996932681935198, 'colsample_bytree': 0.8441500486477918, 'reg_alpha': 2.3040522480408, 'reg_lambda': 0.5089027163151548}. Best is trial 1 with value: 2.1449744917036173.\n",
            "[I 2025-07-07 23:36:45,450] Trial 2 finished with value: 2.4871681046072043 and parameters: {'n_estimators': 157, 'max_depth': 3, 'learning_rate': 0.2703691555215824, 'subsample': 0.8793334467375409, 'colsample_bytree': 0.940752461127914, 'reg_alpha': 7.881107537861108, 'reg_lambda': 8.849509841835157}. Best is trial 1 with value: 2.1449744917036173.\n",
            "[I 2025-07-07 23:38:38,210] Trial 3 finished with value: 2.2736668275461387 and parameters: {'n_estimators': 178, 'max_depth': 4, 'learning_rate': 0.18538999560745908, 'subsample': 0.7290205945985961, 'colsample_bytree': 0.8068856859558495, 'reg_alpha': 0.04273176295251149, 'reg_lambda': 9.979112694682438}. Best is trial 1 with value: 2.1449744917036173.\n",
            "[I 2025-07-07 23:40:02,508] Trial 4 finished with value: 2.3929247290641236 and parameters: {'n_estimators': 118, 'max_depth': 4, 'learning_rate': 0.2844113458347532, 'subsample': 0.9572466966076767, 'colsample_bytree': 0.8749803378556684, 'reg_alpha': 6.624212736280235, 'reg_lambda': 4.573626603525365}. Best is trial 1 with value: 2.1449744917036173.\n"
          ]
        },
        {
          "name": "stdout",
          "output_type": "stream",
          "text": [
            "Time bin 50 (12:30-12:44) - Best MAE: 2.1450\n",
            "Training model for time bin 51 (12:45-12:59)...\n"
          ]
        },
        {
          "name": "stderr",
          "output_type": "stream",
          "text": [
            "[I 2025-07-07 23:44:56,557] A new study created in memory with name: timebin_51\n",
            "[I 2025-07-07 23:48:38,990] Trial 0 finished with value: 2.0939279079081015 and parameters: {'n_estimators': 269, 'max_depth': 5, 'learning_rate': 0.09484997879982889, 'subsample': 0.7074506970548382, 'colsample_bytree': 0.6914515001772314, 'reg_alpha': 2.5468500756349624, 'reg_lambda': 6.418583976557641}. Best is trial 0 with value: 2.0939279079081015.\n",
            "[I 2025-07-07 23:50:51,372] Trial 1 finished with value: 2.127377721610056 and parameters: {'n_estimators': 118, 'max_depth': 6, 'learning_rate': 0.14368444948694853, 'subsample': 0.9719345841302056, 'colsample_bytree': 0.6788240500762805, 'reg_alpha': 3.9395691111591526, 'reg_lambda': 2.2596773365790637}. Best is trial 0 with value: 2.0939279079081015.\n",
            "[I 2025-07-07 23:55:46,036] Trial 2 finished with value: 2.005262845164471 and parameters: {'n_estimators': 260, 'max_depth': 6, 'learning_rate': 0.197355007528248, 'subsample': 0.8639426067636942, 'colsample_bytree': 0.8040972841885206, 'reg_alpha': 7.442431371823601, 'reg_lambda': 0.2262693201951199}. Best is trial 2 with value: 2.005262845164471.\n",
            "[I 2025-07-07 23:56:56,079] Trial 3 finished with value: 2.1836565972003172 and parameters: {'n_estimators': 140, 'max_depth': 3, 'learning_rate': 0.19940057352778107, 'subsample': 0.8491224822387093, 'colsample_bytree': 0.9291622124205177, 'reg_alpha': 6.972779709110101, 'reg_lambda': 8.334183991924128}. Best is trial 2 with value: 2.005262845164471.\n",
            "[I 2025-07-08 00:02:00,569] Trial 4 finished with value: 1.9503031861370825 and parameters: {'n_estimators': 266, 'max_depth': 6, 'learning_rate': 0.2478143548195743, 'subsample': 0.8468712732890683, 'colsample_bytree': 0.7181659454055314, 'reg_alpha': 3.1788198107988235, 'reg_lambda': 1.5090505163912578}. Best is trial 4 with value: 1.9503031861370825.\n"
          ]
        },
        {
          "name": "stdout",
          "output_type": "stream",
          "text": [
            "Time bin 51 (12:45-12:59) - Best MAE: 1.9503\n"
          ]
        },
        {
          "name": "stderr",
          "output_type": "stream",
          "text": [
            "[I 2025-07-08 00:07:53,274] A new study created in memory with name: timebin_52\n"
          ]
        },
        {
          "name": "stdout",
          "output_type": "stream",
          "text": [
            "Training model for time bin 52 (13:00-13:14)...\n"
          ]
        },
        {
          "name": "stderr",
          "output_type": "stream",
          "text": [
            "[I 2025-07-08 00:09:38,772] Trial 0 finished with value: 1.9421741348967347 and parameters: {'n_estimators': 221, 'max_depth': 3, 'learning_rate': 0.07286598765988563, 'subsample': 0.9157030823091448, 'colsample_bytree': 0.7177058317960658, 'reg_alpha': 1.413294207581035, 'reg_lambda': 1.3264412970321486}. Best is trial 0 with value: 1.9421741348967347.\n",
            "[I 2025-07-08 00:12:12,213] Trial 1 finished with value: 1.9122071250457864 and parameters: {'n_estimators': 218, 'max_depth': 4, 'learning_rate': 0.24742933082120278, 'subsample': 0.7884662988763816, 'colsample_bytree': 0.682453748101253, 'reg_alpha': 5.005636699835303, 'reg_lambda': 7.008011359787551}. Best is trial 1 with value: 1.9122071250457864.\n",
            "[I 2025-07-08 00:14:07,105] Trial 2 finished with value: 1.9192624152159856 and parameters: {'n_estimators': 206, 'max_depth': 3, 'learning_rate': 0.24300597936629215, 'subsample': 0.9151967469945609, 'colsample_bytree': 0.9953090614192993, 'reg_alpha': 6.579732958833037, 'reg_lambda': 4.731861279997382}. Best is trial 1 with value: 1.9122071250457864.\n",
            "[I 2025-07-08 00:17:11,220] Trial 3 finished with value: 1.974461030601748 and parameters: {'n_estimators': 160, 'max_depth': 5, 'learning_rate': 0.11766709651563254, 'subsample': 0.6977845258267448, 'colsample_bytree': 0.9395096834213394, 'reg_alpha': 4.305145247828568, 'reg_lambda': 5.707748617020145}. Best is trial 1 with value: 1.9122071250457864.\n",
            "[I 2025-07-08 00:18:12,756] Trial 4 finished with value: 2.1276341209168543 and parameters: {'n_estimators': 113, 'max_depth': 3, 'learning_rate': 0.10267877158607401, 'subsample': 0.6808617810818208, 'colsample_bytree': 0.8139274135638537, 'reg_alpha': 8.85967609327038, 'reg_lambda': 8.958199618566427}. Best is trial 1 with value: 1.9122071250457864.\n"
          ]
        },
        {
          "name": "stdout",
          "output_type": "stream",
          "text": [
            "Time bin 52 (13:00-13:14) - Best MAE: 1.9122\n",
            "Training model for time bin 53 (13:15-13:29)...\n"
          ]
        },
        {
          "name": "stderr",
          "output_type": "stream",
          "text": [
            "[I 2025-07-08 00:20:55,345] A new study created in memory with name: timebin_53\n",
            "[I 2025-07-08 00:22:12,256] Trial 0 finished with value: 2.3003318259889434 and parameters: {'n_estimators': 158, 'max_depth': 3, 'learning_rate': 0.13585006731903698, 'subsample': 0.6396337825987494, 'colsample_bytree': 0.6066979642189829, 'reg_alpha': 5.964542945494333, 'reg_lambda': 4.843254439771443}. Best is trial 0 with value: 2.3003318259889434.\n",
            "[I 2025-07-08 00:24:04,127] Trial 1 finished with value: 2.4113173305718516 and parameters: {'n_estimators': 220, 'max_depth': 3, 'learning_rate': 0.03124638585230549, 'subsample': 0.9861231500452672, 'colsample_bytree': 0.7989659654963088, 'reg_alpha': 1.8451483654060123, 'reg_lambda': 6.886146773035382}. Best is trial 0 with value: 2.3003318259889434.\n",
            "[I 2025-07-08 00:25:35,300] Trial 2 finished with value: 2.0347250221703397 and parameters: {'n_estimators': 144, 'max_depth': 4, 'learning_rate': 0.20085045366387932, 'subsample': 0.9541955489608177, 'colsample_bytree': 0.7181087316105728, 'reg_alpha': 0.5044462209583331, 'reg_lambda': 8.128392700926565}. Best is trial 2 with value: 2.0347250221703397.\n",
            "[I 2025-07-08 00:29:05,564] Trial 3 finished with value: 2.115059915222825 and parameters: {'n_estimators': 192, 'max_depth': 6, 'learning_rate': 0.11277099426553214, 'subsample': 0.8751837253467734, 'colsample_bytree': 0.6261532447170628, 'reg_alpha': 7.553220074861587, 'reg_lambda': 3.2262956765019433}. Best is trial 2 with value: 2.0347250221703397.\n",
            "[I 2025-07-08 00:32:16,122] Trial 4 finished with value: 2.041863704522975 and parameters: {'n_estimators': 200, 'max_depth': 5, 'learning_rate': 0.13490841447011712, 'subsample': 0.7039228627150328, 'colsample_bytree': 0.752781621620711, 'reg_alpha': 3.4417688317977686, 'reg_lambda': 0.7156555568184667}. Best is trial 2 with value: 2.0347250221703397.\n"
          ]
        },
        {
          "name": "stdout",
          "output_type": "stream",
          "text": [
            "Time bin 53 (13:15-13:29) - Best MAE: 2.0347\n",
            "Training model for time bin 54 (13:30-13:44)...\n"
          ]
        },
        {
          "name": "stderr",
          "output_type": "stream",
          "text": [
            "[I 2025-07-08 00:33:51,811] A new study created in memory with name: timebin_54\n",
            "[I 2025-07-08 00:37:41,387] Trial 0 finished with value: 2.9387914983908234 and parameters: {'n_estimators': 266, 'max_depth': 5, 'learning_rate': 0.012386536607022568, 'subsample': 0.854588169423055, 'colsample_bytree': 0.8143397828173917, 'reg_alpha': 2.056161035018511, 'reg_lambda': 3.1206586127800513}. Best is trial 0 with value: 2.9387914983908234.\n",
            "[I 2025-07-08 00:40:57,794] Trial 1 finished with value: 2.3509127142245467 and parameters: {'n_estimators': 279, 'max_depth': 4, 'learning_rate': 0.2224770369992716, 'subsample': 0.8105807249788063, 'colsample_bytree': 0.8427743283036393, 'reg_alpha': 8.160098132619325, 'reg_lambda': 6.384773249094671}. Best is trial 1 with value: 2.3509127142245467.\n",
            "[I 2025-07-08 00:43:09,346] Trial 2 finished with value: 2.416390314808366 and parameters: {'n_estimators': 282, 'max_depth': 3, 'learning_rate': 0.14910323846191995, 'subsample': 0.6672440486757363, 'colsample_bytree': 0.950782584769687, 'reg_alpha': 1.3292666073865331, 'reg_lambda': 9.50028165905793}. Best is trial 1 with value: 2.3509127142245467.\n",
            "[I 2025-07-08 00:46:29,347] Trial 3 finished with value: 2.355810870005256 and parameters: {'n_estimators': 295, 'max_depth': 4, 'learning_rate': 0.07792818671528817, 'subsample': 0.7252486808699576, 'colsample_bytree': 0.8522416852960071, 'reg_alpha': 4.114036405894413, 'reg_lambda': 0.41581213438948583}. Best is trial 1 with value: 2.3509127142245467.\n",
            "[I 2025-07-08 00:48:58,219] Trial 4 finished with value: 2.382023021821215 and parameters: {'n_estimators': 298, 'max_depth': 3, 'learning_rate': 0.28615093558693644, 'subsample': 0.7313658953712574, 'colsample_bytree': 0.9939844739827443, 'reg_alpha': 1.269665633005924, 'reg_lambda': 6.109414361516401}. Best is trial 1 with value: 2.3509127142245467.\n"
          ]
        },
        {
          "name": "stdout",
          "output_type": "stream",
          "text": [
            "Time bin 54 (13:30-13:44) - Best MAE: 2.3509\n",
            "Training model for time bin 55 (13:45-13:59)...\n"
          ]
        },
        {
          "name": "stderr",
          "output_type": "stream",
          "text": [
            "[I 2025-07-08 00:52:25,708] A new study created in memory with name: timebin_55\n",
            "[I 2025-07-08 00:57:06,005] Trial 0 finished with value: 2.056144822216432 and parameters: {'n_estimators': 241, 'max_depth': 6, 'learning_rate': 0.09986326331462624, 'subsample': 0.8989176192283268, 'colsample_bytree': 0.8426019364715412, 'reg_alpha': 9.458450465432142, 'reg_lambda': 7.012357437618951}. Best is trial 0 with value: 2.056144822216432.\n",
            "[I 2025-07-08 01:00:40,254] Trial 1 finished with value: 2.109746905037451 and parameters: {'n_estimators': 227, 'max_depth': 5, 'learning_rate': 0.04251394492145342, 'subsample': 0.9911527030664051, 'colsample_bytree': 0.793313470454341, 'reg_alpha': 3.5923851007905068, 'reg_lambda': 2.5261722460559546}. Best is trial 0 with value: 2.056144822216432.\n",
            "[I 2025-07-08 01:03:20,411] Trial 2 finished with value: 2.010969106246288 and parameters: {'n_estimators': 120, 'max_depth': 6, 'learning_rate': 0.2157925900911008, 'subsample': 0.7964971143442693, 'colsample_bytree': 0.7635072979426056, 'reg_alpha': 5.5622684028805836, 'reg_lambda': 4.213875546885824}. Best is trial 2 with value: 2.010969106246288.\n",
            "[I 2025-07-08 01:05:01,642] Trial 3 finished with value: 2.3704829325599484 and parameters: {'n_estimators': 235, 'max_depth': 3, 'learning_rate': 0.04635335429017101, 'subsample': 0.8458446543814693, 'colsample_bytree': 0.6348548272020512, 'reg_alpha': 9.296934436697226, 'reg_lambda': 1.104011571043701}. Best is trial 2 with value: 2.010969106246288.\n",
            "[I 2025-07-08 01:07:04,946] Trial 4 finished with value: 2.1717779852159462 and parameters: {'n_estimators': 268, 'max_depth': 3, 'learning_rate': 0.10037767630405968, 'subsample': 0.7894975968421728, 'colsample_bytree': 0.8984616791644746, 'reg_alpha': 7.935359958040941, 'reg_lambda': 5.709272791138939}. Best is trial 2 with value: 2.010969106246288.\n"
          ]
        },
        {
          "name": "stdout",
          "output_type": "stream",
          "text": [
            "Time bin 55 (13:45-13:59) - Best MAE: 2.0110\n"
          ]
        },
        {
          "name": "stderr",
          "output_type": "stream",
          "text": [
            "[I 2025-07-08 01:09:56,001] A new study created in memory with name: timebin_56\n"
          ]
        },
        {
          "name": "stdout",
          "output_type": "stream",
          "text": [
            "Training model for time bin 56 (14:00-14:14)...\n"
          ]
        },
        {
          "name": "stderr",
          "output_type": "stream",
          "text": [
            "[I 2025-07-08 01:11:33,590] Trial 0 finished with value: 1.826166698914312 and parameters: {'n_estimators': 168, 'max_depth': 4, 'learning_rate': 0.0753307760474407, 'subsample': 0.9723631576551046, 'colsample_bytree': 0.6101293076525581, 'reg_alpha': 5.334662890820794, 'reg_lambda': 7.752117235428418}. Best is trial 0 with value: 1.826166698914312.\n",
            "[I 2025-07-08 01:13:37,497] Trial 1 finished with value: 1.7673966511253 and parameters: {'n_estimators': 126, 'max_depth': 5, 'learning_rate': 0.09126991541338256, 'subsample': 0.7770602948283101, 'colsample_bytree': 0.8677972764718984, 'reg_alpha': 2.1853049369603905, 'reg_lambda': 7.61458258508316}. Best is trial 1 with value: 1.7673966511253.\n",
            "[I 2025-07-08 01:18:31,171] Trial 2 finished with value: 1.8489894522103445 and parameters: {'n_estimators': 247, 'max_depth': 6, 'learning_rate': 0.03761464455501419, 'subsample': 0.6544303798818132, 'colsample_bytree': 0.9896451091610526, 'reg_alpha': 2.0282031169340295, 'reg_lambda': 2.7553810333314988}. Best is trial 1 with value: 1.7673966511253.\n",
            "[I 2025-07-08 01:20:04,566] Trial 3 finished with value: 1.7035943572501826 and parameters: {'n_estimators': 215, 'max_depth': 3, 'learning_rate': 0.17788706907856536, 'subsample': 0.7985228267838234, 'colsample_bytree': 0.8439787808955371, 'reg_alpha': 1.9584771556758942, 'reg_lambda': 0.8446368822653073}. Best is trial 3 with value: 1.7035943572501826.\n",
            "[I 2025-07-08 01:23:08,306] Trial 4 finished with value: 1.6927446286983736 and parameters: {'n_estimators': 281, 'max_depth': 4, 'learning_rate': 0.29682064987255874, 'subsample': 0.8301930408099705, 'colsample_bytree': 0.7644149913720695, 'reg_alpha': 6.082504220215796, 'reg_lambda': 2.9686589056460218}. Best is trial 4 with value: 1.6927446286983736.\n"
          ]
        },
        {
          "name": "stdout",
          "output_type": "stream",
          "text": [
            "Time bin 56 (14:00-14:14) - Best MAE: 1.6927\n"
          ]
        },
        {
          "name": "stderr",
          "output_type": "stream",
          "text": [
            "[I 2025-07-08 01:26:14,371] A new study created in memory with name: timebin_57\n"
          ]
        },
        {
          "name": "stdout",
          "output_type": "stream",
          "text": [
            "Training model for time bin 57 (14:15-14:29)...\n"
          ]
        },
        {
          "name": "stderr",
          "output_type": "stream",
          "text": [
            "[I 2025-07-08 01:28:11,944] Trial 0 finished with value: 1.6612923353442886 and parameters: {'n_estimators': 211, 'max_depth': 4, 'learning_rate': 0.24250371795198195, 'subsample': 0.6485451265101634, 'colsample_bytree': 0.6395504635668573, 'reg_alpha': 9.782079128935054, 'reg_lambda': 9.847945475551896}. Best is trial 0 with value: 1.6612923353442886.\n",
            "[I 2025-07-08 01:29:02,637] Trial 1 finished with value: 1.701802459948143 and parameters: {'n_estimators': 109, 'max_depth': 3, 'learning_rate': 0.23724156970628274, 'subsample': 0.9478204587309156, 'colsample_bytree': 0.8500578978005678, 'reg_alpha': 7.753135178544773, 'reg_lambda': 3.817738128306547}. Best is trial 0 with value: 1.6612923353442886.\n",
            "[I 2025-07-08 01:32:16,302] Trial 2 finished with value: 1.5759610997574902 and parameters: {'n_estimators': 147, 'max_depth': 6, 'learning_rate': 0.13754476591369003, 'subsample': 0.9354732283194941, 'colsample_bytree': 0.9555877862585245, 'reg_alpha': 4.196382647037545, 'reg_lambda': 4.466064684448347}. Best is trial 2 with value: 1.5759610997574902.\n",
            "[I 2025-07-08 01:35:58,232] Trial 3 finished with value: 1.7070504992758928 and parameters: {'n_estimators': 292, 'max_depth': 5, 'learning_rate': 0.07462034048052586, 'subsample': 0.8467448794176031, 'colsample_bytree': 0.6741942735037296, 'reg_alpha': 8.922985153199333, 'reg_lambda': 6.269500708994202}. Best is trial 2 with value: 1.5759610997574902.\n",
            "[I 2025-07-08 01:39:32,899] Trial 4 finished with value: 1.6086041663447939 and parameters: {'n_estimators': 258, 'max_depth': 5, 'learning_rate': 0.22259815512608175, 'subsample': 0.9586523791936017, 'colsample_bytree': 0.6693782061217304, 'reg_alpha': 8.675863307892955, 'reg_lambda': 1.5749308724752618}. Best is trial 2 with value: 1.5759610997574902.\n"
          ]
        },
        {
          "name": "stdout",
          "output_type": "stream",
          "text": [
            "Time bin 57 (14:15-14:29) - Best MAE: 1.5760\n",
            "Training model for time bin 58 (14:30-14:44)...\n"
          ]
        },
        {
          "name": "stderr",
          "output_type": "stream",
          "text": [
            "[I 2025-07-08 01:43:07,486] A new study created in memory with name: timebin_58\n",
            "[I 2025-07-08 01:44:27,088] Trial 0 finished with value: 1.709577944358871 and parameters: {'n_estimators': 127, 'max_depth': 4, 'learning_rate': 0.2711123827248273, 'subsample': 0.6669712553417584, 'colsample_bytree': 0.7534026646051134, 'reg_alpha': 5.117340982370932, 'reg_lambda': 8.403421175321064}. Best is trial 0 with value: 1.709577944358871.\n",
            "[I 2025-07-08 01:46:57,427] Trial 1 finished with value: 1.7743158734161706 and parameters: {'n_estimators': 233, 'max_depth': 4, 'learning_rate': 0.14906446053562122, 'subsample': 0.6082341250807785, 'colsample_bytree': 0.8350222768699505, 'reg_alpha': 9.889547114448234, 'reg_lambda': 1.4526070837753933}. Best is trial 0 with value: 1.709577944358871.\n",
            "[I 2025-07-08 01:49:14,898] Trial 2 finished with value: 1.6385198705711357 and parameters: {'n_estimators': 212, 'max_depth': 4, 'learning_rate': 0.055897739187932165, 'subsample': 0.9132765666998655, 'colsample_bytree': 0.8230350069842017, 'reg_alpha': 7.907631726017795, 'reg_lambda': 5.654038049842367}. Best is trial 2 with value: 1.6385198705711357.\n",
            "[I 2025-07-08 01:50:47,315] Trial 3 finished with value: 1.7060651931980633 and parameters: {'n_estimators': 145, 'max_depth': 4, 'learning_rate': 0.2838553962171494, 'subsample': 0.6962131362458622, 'colsample_bytree': 0.735687306411209, 'reg_alpha': 6.026428506195244, 'reg_lambda': 3.906401740346623}. Best is trial 2 with value: 1.6385198705711357.\n",
            "[I 2025-07-08 01:54:26,272] Trial 4 finished with value: 1.9067315491768742 and parameters: {'n_estimators': 253, 'max_depth': 6, 'learning_rate': 0.020909477001065227, 'subsample': 0.8512345892925497, 'colsample_bytree': 0.6107215431796014, 'reg_alpha': 1.5801214242005406, 'reg_lambda': 1.9881977012883076}. Best is trial 2 with value: 1.6385198705711357.\n"
          ]
        },
        {
          "name": "stdout",
          "output_type": "stream",
          "text": [
            "Time bin 58 (14:30-14:44) - Best MAE: 1.6385\n",
            "Training model for time bin 59 (14:45-14:59)...\n"
          ]
        },
        {
          "name": "stderr",
          "output_type": "stream",
          "text": [
            "[I 2025-07-08 01:56:42,876] A new study created in memory with name: timebin_59\n",
            "[I 2025-07-08 01:58:05,498] Trial 0 finished with value: 1.6178324983010477 and parameters: {'n_estimators': 185, 'max_depth': 3, 'learning_rate': 0.21296865072684198, 'subsample': 0.7892824112120563, 'colsample_bytree': 0.8334390006627782, 'reg_alpha': 8.173747452242432, 'reg_lambda': 0.2639676332751996}. Best is trial 0 with value: 1.6178324983010477.\n",
            "[I 2025-07-08 02:00:32,262] Trial 1 finished with value: 1.470175511681413 and parameters: {'n_estimators': 119, 'max_depth': 6, 'learning_rate': 0.21389255183246997, 'subsample': 0.827091480443185, 'colsample_bytree': 0.8850890732756513, 'reg_alpha': 1.2595448906648303, 'reg_lambda': 1.9426331795772547}. Best is trial 1 with value: 1.470175511681413.\n",
            "[I 2025-07-08 02:02:58,838] Trial 2 finished with value: 1.5249401364109592 and parameters: {'n_estimators': 253, 'max_depth': 4, 'learning_rate': 0.2221768889047998, 'subsample': 0.7386402804983687, 'colsample_bytree': 0.6339898273254937, 'reg_alpha': 5.993654633937906, 'reg_lambda': 8.012138440050041}. Best is trial 1 with value: 1.470175511681413.\n",
            "[I 2025-07-08 02:05:12,055] Trial 3 finished with value: 2.0127189051829912 and parameters: {'n_estimators': 245, 'max_depth': 4, 'learning_rate': 0.011810821960197832, 'subsample': 0.7571428200524575, 'colsample_bytree': 0.7589186999745431, 'reg_alpha': 0.8186576121798261, 'reg_lambda': 9.261324141325751}. Best is trial 1 with value: 1.470175511681413.\n",
            "[I 2025-07-08 02:08:50,417] Trial 4 finished with value: 1.5901449550594298 and parameters: {'n_estimators': 239, 'max_depth': 5, 'learning_rate': 0.19015928761369844, 'subsample': 0.6712681661173527, 'colsample_bytree': 0.8012356843615321, 'reg_alpha': 3.148298724777924, 'reg_lambda': 5.03378358676076}. Best is trial 1 with value: 1.470175511681413.\n"
          ]
        },
        {
          "name": "stdout",
          "output_type": "stream",
          "text": [
            "Time bin 59 (14:45-14:59) - Best MAE: 1.4702\n",
            "Training model for time bin 60 (15:00-15:14)...\n"
          ]
        },
        {
          "name": "stderr",
          "output_type": "stream",
          "text": [
            "[I 2025-07-08 02:11:24,462] A new study created in memory with name: timebin_60\n",
            "[I 2025-07-08 02:12:46,172] Trial 0 finished with value: 1.8636644329623426 and parameters: {'n_estimators': 119, 'max_depth': 4, 'learning_rate': 0.06399217443448364, 'subsample': 0.8317465921964745, 'colsample_bytree': 0.9599723986397336, 'reg_alpha': 2.5047117214451307, 'reg_lambda': 5.037065192215719}. Best is trial 0 with value: 1.8636644329623426.\n",
            "[I 2025-07-08 02:14:12,508] Trial 1 finished with value: 1.835646777135203 and parameters: {'n_estimators': 111, 'max_depth': 5, 'learning_rate': 0.08191028743487457, 'subsample': 0.6477145236744165, 'colsample_bytree': 0.6054096414627285, 'reg_alpha': 3.51037363647902, 'reg_lambda': 1.957132853644192}. Best is trial 1 with value: 1.835646777135203.\n",
            "[I 2025-07-08 02:15:27,235] Trial 2 finished with value: 1.863192993127181 and parameters: {'n_estimators': 175, 'max_depth': 3, 'learning_rate': 0.05421540898445633, 'subsample': 0.6282793081841854, 'colsample_bytree': 0.8020879653350979, 'reg_alpha': 5.831107554081267, 'reg_lambda': 9.583936272218317}. Best is trial 1 with value: 1.835646777135203.\n",
            "[I 2025-07-08 02:18:36,016] Trial 3 finished with value: 1.6141564297660371 and parameters: {'n_estimators': 179, 'max_depth': 6, 'learning_rate': 0.09639707242498112, 'subsample': 0.7961965347494007, 'colsample_bytree': 0.6873572839924273, 'reg_alpha': 2.6140030993506818, 'reg_lambda': 1.3946620638613116}. Best is trial 3 with value: 1.6141564297660371.\n",
            "[I 2025-07-08 02:20:05,018] Trial 4 finished with value: 1.7861147663583337 and parameters: {'n_estimators': 154, 'max_depth': 4, 'learning_rate': 0.09934168182837577, 'subsample': 0.7597853502394336, 'colsample_bytree': 0.6172833745775741, 'reg_alpha': 8.765670313958251, 'reg_lambda': 7.658333665945541}. Best is trial 3 with value: 1.6141564297660371.\n"
          ]
        },
        {
          "name": "stdout",
          "output_type": "stream",
          "text": [
            "Time bin 60 (15:00-15:14) - Best MAE: 1.6142\n"
          ]
        },
        {
          "name": "stderr",
          "output_type": "stream",
          "text": [
            "[I 2025-07-08 02:23:27,555] A new study created in memory with name: timebin_61\n"
          ]
        },
        {
          "name": "stdout",
          "output_type": "stream",
          "text": [
            "Training model for time bin 61 (15:15-15:29)...\n"
          ]
        },
        {
          "name": "stderr",
          "output_type": "stream",
          "text": [
            "[I 2025-07-08 02:25:55,611] Trial 0 finished with value: 1.3898454901255821 and parameters: {'n_estimators': 217, 'max_depth': 4, 'learning_rate': 0.24374606431424925, 'subsample': 0.776922267791055, 'colsample_bytree': 0.8901638725427188, 'reg_alpha': 6.427980013975401, 'reg_lambda': 0.7914623072548079}. Best is trial 0 with value: 1.3898454901255821.\n",
            "[I 2025-07-08 02:26:41,513] Trial 1 finished with value: 1.4724429509383565 and parameters: {'n_estimators': 106, 'max_depth': 3, 'learning_rate': 0.2221433001639446, 'subsample': 0.6104354577998777, 'colsample_bytree': 0.7194582781476688, 'reg_alpha': 2.2148113590478817, 'reg_lambda': 0.6119985207356081}. Best is trial 0 with value: 1.3898454901255821.\n",
            "[I 2025-07-08 02:31:02,487] Trial 2 finished with value: 1.3630811118199468 and parameters: {'n_estimators': 262, 'max_depth': 5, 'learning_rate': 0.0944336336526549, 'subsample': 0.9614955973985344, 'colsample_bytree': 0.965896207534496, 'reg_alpha': 5.429550404375415, 'reg_lambda': 1.0413394396885514}. Best is trial 2 with value: 1.3630811118199468.\n",
            "[I 2025-07-08 02:33:00,531] Trial 3 finished with value: 1.8351524991408676 and parameters: {'n_estimators': 287, 'max_depth': 3, 'learning_rate': 0.013226728385893663, 'subsample': 0.8446870377033422, 'colsample_bytree': 0.9552806605739281, 'reg_alpha': 0.3182033267635247, 'reg_lambda': 1.7232451426862703}. Best is trial 2 with value: 1.3630811118199468.\n",
            "[I 2025-07-08 02:37:14,964] Trial 4 finished with value: 1.4197763344168113 and parameters: {'n_estimators': 263, 'max_depth': 5, 'learning_rate': 0.12275328115009089, 'subsample': 0.771450713183214, 'colsample_bytree': 0.911128338322859, 'reg_alpha': 6.051225807224336, 'reg_lambda': 0.6852915641629321}. Best is trial 2 with value: 1.3630811118199468.\n"
          ]
        },
        {
          "name": "stdout",
          "output_type": "stream",
          "text": [
            "Time bin 61 (15:15-15:29) - Best MAE: 1.3631\n"
          ]
        },
        {
          "name": "stderr",
          "output_type": "stream",
          "text": [
            "[I 2025-07-08 02:41:48,069] A new study created in memory with name: timebin_62\n"
          ]
        },
        {
          "name": "stdout",
          "output_type": "stream",
          "text": [
            "Training model for time bin 62 (15:30-15:44)...\n"
          ]
        },
        {
          "name": "stderr",
          "output_type": "stream",
          "text": [
            "[I 2025-07-08 02:43:36,172] Trial 0 finished with value: 1.5805755671897423 and parameters: {'n_estimators': 242, 'max_depth': 3, 'learning_rate': 0.04605499067228397, 'subsample': 0.7276415924765955, 'colsample_bytree': 0.9827834231315475, 'reg_alpha': 6.8307216156652215, 'reg_lambda': 9.61628335569933}. Best is trial 0 with value: 1.5805755671897423.\n",
            "[I 2025-07-08 02:46:30,890] Trial 1 finished with value: 1.3576666592870592 and parameters: {'n_estimators': 224, 'max_depth': 5, 'learning_rate': 0.12115532020291159, 'subsample': 0.7782672758409027, 'colsample_bytree': 0.6095012221307007, 'reg_alpha': 6.70089797192202, 'reg_lambda': 2.1204934471367127}. Best is trial 1 with value: 1.3576666592870592.\n",
            "[I 2025-07-08 02:48:37,347] Trial 2 finished with value: 1.9113646075542723 and parameters: {'n_estimators': 157, 'max_depth': 5, 'learning_rate': 0.018732166853787174, 'subsample': 0.9683664879001354, 'colsample_bytree': 0.8720393882228905, 'reg_alpha': 3.53383016271604, 'reg_lambda': 5.767903261412739}. Best is trial 1 with value: 1.3576666592870592.\n",
            "[I 2025-07-08 02:50:14,341] Trial 3 finished with value: 1.434946431424219 and parameters: {'n_estimators': 144, 'max_depth': 4, 'learning_rate': 0.2047042582182837, 'subsample': 0.9412715878823914, 'colsample_bytree': 0.939285429228797, 'reg_alpha': 3.558869335193961, 'reg_lambda': 5.435882441905986}. Best is trial 1 with value: 1.3576666592870592.\n",
            "[I 2025-07-08 02:56:31,759] Trial 4 finished with value: 1.4136966489063882 and parameters: {'n_estimators': 291, 'max_depth': 6, 'learning_rate': 0.10501012986318356, 'subsample': 0.8080691264796682, 'colsample_bytree': 0.9637964365262892, 'reg_alpha': 5.096051130111306, 'reg_lambda': 2.7173871614845257}. Best is trial 1 with value: 1.3576666592870592.\n"
          ]
        },
        {
          "name": "stdout",
          "output_type": "stream",
          "text": [
            "Time bin 62 (15:30-15:44) - Best MAE: 1.3577\n",
            "Training model for time bin 63 (15:45-15:59)...\n"
          ]
        },
        {
          "name": "stderr",
          "output_type": "stream",
          "text": [
            "[I 2025-07-08 02:59:43,087] A new study created in memory with name: timebin_63\n",
            "[I 2025-07-08 03:00:42,048] Trial 0 finished with value: 1.5391247998822053 and parameters: {'n_estimators': 125, 'max_depth': 3, 'learning_rate': 0.10133073073563742, 'subsample': 0.6135461006440748, 'colsample_bytree': 0.9211824941199303, 'reg_alpha': 4.286569237718026, 'reg_lambda': 1.4408869504632926}. Best is trial 0 with value: 1.5391247998822053.\n",
            "[I 2025-07-08 03:01:55,738] Trial 1 finished with value: 1.5000713810242814 and parameters: {'n_estimators': 111, 'max_depth': 4, 'learning_rate': 0.13486864799800458, 'subsample': 0.9949779247489365, 'colsample_bytree': 0.8362261833434493, 'reg_alpha': 4.396498386016175, 'reg_lambda': 7.271391691535252}. Best is trial 1 with value: 1.5000713810242814.\n",
            "[I 2025-07-08 03:04:59,415] Trial 2 finished with value: 1.4540830840092132 and parameters: {'n_estimators': 280, 'max_depth': 4, 'learning_rate': 0.09242671678240862, 'subsample': 0.8072556099649643, 'colsample_bytree': 0.892572189129984, 'reg_alpha': 8.743480858300313, 'reg_lambda': 9.680446167364329}. Best is trial 2 with value: 1.4540830840092132.\n",
            "[I 2025-07-08 03:06:31,241] Trial 3 finished with value: 2.0728936899680144 and parameters: {'n_estimators': 147, 'max_depth': 4, 'learning_rate': 0.010501503250896795, 'subsample': 0.9998404283142048, 'colsample_bytree': 0.9434511938145372, 'reg_alpha': 3.385077134406441, 'reg_lambda': 7.931789906243701}. Best is trial 2 with value: 1.4540830840092132.\n",
            "[I 2025-07-08 03:08:40,826] Trial 4 finished with value: 1.3436279245408855 and parameters: {'n_estimators': 203, 'max_depth': 4, 'learning_rate': 0.2830976591049895, 'subsample': 0.6152968306902513, 'colsample_bytree': 0.8097931320851002, 'reg_alpha': 9.525826178241193, 'reg_lambda': 9.895231456835793}. Best is trial 4 with value: 1.3436279245408855.\n"
          ]
        },
        {
          "name": "stdout",
          "output_type": "stream",
          "text": [
            "Time bin 63 (15:45-15:59) - Best MAE: 1.3436\n"
          ]
        },
        {
          "name": "stderr",
          "output_type": "stream",
          "text": [
            "[I 2025-07-08 03:10:54,183] A new study created in memory with name: timebin_64\n"
          ]
        },
        {
          "name": "stdout",
          "output_type": "stream",
          "text": [
            "Training model for time bin 64 (16:00-16:14)...\n"
          ]
        },
        {
          "name": "stderr",
          "output_type": "stream",
          "text": [
            "[I 2025-07-08 03:14:41,405] Trial 0 finished with value: 1.5138331824620983 and parameters: {'n_estimators': 228, 'max_depth': 6, 'learning_rate': 0.034378982550903235, 'subsample': 0.8575112510479519, 'colsample_bytree': 0.7662744542704754, 'reg_alpha': 4.683657981010002, 'reg_lambda': 6.517726367851031}. Best is trial 0 with value: 1.5138331824620983.\n",
            "[I 2025-07-08 03:16:09,801] Trial 1 finished with value: 2.125238737250076 and parameters: {'n_estimators': 109, 'max_depth': 6, 'learning_rate': 0.012792821570425059, 'subsample': 0.6832998109774051, 'colsample_bytree': 0.7203091365777518, 'reg_alpha': 4.649170240843716, 'reg_lambda': 2.3186182972774776}. Best is trial 0 with value: 1.5138331824620983.\n",
            "[I 2025-07-08 03:20:54,594] Trial 2 finished with value: 1.5249936128338466 and parameters: {'n_estimators': 299, 'max_depth': 6, 'learning_rate': 0.04705475091150318, 'subsample': 0.6494972624833993, 'colsample_bytree': 0.9089628142695775, 'reg_alpha': 9.784211678285173, 'reg_lambda': 4.55985514181984}. Best is trial 0 with value: 1.5138331824620983.\n",
            "[I 2025-07-08 03:22:43,928] Trial 3 finished with value: 1.4239574585095052 and parameters: {'n_estimators': 276, 'max_depth': 3, 'learning_rate': 0.053246288815784124, 'subsample': 0.9812531169332805, 'colsample_bytree': 0.7776397188428101, 'reg_alpha': 0.6603093948438195, 'reg_lambda': 8.103195694528342}. Best is trial 3 with value: 1.4239574585095052.\n",
            "[I 2025-07-08 03:24:42,282] Trial 4 finished with value: 1.4091204811520324 and parameters: {'n_estimators': 291, 'max_depth': 3, 'learning_rate': 0.1502223456066305, 'subsample': 0.6640132008185357, 'colsample_bytree': 0.7042169650875283, 'reg_alpha': 6.007232660226571, 'reg_lambda': 6.732976473278141}. Best is trial 4 with value: 1.4091204811520324.\n"
          ]
        },
        {
          "name": "stdout",
          "output_type": "stream",
          "text": [
            "Time bin 64 (16:00-16:14) - Best MAE: 1.4091\n"
          ]
        },
        {
          "name": "stderr",
          "output_type": "stream",
          "text": [
            "[I 2025-07-08 03:26:41,091] A new study created in memory with name: timebin_65\n"
          ]
        },
        {
          "name": "stdout",
          "output_type": "stream",
          "text": [
            "Training model for time bin 65 (16:15-16:29)...\n"
          ]
        },
        {
          "name": "stderr",
          "output_type": "stream",
          "text": [
            "[I 2025-07-08 03:28:35,642] Trial 0 finished with value: 1.38583630233806 and parameters: {'n_estimators': 190, 'max_depth': 4, 'learning_rate': 0.21986646753272718, 'subsample': 0.9666030899660115, 'colsample_bytree': 0.7819979510384312, 'reg_alpha': 1.084705227800615, 'reg_lambda': 4.7385576273828764}. Best is trial 0 with value: 1.38583630233806.\n",
            "[I 2025-07-08 03:31:02,287] Trial 1 finished with value: 1.4274063819616467 and parameters: {'n_estimators': 237, 'max_depth': 4, 'learning_rate': 0.12054993487792143, 'subsample': 0.7949197314450305, 'colsample_bytree': 0.7757218814052642, 'reg_alpha': 7.820524050744506, 'reg_lambda': 5.258744424230498}. Best is trial 0 with value: 1.38583630233806.\n",
            "[I 2025-07-08 03:34:36,498] Trial 2 finished with value: 1.365675456837393 and parameters: {'n_estimators': 283, 'max_depth': 5, 'learning_rate': 0.06336225738474445, 'subsample': 0.8884676377466182, 'colsample_bytree': 0.6070219532797501, 'reg_alpha': 6.407278397344219, 'reg_lambda': 1.4323629519185583}. Best is trial 2 with value: 1.365675456837393.\n",
            "[I 2025-07-08 03:35:21,997] Trial 3 finished with value: 1.4826398445274125 and parameters: {'n_estimators': 103, 'max_depth': 3, 'learning_rate': 0.19388075542753788, 'subsample': 0.7939242915508968, 'colsample_bytree': 0.7282226377787197, 'reg_alpha': 2.8529931149360155, 'reg_lambda': 4.521856055686297}. Best is trial 2 with value: 1.365675456837393.\n",
            "[I 2025-07-08 03:38:12,149] Trial 4 finished with value: 1.522283717954062 and parameters: {'n_estimators': 153, 'max_depth': 6, 'learning_rate': 0.12838998394961146, 'subsample': 0.6689890338088754, 'colsample_bytree': 0.834985709456856, 'reg_alpha': 6.263693609963208, 'reg_lambda': 0.15647057130719116}. Best is trial 2 with value: 1.365675456837393.\n"
          ]
        },
        {
          "name": "stdout",
          "output_type": "stream",
          "text": [
            "Time bin 65 (16:15-16:29) - Best MAE: 1.3657\n"
          ]
        },
        {
          "name": "stderr",
          "output_type": "stream",
          "text": [
            "[I 2025-07-08 03:41:57,445] A new study created in memory with name: timebin_66\n"
          ]
        },
        {
          "name": "stdout",
          "output_type": "stream",
          "text": [
            "Training model for time bin 66 (16:30-16:44)...\n"
          ]
        },
        {
          "name": "stderr",
          "output_type": "stream",
          "text": [
            "[I 2025-07-08 03:43:07,975] Trial 0 finished with value: 1.9062291452960918 and parameters: {'n_estimators': 163, 'max_depth': 3, 'learning_rate': 0.014148374300590311, 'subsample': 0.7656974586435702, 'colsample_bytree': 0.8567444438022652, 'reg_alpha': 3.1927556172443214, 'reg_lambda': 0.47693678494202196}. Best is trial 0 with value: 1.9062291452960918.\n",
            "[I 2025-07-08 03:45:39,493] Trial 1 finished with value: 1.3752862873191112 and parameters: {'n_estimators': 138, 'max_depth': 6, 'learning_rate': 0.17886615544878634, 'subsample': 0.8236626872479451, 'colsample_bytree': 0.7543557749795655, 'reg_alpha': 0.3032197171233, 'reg_lambda': 9.07545002882959}. Best is trial 1 with value: 1.3752862873191112.\n",
            "[I 2025-07-08 03:47:02,733] Trial 2 finished with value: 1.4912805759998515 and parameters: {'n_estimators': 204, 'max_depth': 3, 'learning_rate': 0.0769910844475154, 'subsample': 0.6847583252682278, 'colsample_bytree': 0.7193839335989869, 'reg_alpha': 6.012707436369709, 'reg_lambda': 2.5347367139619887}. Best is trial 1 with value: 1.3752862873191112.\n",
            "[I 2025-07-08 03:51:47,236] Trial 3 finished with value: 1.3737997071635757 and parameters: {'n_estimators': 265, 'max_depth': 6, 'learning_rate': 0.1884574319624583, 'subsample': 0.7017355392803263, 'colsample_bytree': 0.7096730866493024, 'reg_alpha': 5.052741803576398, 'reg_lambda': 5.658302553497222}. Best is trial 3 with value: 1.3737997071635757.\n",
            "[I 2025-07-08 03:54:58,468] Trial 4 finished with value: 1.5795387374423064 and parameters: {'n_estimators': 250, 'max_depth': 5, 'learning_rate': 0.026382479899337903, 'subsample': 0.8619799189280146, 'colsample_bytree': 0.7231523077328791, 'reg_alpha': 2.4454422406749687, 'reg_lambda': 0.7840233777410328}. Best is trial 3 with value: 1.3737997071635757.\n"
          ]
        },
        {
          "name": "stdout",
          "output_type": "stream",
          "text": [
            "Time bin 66 (16:30-16:44) - Best MAE: 1.3738\n"
          ]
        },
        {
          "name": "stderr",
          "output_type": "stream",
          "text": [
            "[I 2025-07-08 04:00:12,512] A new study created in memory with name: timebin_67\n"
          ]
        },
        {
          "name": "stdout",
          "output_type": "stream",
          "text": [
            "Training model for time bin 67 (16:45-16:59)...\n"
          ]
        },
        {
          "name": "stderr",
          "output_type": "stream",
          "text": [
            "[I 2025-07-08 04:05:12,282] Trial 0 finished with value: 1.3722707862088996 and parameters: {'n_estimators': 292, 'max_depth': 6, 'learning_rate': 0.23760958528981516, 'subsample': 0.9077623642721336, 'colsample_bytree': 0.6934634456528641, 'reg_alpha': 9.904962490096962, 'reg_lambda': 0.9914350240222152}. Best is trial 0 with value: 1.3722707862088996.\n",
            "[I 2025-07-08 04:07:43,856] Trial 1 finished with value: 1.5243976746928725 and parameters: {'n_estimators': 157, 'max_depth': 6, 'learning_rate': 0.29842968880311427, 'subsample': 0.6468835564704655, 'colsample_bytree': 0.6401700264437202, 'reg_alpha': 7.021515068925872, 'reg_lambda': 8.493415868202526}. Best is trial 0 with value: 1.3722707862088996.\n",
            "[I 2025-07-08 04:08:50,414] Trial 2 finished with value: 1.4446641527956419 and parameters: {'n_estimators': 166, 'max_depth': 3, 'learning_rate': 0.23919785469145072, 'subsample': 0.8641438368496359, 'colsample_bytree': 0.6221033637847002, 'reg_alpha': 4.765278548626469, 'reg_lambda': 2.836427826909042}. Best is trial 0 with value: 1.3722707862088996.\n",
            "[I 2025-07-08 04:09:56,420] Trial 3 finished with value: 1.487311834601012 and parameters: {'n_estimators': 146, 'max_depth': 3, 'learning_rate': 0.24853843196819095, 'subsample': 0.9793872377043517, 'colsample_bytree': 0.8312208013793337, 'reg_alpha': 8.591900571271884, 'reg_lambda': 0.6663780493072734}. Best is trial 0 with value: 1.3722707862088996.\n",
            "[I 2025-07-08 04:11:49,673] Trial 4 finished with value: 1.654379318675633 and parameters: {'n_estimators': 134, 'max_depth': 5, 'learning_rate': 0.058076388492952796, 'subsample': 0.7404916472072278, 'colsample_bytree': 0.8911035082754475, 'reg_alpha': 8.594767037775496, 'reg_lambda': 2.609127429160059}. Best is trial 0 with value: 1.3722707862088996.\n"
          ]
        },
        {
          "name": "stdout",
          "output_type": "stream",
          "text": [
            "Time bin 67 (16:45-16:59) - Best MAE: 1.3723\n"
          ]
        },
        {
          "name": "stderr",
          "output_type": "stream",
          "text": [
            "[I 2025-07-08 04:17:18,185] A new study created in memory with name: timebin_68\n"
          ]
        },
        {
          "name": "stdout",
          "output_type": "stream",
          "text": [
            "Training model for time bin 68 (17:00-17:14)...\n"
          ]
        },
        {
          "name": "stderr",
          "output_type": "stream",
          "text": [
            "[I 2025-07-08 04:19:18,279] Trial 0 finished with value: 1.4376687173155915 and parameters: {'n_estimators': 285, 'max_depth': 3, 'learning_rate': 0.09957013124903878, 'subsample': 0.674529204897973, 'colsample_bytree': 0.7795268125205372, 'reg_alpha': 9.511240557567799, 'reg_lambda': 5.994505251793053}. Best is trial 0 with value: 1.4376687173155915.\n",
            "[I 2025-07-08 04:25:30,773] Trial 1 finished with value: 1.398402711565385 and parameters: {'n_estimators': 297, 'max_depth': 6, 'learning_rate': 0.24943082445631118, 'subsample': 0.6864007226444837, 'colsample_bytree': 0.9339951127216706, 'reg_alpha': 5.557473216704062, 'reg_lambda': 0.981023623579193}. Best is trial 1 with value: 1.398402711565385.\n",
            "[I 2025-07-08 04:30:19,144] Trial 2 finished with value: 1.4437759405203305 and parameters: {'n_estimators': 249, 'max_depth': 6, 'learning_rate': 0.2156812124322459, 'subsample': 0.7005576456774929, 'colsample_bytree': 0.8282562061857714, 'reg_alpha': 6.363130975520976, 'reg_lambda': 3.5890801434883706}. Best is trial 1 with value: 1.398402711565385.\n",
            "[I 2025-07-08 04:32:32,775] Trial 3 finished with value: 1.40695801115372 and parameters: {'n_estimators': 223, 'max_depth': 4, 'learning_rate': 0.268372953728512, 'subsample': 0.8249278333813104, 'colsample_bytree': 0.8104674553817525, 'reg_alpha': 0.8353938911476585, 'reg_lambda': 7.956576344265191}. Best is trial 1 with value: 1.398402711565385.\n",
            "[I 2025-07-08 04:33:38,769] Trial 4 finished with value: 1.5355257544209964 and parameters: {'n_estimators': 155, 'max_depth': 3, 'learning_rate': 0.06150630951933741, 'subsample': 0.9212177680748446, 'colsample_bytree': 0.7773202290223888, 'reg_alpha': 6.123256085956009, 'reg_lambda': 0.8295697482588938}. Best is trial 1 with value: 1.398402711565385.\n"
          ]
        },
        {
          "name": "stdout",
          "output_type": "stream",
          "text": [
            "Time bin 68 (17:00-17:14) - Best MAE: 1.3984\n",
            "Training model for time bin 69 (17:15-17:29)...\n"
          ]
        },
        {
          "name": "stderr",
          "output_type": "stream",
          "text": [
            "[I 2025-07-08 04:40:41,040] A new study created in memory with name: timebin_69\n",
            "[I 2025-07-08 04:41:50,704] Trial 0 finished with value: 1.413218268384649 and parameters: {'n_estimators': 147, 'max_depth': 3, 'learning_rate': 0.24101288889977182, 'subsample': 0.790926900376989, 'colsample_bytree': 0.8087260289577531, 'reg_alpha': 5.808808042067179, 'reg_lambda': 4.901097656696057}. Best is trial 0 with value: 1.413218268384649.\n",
            "[I 2025-07-08 04:43:56,368] Trial 1 finished with value: 1.3695231967336763 and parameters: {'n_estimators': 286, 'max_depth': 3, 'learning_rate': 0.28121750146208996, 'subsample': 0.6144512938430916, 'colsample_bytree': 0.8755206399295827, 'reg_alpha': 5.757303673020178, 'reg_lambda': 9.691818718182986}. Best is trial 1 with value: 1.3695231967336763.\n",
            "[I 2025-07-08 04:47:58,493] Trial 2 finished with value: 1.4075545596569856 and parameters: {'n_estimators': 206, 'max_depth': 6, 'learning_rate': 0.1909485320233736, 'subsample': 0.6713223409991779, 'colsample_bytree': 0.9863094782631053, 'reg_alpha': 8.027899529697525, 'reg_lambda': 5.181359259036454}. Best is trial 1 with value: 1.3695231967336763.\n",
            "[I 2025-07-08 04:49:29,609] Trial 3 finished with value: 1.8428899374199432 and parameters: {'n_estimators': 109, 'max_depth': 5, 'learning_rate': 0.03154678207685787, 'subsample': 0.8431647501471585, 'colsample_bytree': 0.8490848686214267, 'reg_alpha': 5.1045203525795415, 'reg_lambda': 2.448145147969908}. Best is trial 1 with value: 1.3695231967336763.\n",
            "[I 2025-07-08 04:55:32,589] Trial 4 finished with value: 1.3535870058137227 and parameters: {'n_estimators': 269, 'max_depth': 6, 'learning_rate': 0.24748138393326, 'subsample': 0.9520014162672009, 'colsample_bytree': 0.8159258078906819, 'reg_alpha': 4.530189629204464, 'reg_lambda': 9.348730675838082}. Best is trial 4 with value: 1.3535870058137227.\n"
          ]
        },
        {
          "name": "stdout",
          "output_type": "stream",
          "text": [
            "Time bin 69 (17:15-17:29) - Best MAE: 1.3536\n"
          ]
        },
        {
          "name": "stderr",
          "output_type": "stream",
          "text": [
            "[I 2025-07-08 05:01:53,513] A new study created in memory with name: timebin_70\n"
          ]
        },
        {
          "name": "stdout",
          "output_type": "stream",
          "text": [
            "Training model for time bin 70 (17:30-17:44)...\n"
          ]
        },
        {
          "name": "stderr",
          "output_type": "stream",
          "text": [
            "[I 2025-07-08 05:04:59,398] Trial 0 finished with value: 1.411515323264683 and parameters: {'n_estimators': 199, 'max_depth': 6, 'learning_rate': 0.19551445824994268, 'subsample': 0.6906426198678588, 'colsample_bytree': 0.6398435292718847, 'reg_alpha': 8.260575357063736, 'reg_lambda': 0.22877149869117147}. Best is trial 0 with value: 1.411515323264683.\n",
            "[I 2025-07-08 05:07:02,281] Trial 1 finished with value: 1.560640030196689 and parameters: {'n_estimators': 212, 'max_depth': 4, 'learning_rate': 0.0354215164536242, 'subsample': 0.8590309123812967, 'colsample_bytree': 0.8871072359571794, 'reg_alpha': 0.08466805877632268, 'reg_lambda': 7.202950181342013}. Best is trial 0 with value: 1.411515323264683.\n",
            "[I 2025-07-08 05:08:41,160] Trial 2 finished with value: 1.4903767043198992 and parameters: {'n_estimators': 238, 'max_depth': 3, 'learning_rate': 0.04312082766965829, 'subsample': 0.9815242932244279, 'colsample_bytree': 0.766232523975132, 'reg_alpha': 8.164915977207178, 'reg_lambda': 2.4251887500778864}. Best is trial 0 with value: 1.411515323264683.\n",
            "[I 2025-07-08 05:10:00,004] Trial 3 finished with value: 1.4602940379403793 and parameters: {'n_estimators': 181, 'max_depth': 3, 'learning_rate': 0.13699044387353715, 'subsample': 0.6481360866868495, 'colsample_bytree': 0.7702651362407968, 'reg_alpha': 7.438310217551282, 'reg_lambda': 6.459092570267073}. Best is trial 0 with value: 1.411515323264683.\n",
            "[I 2025-07-08 05:12:26,444] Trial 4 finished with value: 1.3969162318780168 and parameters: {'n_estimators': 222, 'max_depth': 4, 'learning_rate': 0.09379606464257362, 'subsample': 0.9998799950815729, 'colsample_bytree': 0.9223058482552917, 'reg_alpha': 4.17809632089813, 'reg_lambda': 3.7979641091556156}. Best is trial 4 with value: 1.3969162318780168.\n"
          ]
        },
        {
          "name": "stdout",
          "output_type": "stream",
          "text": [
            "Time bin 70 (17:30-17:44) - Best MAE: 1.3969\n"
          ]
        },
        {
          "name": "stderr",
          "output_type": "stream",
          "text": [
            "[I 2025-07-08 05:14:55,632] A new study created in memory with name: timebin_71\n"
          ]
        },
        {
          "name": "stdout",
          "output_type": "stream",
          "text": [
            "Training model for time bin 71 (17:45-17:59)...\n"
          ]
        },
        {
          "name": "stderr",
          "output_type": "stream",
          "text": [
            "[I 2025-07-08 05:19:25,090] Trial 0 finished with value: 1.4007884012760135 and parameters: {'n_estimators': 248, 'max_depth': 6, 'learning_rate': 0.2748204000911574, 'subsample': 0.6105928948461478, 'colsample_bytree': 0.7570472069990761, 'reg_alpha': 1.641122307469225, 'reg_lambda': 2.502102406597357}. Best is trial 0 with value: 1.4007884012760135.\n",
            "[I 2025-07-08 05:21:25,416] Trial 1 finished with value: 1.4194759683278466 and parameters: {'n_estimators': 272, 'max_depth': 3, 'learning_rate': 0.2675180624150599, 'subsample': 0.9055070503512761, 'colsample_bytree': 0.909847095238165, 'reg_alpha': 7.543466527452478, 'reg_lambda': 3.059548917026677}. Best is trial 0 with value: 1.4007884012760135.\n",
            "[I 2025-07-08 05:23:40,996] Trial 2 finished with value: 1.39197324546321 and parameters: {'n_estimators': 142, 'max_depth': 5, 'learning_rate': 0.2380661344905831, 'subsample': 0.9960841577218018, 'colsample_bytree': 0.8053897334524778, 'reg_alpha': 4.889516440820366, 'reg_lambda': 2.7122895226012322}. Best is trial 2 with value: 1.39197324546321.\n",
            "[I 2025-07-08 05:27:51,946] Trial 3 finished with value: 1.4086411217822954 and parameters: {'n_estimators': 242, 'max_depth': 6, 'learning_rate': 0.10713292589374986, 'subsample': 0.8308155700568246, 'colsample_bytree': 0.6985498430878048, 'reg_alpha': 6.254738517451013, 'reg_lambda': 1.1569768389007096}. Best is trial 2 with value: 1.39197324546321.\n",
            "[I 2025-07-08 05:29:52,655] Trial 4 finished with value: 1.4391601614080847 and parameters: {'n_estimators': 288, 'max_depth': 3, 'learning_rate': 0.15951816590563161, 'subsample': 0.8839911800986473, 'colsample_bytree': 0.7765829598276299, 'reg_alpha': 7.423066498389596, 'reg_lambda': 8.705390389298257}. Best is trial 2 with value: 1.39197324546321.\n"
          ]
        },
        {
          "name": "stdout",
          "output_type": "stream",
          "text": [
            "Time bin 71 (17:45-17:59) - Best MAE: 1.3920\n"
          ]
        },
        {
          "name": "stderr",
          "output_type": "stream",
          "text": [
            "[I 2025-07-08 05:32:17,070] A new study created in memory with name: timebin_72\n"
          ]
        },
        {
          "name": "stdout",
          "output_type": "stream",
          "text": [
            "Training model for time bin 72 (18:00-18:14)...\n"
          ]
        },
        {
          "name": "stderr",
          "output_type": "stream",
          "text": [
            "[I 2025-07-08 05:35:01,220] Trial 0 finished with value: 1.4939250039789072 and parameters: {'n_estimators': 182, 'max_depth': 5, 'learning_rate': 0.21736669770706313, 'subsample': 0.6145611608886176, 'colsample_bytree': 0.772888576403775, 'reg_alpha': 2.120178736508947, 'reg_lambda': 6.4881299278471225}. Best is trial 0 with value: 1.4939250039789072.\n",
            "[I 2025-07-08 05:38:19,167] Trial 1 finished with value: 1.4831642878234106 and parameters: {'n_estimators': 287, 'max_depth': 4, 'learning_rate': 0.23621243820350196, 'subsample': 0.8552397668950494, 'colsample_bytree': 0.9817849456933434, 'reg_alpha': 6.892729904745302, 'reg_lambda': 6.955678991717565}. Best is trial 1 with value: 1.4831642878234106.\n",
            "[I 2025-07-08 05:39:11,031] Trial 2 finished with value: 1.5552676431103352 and parameters: {'n_estimators': 118, 'max_depth': 3, 'learning_rate': 0.2592049613329917, 'subsample': 0.6535047062133662, 'colsample_bytree': 0.67374563627718, 'reg_alpha': 7.254739675291295, 'reg_lambda': 0.31050734932338103}. Best is trial 1 with value: 1.4831642878234106.\n",
            "[I 2025-07-08 05:41:48,611] Trial 3 finished with value: 1.5169387649418604 and parameters: {'n_estimators': 136, 'max_depth': 6, 'learning_rate': 0.2712737335128356, 'subsample': 0.8494953315808327, 'colsample_bytree': 0.7450592452601225, 'reg_alpha': 1.2114411046632498, 'reg_lambda': 3.78701616530205}. Best is trial 1 with value: 1.4831642878234106.\n",
            "[I 2025-07-08 05:43:09,374] Trial 4 finished with value: 1.4769964958716515 and parameters: {'n_estimators': 202, 'max_depth': 3, 'learning_rate': 0.2785671113927092, 'subsample': 0.9243481272939014, 'colsample_bytree': 0.6874007550472206, 'reg_alpha': 2.2520602310093305, 'reg_lambda': 1.099264769286549}. Best is trial 4 with value: 1.4769964958716515.\n"
          ]
        },
        {
          "name": "stdout",
          "output_type": "stream",
          "text": [
            "Time bin 72 (18:00-18:14) - Best MAE: 1.4770\n",
            "Training model for time bin 73 (18:15-18:29)...\n"
          ]
        },
        {
          "name": "stderr",
          "output_type": "stream",
          "text": [
            "[I 2025-07-08 05:44:34,709] A new study created in memory with name: timebin_73\n",
            "[I 2025-07-08 05:47:32,953] Trial 0 finished with value: 1.5300835695050445 and parameters: {'n_estimators': 175, 'max_depth': 6, 'learning_rate': 0.17323148905884458, 'subsample': 0.6024884627245476, 'colsample_bytree': 0.7320701102150007, 'reg_alpha': 6.180203040509865, 'reg_lambda': 2.719875086070081}. Best is trial 0 with value: 1.5300835695050445.\n",
            "[I 2025-07-08 05:48:37,665] Trial 1 finished with value: 1.4669787614958685 and parameters: {'n_estimators': 113, 'max_depth': 4, 'learning_rate': 0.21250569599714225, 'subsample': 0.8268839200951801, 'colsample_bytree': 0.6325215489944287, 'reg_alpha': 2.23134312211937, 'reg_lambda': 0.2584196675414261}. Best is trial 1 with value: 1.4669787614958685.\n",
            "[I 2025-07-08 05:50:00,399] Trial 2 finished with value: 1.7301781707326214 and parameters: {'n_estimators': 110, 'max_depth': 5, 'learning_rate': 0.05519744171005456, 'subsample': 0.7986530854119024, 'colsample_bytree': 0.673319286094979, 'reg_alpha': 9.821970506291937, 'reg_lambda': 8.35631871209892}. Best is trial 1 with value: 1.4669787614958685.\n",
            "[I 2025-07-08 05:52:11,883] Trial 3 finished with value: 1.4911064139298 and parameters: {'n_estimators': 192, 'max_depth': 4, 'learning_rate': 0.12675334181320877, 'subsample': 0.8424560590993235, 'colsample_bytree': 0.902232146049665, 'reg_alpha': 6.529087900114333, 'reg_lambda': 5.673998598852447}. Best is trial 1 with value: 1.4669787614958685.\n",
            "[I 2025-07-08 05:53:58,705] Trial 4 finished with value: 1.5130357491424258 and parameters: {'n_estimators': 185, 'max_depth': 4, 'learning_rate': 0.17188220173337027, 'subsample': 0.9769612831317791, 'colsample_bytree': 0.6290460329845039, 'reg_alpha': 9.245084926714927, 'reg_lambda': 9.656781820961537}. Best is trial 1 with value: 1.4669787614958685.\n"
          ]
        },
        {
          "name": "stdout",
          "output_type": "stream",
          "text": [
            "Time bin 73 (18:15-18:29) - Best MAE: 1.4670\n"
          ]
        },
        {
          "name": "stderr",
          "output_type": "stream",
          "text": [
            "[I 2025-07-08 05:55:05,968] A new study created in memory with name: timebin_74\n"
          ]
        },
        {
          "name": "stdout",
          "output_type": "stream",
          "text": [
            "Training model for time bin 74 (18:30-18:44)...\n"
          ]
        },
        {
          "name": "stderr",
          "output_type": "stream",
          "text": [
            "[I 2025-07-08 05:58:25,968] Trial 0 finished with value: 1.4802721272838013 and parameters: {'n_estimators': 167, 'max_depth': 6, 'learning_rate': 0.28589333833171077, 'subsample': 0.6958361367230599, 'colsample_bytree': 0.9554464240941635, 'reg_alpha': 8.078231810545276, 'reg_lambda': 6.376605130375758}. Best is trial 0 with value: 1.4802721272838013.\n",
            "[I 2025-07-08 06:00:18,058] Trial 1 finished with value: 1.4714377082065073 and parameters: {'n_estimators': 283, 'max_depth': 3, 'learning_rate': 0.25941784684768804, 'subsample': 0.9944546692579663, 'colsample_bytree': 0.6789635305152821, 'reg_alpha': 8.345466288859956, 'reg_lambda': 9.305339965697435}. Best is trial 1 with value: 1.4714377082065073.\n",
            "[I 2025-07-08 06:03:56,203] Trial 2 finished with value: 1.8908866172309613 and parameters: {'n_estimators': 278, 'max_depth': 5, 'learning_rate': 0.012779989370381753, 'subsample': 0.8606438351494994, 'colsample_bytree': 0.8755416998032572, 'reg_alpha': 3.924597381194891, 'reg_lambda': 0.7670396058206284}. Best is trial 1 with value: 1.4714377082065073.\n",
            "[I 2025-07-08 06:08:02,880] Trial 3 finished with value: 1.4550776638691156 and parameters: {'n_estimators': 296, 'max_depth': 5, 'learning_rate': 0.17532591393554384, 'subsample': 0.7493891287557488, 'colsample_bytree': 0.7499372104266417, 'reg_alpha': 8.709167645362633, 'reg_lambda': 8.344658410901017}. Best is trial 3 with value: 1.4550776638691156.\n",
            "[I 2025-07-08 06:10:25,155] Trial 4 finished with value: 1.5519303683793575 and parameters: {'n_estimators': 142, 'max_depth': 6, 'learning_rate': 0.10975424066002215, 'subsample': 0.7802419788045905, 'colsample_bytree': 0.6511810733974248, 'reg_alpha': 6.907471287494874, 'reg_lambda': 0.4823284418745688}. Best is trial 3 with value: 1.4550776638691156.\n"
          ]
        },
        {
          "name": "stdout",
          "output_type": "stream",
          "text": [
            "Time bin 74 (18:30-18:44) - Best MAE: 1.4551\n"
          ]
        },
        {
          "name": "stderr",
          "output_type": "stream",
          "text": [
            "[I 2025-07-08 06:14:50,502] A new study created in memory with name: timebin_75\n"
          ]
        },
        {
          "name": "stdout",
          "output_type": "stream",
          "text": [
            "Training model for time bin 75 (18:45-18:59)...\n"
          ]
        },
        {
          "name": "stderr",
          "output_type": "stream",
          "text": [
            "[I 2025-07-08 06:19:56,785] Trial 0 finished with value: 1.4947883381368792 and parameters: {'n_estimators': 281, 'max_depth': 6, 'learning_rate': 0.08315061099011695, 'subsample': 0.8884745757136576, 'colsample_bytree': 0.7843411709344807, 'reg_alpha': 6.973876021407349, 'reg_lambda': 8.86008975177993}. Best is trial 0 with value: 1.4947883381368792.\n",
            "[I 2025-07-08 06:24:01,210] Trial 1 finished with value: 1.5205707539334974 and parameters: {'n_estimators': 239, 'max_depth': 6, 'learning_rate': 0.2877900008791567, 'subsample': 0.6610652839333199, 'colsample_bytree': 0.6779459717082625, 'reg_alpha': 6.334565560255111, 'reg_lambda': 2.11088109029763}. Best is trial 0 with value: 1.4947883381368792.\n",
            "[I 2025-07-08 06:25:14,835] Trial 2 finished with value: 1.494625944263038 and parameters: {'n_estimators': 175, 'max_depth': 3, 'learning_rate': 0.17652656677370243, 'subsample': 0.849846844686203, 'colsample_bytree': 0.7371540243161833, 'reg_alpha': 3.6039631131046344, 'reg_lambda': 3.434225970777838}. Best is trial 2 with value: 1.494625944263038.\n",
            "[I 2025-07-08 06:26:57,904] Trial 3 finished with value: 1.539227833047536 and parameters: {'n_estimators': 234, 'max_depth': 3, 'learning_rate': 0.2130499880811798, 'subsample': 0.6203470477715053, 'colsample_bytree': 0.9296808235874179, 'reg_alpha': 6.782692807269586, 'reg_lambda': 1.8656690944478567}. Best is trial 2 with value: 1.494625944263038.\n",
            "[I 2025-07-08 06:28:03,119] Trial 4 finished with value: 1.6900780433007927 and parameters: {'n_estimators': 155, 'max_depth': 3, 'learning_rate': 0.047650462773271146, 'subsample': 0.7278697425806877, 'colsample_bytree': 0.8082080692542816, 'reg_alpha': 0.5133635233491473, 'reg_lambda': 6.21394010879906}. Best is trial 2 with value: 1.494625944263038.\n"
          ]
        },
        {
          "name": "stdout",
          "output_type": "stream",
          "text": [
            "Time bin 75 (18:45-18:59) - Best MAE: 1.4946\n",
            "Training model for time bin 76 (19:00-19:14)...\n"
          ]
        },
        {
          "name": "stderr",
          "output_type": "stream",
          "text": [
            "[I 2025-07-08 06:29:17,250] A new study created in memory with name: timebin_76\n",
            "[I 2025-07-08 06:31:58,316] Trial 0 finished with value: 1.4775264828359425 and parameters: {'n_estimators': 155, 'max_depth': 6, 'learning_rate': 0.16363916042933352, 'subsample': 0.6213733940417899, 'colsample_bytree': 0.6855273318521858, 'reg_alpha': 1.376195075935322, 'reg_lambda': 9.076616777279305}. Best is trial 0 with value: 1.4775264828359425.\n",
            "[I 2025-07-08 06:33:26,829] Trial 1 finished with value: 1.8160117409284915 and parameters: {'n_estimators': 108, 'max_depth': 5, 'learning_rate': 0.05044201825875777, 'subsample': 0.9131337147294287, 'colsample_bytree': 0.7435463011799656, 'reg_alpha': 7.436559399808361, 'reg_lambda': 7.257491184780155}. Best is trial 0 with value: 1.4775264828359425.\n",
            "[I 2025-07-08 06:36:09,569] Trial 2 finished with value: 1.4610175568938393 and parameters: {'n_estimators': 252, 'max_depth': 4, 'learning_rate': 0.21687497346509368, 'subsample': 0.9842829080843164, 'colsample_bytree': 0.8850381456161576, 'reg_alpha': 5.427015640567254, 'reg_lambda': 5.016391171227301}. Best is trial 2 with value: 1.4610175568938393.\n",
            "[I 2025-07-08 06:37:56,131] Trial 3 finished with value: 1.7966304226201564 and parameters: {'n_estimators': 284, 'max_depth': 3, 'learning_rate': 0.01832908648106948, 'subsample': 0.9440682296134807, 'colsample_bytree': 0.6562197665018263, 'reg_alpha': 3.5464767333256724, 'reg_lambda': 8.201075142962258}. Best is trial 2 with value: 1.4610175568938393.\n",
            "[I 2025-07-08 06:39:26,093] Trial 4 finished with value: 1.5655503751126225 and parameters: {'n_estimators': 134, 'max_depth': 4, 'learning_rate': 0.12080387861385045, 'subsample': 0.9716434749504631, 'colsample_bytree': 0.8841519912711502, 'reg_alpha': 8.968803811520196, 'reg_lambda': 8.22959086411124}. Best is trial 2 with value: 1.4610175568938393.\n"
          ]
        },
        {
          "name": "stdout",
          "output_type": "stream",
          "text": [
            "Time bin 76 (19:00-19:14) - Best MAE: 1.4610\n"
          ]
        },
        {
          "name": "stderr",
          "output_type": "stream",
          "text": [
            "[I 2025-07-08 06:42:15,133] A new study created in memory with name: timebin_77\n"
          ]
        },
        {
          "name": "stdout",
          "output_type": "stream",
          "text": [
            "Training model for time bin 77 (19:15-19:29)...\n"
          ]
        },
        {
          "name": "stderr",
          "output_type": "stream",
          "text": [
            "[I 2025-07-08 06:45:05,262] Trial 0 finished with value: 1.5251367738820625 and parameters: {'n_estimators': 241, 'max_depth': 5, 'learning_rate': 0.0652634446682481, 'subsample': 0.8009955338237793, 'colsample_bytree': 0.6029735348289563, 'reg_alpha': 9.34077484255235, 'reg_lambda': 9.604239010744838}. Best is trial 0 with value: 1.5251367738820625.\n",
            "[I 2025-07-08 06:48:11,764] Trial 1 finished with value: 1.5130381873340948 and parameters: {'n_estimators': 158, 'max_depth': 6, 'learning_rate': 0.15479750871184667, 'subsample': 0.9210819358998885, 'colsample_bytree': 0.7848834155376712, 'reg_alpha': 5.511822154110176, 'reg_lambda': 6.208350795561438}. Best is trial 1 with value: 1.5130381873340948.\n",
            "[I 2025-07-08 06:49:53,449] Trial 2 finished with value: 1.5515984633756585 and parameters: {'n_estimators': 255, 'max_depth': 3, 'learning_rate': 0.06797152752537787, 'subsample': 0.662109369019727, 'colsample_bytree': 0.6937949059494117, 'reg_alpha': 7.341672485830016, 'reg_lambda': 3.493441067220599}. Best is trial 1 with value: 1.5130381873340948.\n",
            "[I 2025-07-08 06:51:46,411] Trial 3 finished with value: 1.4867390134012093 and parameters: {'n_estimators': 281, 'max_depth': 3, 'learning_rate': 0.11648276575660972, 'subsample': 0.6572806626022442, 'colsample_bytree': 0.7665212506761331, 'reg_alpha': 1.025586811138761, 'reg_lambda': 5.467474747956376}. Best is trial 3 with value: 1.4867390134012093.\n",
            "[I 2025-07-08 06:54:40,558] Trial 4 finished with value: 1.9822206885670424 and parameters: {'n_estimators': 214, 'max_depth': 6, 'learning_rate': 0.014296586645781467, 'subsample': 0.7188840634721881, 'colsample_bytree': 0.6727454582976381, 'reg_alpha': 9.3482155175903, 'reg_lambda': 2.382990521960203}. Best is trial 3 with value: 1.4867390134012093.\n"
          ]
        },
        {
          "name": "stdout",
          "output_type": "stream",
          "text": [
            "Time bin 77 (19:15-19:29) - Best MAE: 1.4867\n"
          ]
        },
        {
          "name": "stderr",
          "output_type": "stream",
          "text": [
            "[I 2025-07-08 06:56:34,696] A new study created in memory with name: timebin_78\n"
          ]
        },
        {
          "name": "stdout",
          "output_type": "stream",
          "text": [
            "Training model for time bin 78 (19:30-19:44)...\n"
          ]
        },
        {
          "name": "stderr",
          "output_type": "stream",
          "text": [
            "[I 2025-07-08 07:00:49,170] Trial 0 finished with value: 1.4679477978830113 and parameters: {'n_estimators': 281, 'max_depth': 6, 'learning_rate': 0.06004592327109767, 'subsample': 0.8948793724158395, 'colsample_bytree': 0.6140391216905164, 'reg_alpha': 0.28616036548552387, 'reg_lambda': 6.1699888117141635}. Best is trial 0 with value: 1.4679477978830113.\n",
            "[I 2025-07-08 07:04:11,467] Trial 1 finished with value: 1.4497456894589507 and parameters: {'n_estimators': 242, 'max_depth': 5, 'learning_rate': 0.15010962186832255, 'subsample': 0.9354639043897568, 'colsample_bytree': 0.7168100857997429, 'reg_alpha': 7.692290751121558, 'reg_lambda': 6.634313440880339}. Best is trial 1 with value: 1.4497456894589507.\n",
            "[I 2025-07-08 07:06:46,931] Trial 2 finished with value: 1.6066179992978673 and parameters: {'n_estimators': 212, 'max_depth': 5, 'learning_rate': 0.044893255635296135, 'subsample': 0.6552491702616302, 'colsample_bytree': 0.6359753121449601, 'reg_alpha': 5.226724571019489, 'reg_lambda': 9.32656454841205}. Best is trial 1 with value: 1.4497456894589507.\n",
            "[I 2025-07-08 07:09:41,477] Trial 3 finished with value: 1.4341512810835277 and parameters: {'n_estimators': 283, 'max_depth': 4, 'learning_rate': 0.28396872351052393, 'subsample': 0.7082500979085944, 'colsample_bytree': 0.7901740525049747, 'reg_alpha': 4.558025383106493, 'reg_lambda': 0.264202061878985}. Best is trial 3 with value: 1.4341512810835277.\n",
            "[I 2025-07-08 07:12:56,585] Trial 4 finished with value: 1.4646202683350618 and parameters: {'n_estimators': 202, 'max_depth': 6, 'learning_rate': 0.15354496506050808, 'subsample': 0.6309205503562054, 'colsample_bytree': 0.606404104184887, 'reg_alpha': 2.714251036501362, 'reg_lambda': 1.6005965960293838}. Best is trial 3 with value: 1.4341512810835277.\n"
          ]
        },
        {
          "name": "stdout",
          "output_type": "stream",
          "text": [
            "Time bin 78 (19:30-19:44) - Best MAE: 1.4342\n"
          ]
        },
        {
          "name": "stderr",
          "output_type": "stream",
          "text": [
            "[I 2025-07-08 07:15:54,463] A new study created in memory with name: timebin_79\n"
          ]
        },
        {
          "name": "stdout",
          "output_type": "stream",
          "text": [
            "Training model for time bin 79 (19:45-19:59)...\n"
          ]
        },
        {
          "name": "stderr",
          "output_type": "stream",
          "text": [
            "[I 2025-07-08 07:17:18,576] Trial 0 finished with value: 1.5371074076457079 and parameters: {'n_estimators': 185, 'max_depth': 3, 'learning_rate': 0.07865736358520896, 'subsample': 0.6305334156483776, 'colsample_bytree': 0.9562835324293788, 'reg_alpha': 5.3172799867003775, 'reg_lambda': 1.4979221332017254}. Best is trial 0 with value: 1.5371074076457079.\n",
            "[I 2025-07-08 07:18:31,711] Trial 1 finished with value: 1.6204396681110427 and parameters: {'n_estimators': 112, 'max_depth': 4, 'learning_rate': 0.07899678650246254, 'subsample': 0.9098506917659698, 'colsample_bytree': 0.8683937802072534, 'reg_alpha': 7.9074850066313696, 'reg_lambda': 7.507400504629702}. Best is trial 0 with value: 1.5371074076457079.\n",
            "[I 2025-07-08 07:21:44,382] Trial 2 finished with value: 1.4645160092875518 and parameters: {'n_estimators': 215, 'max_depth': 5, 'learning_rate': 0.19110549646659505, 'subsample': 0.6427165835603506, 'colsample_bytree': 0.8813335603447018, 'reg_alpha': 7.635859169748084, 'reg_lambda': 8.79566578221347}. Best is trial 2 with value: 1.4645160092875518.\n",
            "[I 2025-07-08 07:23:56,292] Trial 3 finished with value: 1.5695958875580207 and parameters: {'n_estimators': 117, 'max_depth': 6, 'learning_rate': 0.12149680747561702, 'subsample': 0.8573268286191834, 'colsample_bytree': 0.8748387026225599, 'reg_alpha': 9.451850447063865, 'reg_lambda': 9.573876476805609}. Best is trial 2 with value: 1.4645160092875518.\n",
            "[I 2025-07-08 07:26:52,061] Trial 4 finished with value: 1.4351273254516974 and parameters: {'n_estimators': 164, 'max_depth': 6, 'learning_rate': 0.12506807467955924, 'subsample': 0.6516035491015455, 'colsample_bytree': 0.8225451461583635, 'reg_alpha': 0.5499609216658449, 'reg_lambda': 8.08959199696888}. Best is trial 4 with value: 1.4351273254516974.\n"
          ]
        },
        {
          "name": "stdout",
          "output_type": "stream",
          "text": [
            "Time bin 79 (19:45-19:59) - Best MAE: 1.4351\n"
          ]
        },
        {
          "name": "stderr",
          "output_type": "stream",
          "text": [
            "[I 2025-07-08 07:30:03,146] A new study created in memory with name: timebin_80\n"
          ]
        },
        {
          "name": "stdout",
          "output_type": "stream",
          "text": [
            "Training model for time bin 80 (20:00-20:14)...\n"
          ]
        },
        {
          "name": "stderr",
          "output_type": "stream",
          "text": [
            "[I 2025-07-08 07:31:36,861] Trial 0 finished with value: 1.4900821696182653 and parameters: {'n_estimators': 134, 'max_depth': 4, 'learning_rate': 0.2215716840172414, 'subsample': 0.9272543000281902, 'colsample_bytree': 0.9816758832648016, 'reg_alpha': 6.871243048728969, 'reg_lambda': 1.1475051538132335}. Best is trial 0 with value: 1.4900821696182653.\n",
            "[I 2025-07-08 07:33:32,929] Trial 1 finished with value: 1.4763885595679926 and parameters: {'n_estimators': 130, 'max_depth': 5, 'learning_rate': 0.11926854864541481, 'subsample': 0.8972283417760183, 'colsample_bytree': 0.855815738807632, 'reg_alpha': 1.1677512407802217, 'reg_lambda': 9.722412305215043}. Best is trial 1 with value: 1.4763885595679926.\n",
            "[I 2025-07-08 07:35:47,020] Trial 2 finished with value: 1.45216793907342 and parameters: {'n_estimators': 204, 'max_depth': 4, 'learning_rate': 0.21678773573560492, 'subsample': 0.8194442824650587, 'colsample_bytree': 0.886175198090295, 'reg_alpha': 8.19108881542391, 'reg_lambda': 0.19926636174075668}. Best is trial 2 with value: 1.45216793907342.\n",
            "[I 2025-07-08 07:36:35,299] Trial 3 finished with value: 1.4633871540838481 and parameters: {'n_estimators': 115, 'max_depth': 3, 'learning_rate': 0.18021997856091548, 'subsample': 0.8422399665000561, 'colsample_bytree': 0.7037102089460947, 'reg_alpha': 1.8387909422683255, 'reg_lambda': 4.327853302076991}. Best is trial 2 with value: 1.45216793907342.\n",
            "[I 2025-07-08 07:39:21,407] Trial 4 finished with value: 1.446961931952226 and parameters: {'n_estimators': 267, 'max_depth': 4, 'learning_rate': 0.17831373011839635, 'subsample': 0.6132955925996375, 'colsample_bytree': 0.8054998756615354, 'reg_alpha': 7.104308687114909, 'reg_lambda': 9.137776791637979}. Best is trial 4 with value: 1.446961931952226.\n"
          ]
        },
        {
          "name": "stdout",
          "output_type": "stream",
          "text": [
            "Time bin 80 (20:00-20:14) - Best MAE: 1.4470\n"
          ]
        },
        {
          "name": "stderr",
          "output_type": "stream",
          "text": [
            "[I 2025-07-08 07:42:12,200] A new study created in memory with name: timebin_81\n"
          ]
        },
        {
          "name": "stdout",
          "output_type": "stream",
          "text": [
            "Training model for time bin 81 (20:15-20:29)...\n"
          ]
        },
        {
          "name": "stderr",
          "output_type": "stream",
          "text": [
            "[I 2025-07-08 07:45:35,266] Trial 0 finished with value: 1.4963366823596167 and parameters: {'n_estimators': 221, 'max_depth': 6, 'learning_rate': 0.06264655107659346, 'subsample': 0.9535593511170469, 'colsample_bytree': 0.674415543775012, 'reg_alpha': 9.874897145674536, 'reg_lambda': 4.954289674539042}. Best is trial 0 with value: 1.4963366823596167.\n",
            "[I 2025-07-08 07:50:17,462] Trial 1 finished with value: 1.541621024440201 and parameters: {'n_estimators': 288, 'max_depth': 6, 'learning_rate': 0.02573795230490738, 'subsample': 0.8866725810375256, 'colsample_bytree': 0.7776312962464457, 'reg_alpha': 1.5106138079728342, 'reg_lambda': 8.02272073352264}. Best is trial 0 with value: 1.4963366823596167.\n",
            "[I 2025-07-08 07:53:11,055] Trial 2 finished with value: 1.9250920892650405 and parameters: {'n_estimators': 160, 'max_depth': 6, 'learning_rate': 0.021448699651869966, 'subsample': 0.9785540916587604, 'colsample_bytree': 0.936397184988321, 'reg_alpha': 2.970189503302427, 'reg_lambda': 2.472632177648828}. Best is trial 0 with value: 1.4963366823596167.\n",
            "[I 2025-07-08 07:54:24,997] Trial 3 finished with value: 1.6267225702233605 and parameters: {'n_estimators': 162, 'max_depth': 3, 'learning_rate': 0.09265811531624833, 'subsample': 0.7457079773890748, 'colsample_bytree': 0.9188831048593676, 'reg_alpha': 9.380280464647045, 'reg_lambda': 1.6398345801897583}. Best is trial 0 with value: 1.4963366823596167.\n",
            "[I 2025-07-08 07:58:17,603] Trial 4 finished with value: 1.479435332584955 and parameters: {'n_estimators': 204, 'max_depth': 6, 'learning_rate': 0.11409976307892322, 'subsample': 0.6299389404673846, 'colsample_bytree': 0.8585617820206679, 'reg_alpha': 2.8497277567610237, 'reg_lambda': 0.6680014900441902}. Best is trial 4 with value: 1.479435332584955.\n"
          ]
        },
        {
          "name": "stdout",
          "output_type": "stream",
          "text": [
            "Time bin 81 (20:15-20:29) - Best MAE: 1.4794\n"
          ]
        },
        {
          "name": "stderr",
          "output_type": "stream",
          "text": [
            "[I 2025-07-08 08:02:32,302] A new study created in memory with name: timebin_82\n"
          ]
        },
        {
          "name": "stdout",
          "output_type": "stream",
          "text": [
            "Training model for time bin 82 (20:30-20:44)...\n"
          ]
        },
        {
          "name": "stderr",
          "output_type": "stream",
          "text": [
            "[I 2025-07-08 08:06:39,800] Trial 0 finished with value: 1.4142694362462758 and parameters: {'n_estimators': 277, 'max_depth': 5, 'learning_rate': 0.16358178010512534, 'subsample': 0.7214110738323992, 'colsample_bytree': 0.8169695413608798, 'reg_alpha': 2.7960370946691504, 'reg_lambda': 9.145930086146445}. Best is trial 0 with value: 1.4142694362462758.\n",
            "[I 2025-07-08 08:10:57,413] Trial 1 finished with value: 1.4011484174513915 and parameters: {'n_estimators': 263, 'max_depth': 5, 'learning_rate': 0.2972494265761096, 'subsample': 0.7687140558556838, 'colsample_bytree': 0.8939502711827851, 'reg_alpha': 4.6923257234042905, 'reg_lambda': 2.499420283870721}. Best is trial 1 with value: 1.4011484174513915.\n",
            "[I 2025-07-08 08:13:36,925] Trial 2 finished with value: 1.412143166926403 and parameters: {'n_estimators': 244, 'max_depth': 4, 'learning_rate': 0.17117146063635988, 'subsample': 0.9423888318850426, 'colsample_bytree': 0.9605845011146058, 'reg_alpha': 3.539062516035195, 'reg_lambda': 5.653320289463347}. Best is trial 1 with value: 1.4011484174513915.\n",
            "[I 2025-07-08 08:14:58,153] Trial 3 finished with value: 1.4550193035039938 and parameters: {'n_estimators': 207, 'max_depth': 3, 'learning_rate': 0.08792703937518802, 'subsample': 0.9888599709823458, 'colsample_bytree': 0.7184091523284009, 'reg_alpha': 1.965835984013366, 'reg_lambda': 4.059744040202008}. Best is trial 1 with value: 1.4011484174513915.\n",
            "[I 2025-07-08 08:16:19,314] Trial 4 finished with value: 1.389174067509639 and parameters: {'n_estimators': 194, 'max_depth': 3, 'learning_rate': 0.2969073810762503, 'subsample': 0.775686108314504, 'colsample_bytree': 0.7101823727539357, 'reg_alpha': 8.850322861128967, 'reg_lambda': 7.4128611157395845}. Best is trial 4 with value: 1.389174067509639.\n"
          ]
        },
        {
          "name": "stdout",
          "output_type": "stream",
          "text": [
            "Time bin 82 (20:30-20:44) - Best MAE: 1.3892\n",
            "Training model for time bin 83 (20:45-20:59)...\n"
          ]
        },
        {
          "name": "stderr",
          "output_type": "stream",
          "text": [
            "[I 2025-07-08 08:17:41,990] A new study created in memory with name: timebin_83\n",
            "[I 2025-07-08 08:21:47,787] Trial 0 finished with value: 1.5347966742659698 and parameters: {'n_estimators': 243, 'max_depth': 6, 'learning_rate': 0.20573401654942997, 'subsample': 0.6564627762500893, 'colsample_bytree': 0.6006172622813476, 'reg_alpha': 2.6261238108934775, 'reg_lambda': 9.401704632167272}. Best is trial 0 with value: 1.5347966742659698.\n",
            "[I 2025-07-08 08:22:49,930] Trial 1 finished with value: 1.6810214415346056 and parameters: {'n_estimators': 138, 'max_depth': 3, 'learning_rate': 0.052899469357513024, 'subsample': 0.7172121019663054, 'colsample_bytree': 0.9763124498907548, 'reg_alpha': 0.16853330883431708, 'reg_lambda': 1.6653741108077744}. Best is trial 0 with value: 1.5347966742659698.\n",
            "[I 2025-07-08 08:23:47,978] Trial 2 finished with value: 1.562610032155361 and parameters: {'n_estimators': 143, 'max_depth': 3, 'learning_rate': 0.271782121406597, 'subsample': 0.6342627612455158, 'colsample_bytree': 0.6162913765830423, 'reg_alpha': 6.637953186320655, 'reg_lambda': 9.542926785744159}. Best is trial 0 with value: 1.5347966742659698.\n",
            "[I 2025-07-08 08:27:11,105] Trial 3 finished with value: 1.5842162014291459 and parameters: {'n_estimators': 251, 'max_depth': 5, 'learning_rate': 0.029987926386970384, 'subsample': 0.9419581163765846, 'colsample_bytree': 0.9085201778606534, 'reg_alpha': 0.913661255074794, 'reg_lambda': 6.894770728390232}. Best is trial 0 with value: 1.5347966742659698.\n",
            "[I 2025-07-08 08:29:07,632] Trial 4 finished with value: 1.4294711599534864 and parameters: {'n_estimators': 277, 'max_depth': 3, 'learning_rate': 0.25897982383989926, 'subsample': 0.7339777085219137, 'colsample_bytree': 0.8943052406524709, 'reg_alpha': 1.9537696579352257, 'reg_lambda': 7.021571549339346}. Best is trial 4 with value: 1.4294711599534864.\n"
          ]
        },
        {
          "name": "stdout",
          "output_type": "stream",
          "text": [
            "Time bin 83 (20:45-20:59) - Best MAE: 1.4295\n"
          ]
        },
        {
          "name": "stderr",
          "output_type": "stream",
          "text": [
            "[I 2025-07-08 08:31:07,452] A new study created in memory with name: timebin_84\n"
          ]
        },
        {
          "name": "stdout",
          "output_type": "stream",
          "text": [
            "Training model for time bin 84 (21:00-21:14)...\n"
          ]
        },
        {
          "name": "stderr",
          "output_type": "stream",
          "text": [
            "[I 2025-07-08 08:36:08,591] Trial 0 finished with value: 1.548003323801314 and parameters: {'n_estimators': 280, 'max_depth': 6, 'learning_rate': 0.046211128276774795, 'subsample': 0.9793836017045608, 'colsample_bytree': 0.7631939143779296, 'reg_alpha': 3.0048302761719214, 'reg_lambda': 5.027815551446218}. Best is trial 0 with value: 1.548003323801314.\n",
            "[I 2025-07-08 08:40:02,605] Trial 1 finished with value: 1.7207385155298276 and parameters: {'n_estimators': 253, 'max_depth': 6, 'learning_rate': 0.028668057890118927, 'subsample': 0.6857971621672476, 'colsample_bytree': 0.824011250979203, 'reg_alpha': 8.691513120946784, 'reg_lambda': 3.7028200855321667}. Best is trial 0 with value: 1.548003323801314.\n",
            "[I 2025-07-08 08:41:42,666] Trial 2 finished with value: 1.5794206076521213 and parameters: {'n_estimators': 127, 'max_depth': 5, 'learning_rate': 0.20543860901188885, 'subsample': 0.76253975176924, 'colsample_bytree': 0.6608160175113589, 'reg_alpha': 0.598861609145205, 'reg_lambda': 6.993634741961762}. Best is trial 0 with value: 1.548003323801314.\n",
            "[I 2025-07-08 08:43:58,055] Trial 3 finished with value: 1.578511390073712 and parameters: {'n_estimators': 244, 'max_depth': 4, 'learning_rate': 0.04296222432704014, 'subsample': 0.9888738049555262, 'colsample_bytree': 0.8133163807410212, 'reg_alpha': 0.06382341247323499, 'reg_lambda': 3.8987480296425363}. Best is trial 0 with value: 1.548003323801314.\n",
            "[I 2025-07-08 08:45:46,881] Trial 4 finished with value: 1.502023177124049 and parameters: {'n_estimators': 248, 'max_depth': 3, 'learning_rate': 0.28287123838210604, 'subsample': 0.8557776252543874, 'colsample_bytree': 0.8926692442804025, 'reg_alpha': 6.656768691415538, 'reg_lambda': 9.22563121689227}. Best is trial 4 with value: 1.502023177124049.\n"
          ]
        },
        {
          "name": "stdout",
          "output_type": "stream",
          "text": [
            "Time bin 84 (21:00-21:14) - Best MAE: 1.5020\n"
          ]
        },
        {
          "name": "stderr",
          "output_type": "stream",
          "text": [
            "[I 2025-07-08 08:47:38,818] A new study created in memory with name: timebin_85\n"
          ]
        },
        {
          "name": "stdout",
          "output_type": "stream",
          "text": [
            "Training model for time bin 85 (21:15-21:29)...\n"
          ]
        },
        {
          "name": "stderr",
          "output_type": "stream",
          "text": [
            "[I 2025-07-08 08:48:24,537] Trial 0 finished with value: 1.647255292760846 and parameters: {'n_estimators': 101, 'max_depth': 3, 'learning_rate': 0.15434413661404087, 'subsample': 0.7974535500692077, 'colsample_bytree': 0.7344157466034249, 'reg_alpha': 5.987750415920178, 'reg_lambda': 2.9947252683327403}. Best is trial 0 with value: 1.647255292760846.\n",
            "[I 2025-07-08 08:50:32,251] Trial 1 finished with value: 1.5548974616691074 and parameters: {'n_estimators': 221, 'max_depth': 4, 'learning_rate': 0.1028345029380089, 'subsample': 0.7922059447226548, 'colsample_bytree': 0.6963040450388642, 'reg_alpha': 6.8178876144742055, 'reg_lambda': 3.7971139372486977}. Best is trial 1 with value: 1.5548974616691074.\n",
            "[I 2025-07-08 08:53:03,608] Trial 2 finished with value: 1.5684868679877644 and parameters: {'n_estimators': 151, 'max_depth': 5, 'learning_rate': 0.21402442367532273, 'subsample': 0.919800198894738, 'colsample_bytree': 0.9553853176731634, 'reg_alpha': 1.8573037196963278, 'reg_lambda': 7.165062486833192}. Best is trial 1 with value: 1.5548974616691074.\n",
            "[I 2025-07-08 08:55:06,624] Trial 3 finished with value: 1.6867675943794118 and parameters: {'n_estimators': 291, 'max_depth': 3, 'learning_rate': 0.036060406977897384, 'subsample': 0.6987615914829993, 'colsample_bytree': 0.896320194955547, 'reg_alpha': 4.242607715844295, 'reg_lambda': 6.298880838749979}. Best is trial 1 with value: 1.5548974616691074.\n",
            "[I 2025-07-08 08:59:44,208] Trial 4 finished with value: 1.5167206269233007 and parameters: {'n_estimators': 296, 'max_depth': 5, 'learning_rate': 0.09042827083330014, 'subsample': 0.8263067244759705, 'colsample_bytree': 0.9227951060272914, 'reg_alpha': 5.1019264186078175, 'reg_lambda': 8.398135569815809}. Best is trial 4 with value: 1.5167206269233007.\n"
          ]
        },
        {
          "name": "stdout",
          "output_type": "stream",
          "text": [
            "Time bin 85 (21:15-21:29) - Best MAE: 1.5167\n",
            "Training model for time bin 86 (21:30-21:44)...\n"
          ]
        },
        {
          "name": "stderr",
          "output_type": "stream",
          "text": [
            "[I 2025-07-08 09:04:43,607] A new study created in memory with name: timebin_86\n",
            "[I 2025-07-08 09:05:54,799] Trial 0 finished with value: 1.5399515532333952 and parameters: {'n_estimators': 120, 'max_depth': 4, 'learning_rate': 0.1289717259425184, 'subsample': 0.9289091460412178, 'colsample_bytree': 0.7225418926570746, 'reg_alpha': 1.1276853551529866, 'reg_lambda': 6.677802689562341}. Best is trial 0 with value: 1.5399515532333952.\n",
            "[I 2025-07-08 09:10:16,952] Trial 1 finished with value: 1.4683934150776914 and parameters: {'n_estimators': 234, 'max_depth': 6, 'learning_rate': 0.23392440711246776, 'subsample': 0.6987319820275684, 'colsample_bytree': 0.7209018515097925, 'reg_alpha': 1.8435104585854798, 'reg_lambda': 9.840827498680873}. Best is trial 1 with value: 1.4683934150776914.\n",
            "[I 2025-07-08 09:12:23,109] Trial 2 finished with value: 1.5342569488849842 and parameters: {'n_estimators': 195, 'max_depth': 4, 'learning_rate': 0.22718138247613814, 'subsample': 0.7292163682101098, 'colsample_bytree': 0.8626508020670967, 'reg_alpha': 8.531219531380994, 'reg_lambda': 8.166040851890424}. Best is trial 1 with value: 1.4683934150776914.\n",
            "[I 2025-07-08 09:13:59,434] Trial 3 finished with value: 1.742442086899507 and parameters: {'n_estimators': 123, 'max_depth': 5, 'learning_rate': 0.06268341248472899, 'subsample': 0.6402386812511374, 'colsample_bytree': 0.6743547143269345, 'reg_alpha': 5.40435071788926, 'reg_lambda': 4.780848961628592}. Best is trial 1 with value: 1.4683934150776914.\n",
            "[I 2025-07-08 09:17:28,930] Trial 4 finished with value: 1.6447194488569923 and parameters: {'n_estimators': 248, 'max_depth': 5, 'learning_rate': 0.030865145616423513, 'subsample': 0.9627889720655044, 'colsample_bytree': 0.8956346411878325, 'reg_alpha': 8.402157396457886, 'reg_lambda': 4.210690755777924}. Best is trial 1 with value: 1.4683934150776914.\n"
          ]
        },
        {
          "name": "stdout",
          "output_type": "stream",
          "text": [
            "Time bin 86 (21:30-21:44) - Best MAE: 1.4684\n"
          ]
        },
        {
          "name": "stderr",
          "output_type": "stream",
          "text": [
            "[I 2025-07-08 09:22:17,783] A new study created in memory with name: timebin_87\n"
          ]
        },
        {
          "name": "stdout",
          "output_type": "stream",
          "text": [
            "Training model for time bin 87 (21:45-21:59)...\n"
          ]
        },
        {
          "name": "stderr",
          "output_type": "stream",
          "text": [
            "[I 2025-07-08 09:27:37,687] Trial 0 finished with value: 1.3842112001598388 and parameters: {'n_estimators': 281, 'max_depth': 6, 'learning_rate': 0.09102667917785104, 'subsample': 0.7946463992541174, 'colsample_bytree': 0.7680944074071452, 'reg_alpha': 1.2350831498441395, 'reg_lambda': 7.645298981967036}. Best is trial 0 with value: 1.3842112001598388.\n",
            "[I 2025-07-08 09:28:42,368] Trial 1 finished with value: 1.4362337484830914 and parameters: {'n_estimators': 154, 'max_depth': 3, 'learning_rate': 0.2633777555722833, 'subsample': 0.959505480499417, 'colsample_bytree': 0.6876298358091304, 'reg_alpha': 5.850971111516882, 'reg_lambda': 6.200523276433376}. Best is trial 0 with value: 1.3842112001598388.\n",
            "[I 2025-07-08 09:34:01,597] Trial 2 finished with value: 1.4962988829955672 and parameters: {'n_estimators': 255, 'max_depth': 6, 'learning_rate': 0.17330592108793502, 'subsample': 0.6297385757524024, 'colsample_bytree': 0.9445403545603692, 'reg_alpha': 3.5758054857324777, 'reg_lambda': 0.9837364097338597}. Best is trial 0 with value: 1.3842112001598388.\n",
            "[I 2025-07-08 09:36:00,887] Trial 3 finished with value: 1.4985294994285066 and parameters: {'n_estimators': 208, 'max_depth': 4, 'learning_rate': 0.05662697000818268, 'subsample': 0.9668736514299003, 'colsample_bytree': 0.6947970594089697, 'reg_alpha': 6.467138064758055, 'reg_lambda': 5.558589256508931}. Best is trial 0 with value: 1.3842112001598388.\n",
            "[I 2025-07-08 09:42:03,181] Trial 4 finished with value: 1.4157511558954186 and parameters: {'n_estimators': 300, 'max_depth': 6, 'learning_rate': 0.29056756663062244, 'subsample': 0.9136283056693542, 'colsample_bytree': 0.7295844746868886, 'reg_alpha': 2.50003774861387, 'reg_lambda': 1.6515503904518687}. Best is trial 0 with value: 1.3842112001598388.\n"
          ]
        },
        {
          "name": "stdout",
          "output_type": "stream",
          "text": [
            "Time bin 87 (21:45-21:59) - Best MAE: 1.3842\n",
            "Training model for time bin 88 (22:00-22:14)...\n"
          ]
        },
        {
          "name": "stderr",
          "output_type": "stream",
          "text": [
            "[I 2025-07-08 09:47:42,882] A new study created in memory with name: timebin_88\n",
            "[I 2025-07-08 09:49:53,219] Trial 0 finished with value: 1.5073829780116155 and parameters: {'n_estimators': 228, 'max_depth': 4, 'learning_rate': 0.04441468727402293, 'subsample': 0.9524366841084417, 'colsample_bytree': 0.7095883570107125, 'reg_alpha': 4.680485912424269, 'reg_lambda': 5.99118740954282}. Best is trial 0 with value: 1.5073829780116155.\n",
            "[I 2025-07-08 09:53:08,387] Trial 1 finished with value: 1.5031195587506816 and parameters: {'n_estimators': 203, 'max_depth': 6, 'learning_rate': 0.08460213158270836, 'subsample': 0.6410955199175153, 'colsample_bytree': 0.6060484967460522, 'reg_alpha': 2.8629416999664117, 'reg_lambda': 3.132143321046012}. Best is trial 1 with value: 1.5031195587506816.\n",
            "[I 2025-07-08 09:55:42,680] Trial 2 finished with value: 1.4974735314892416 and parameters: {'n_estimators': 238, 'max_depth': 4, 'learning_rate': 0.24055418766611453, 'subsample': 0.9087175909020487, 'colsample_bytree': 0.8762947907541876, 'reg_alpha': 4.367105226821298, 'reg_lambda': 3.796148615487547}. Best is trial 2 with value: 1.4974735314892416.\n",
            "[I 2025-07-08 09:58:28,060] Trial 3 finished with value: 1.5376329200856909 and parameters: {'n_estimators': 196, 'max_depth': 5, 'learning_rate': 0.27611352771457237, 'subsample': 0.920914454137351, 'colsample_bytree': 0.6495674543407107, 'reg_alpha': 5.911670496524967, 'reg_lambda': 2.3720772537144112}. Best is trial 2 with value: 1.4974735314892416.\n",
            "[I 2025-07-08 09:59:33,209] Trial 4 finished with value: 1.5051761440878928 and parameters: {'n_estimators': 163, 'max_depth': 3, 'learning_rate': 0.08098435749843248, 'subsample': 0.8891658912152578, 'colsample_bytree': 0.617689876217055, 'reg_alpha': 2.787945115140451, 'reg_lambda': 1.7784424738124953}. Best is trial 2 with value: 1.4974735314892416.\n"
          ]
        },
        {
          "name": "stdout",
          "output_type": "stream",
          "text": [
            "Time bin 88 (22:00-22:14) - Best MAE: 1.4975\n"
          ]
        },
        {
          "name": "stderr",
          "output_type": "stream",
          "text": [
            "[I 2025-07-08 10:02:13,541] A new study created in memory with name: timebin_89\n"
          ]
        },
        {
          "name": "stdout",
          "output_type": "stream",
          "text": [
            "Training model for time bin 89 (22:15-22:29)...\n"
          ]
        },
        {
          "name": "stderr",
          "output_type": "stream",
          "text": [
            "[I 2025-07-08 10:03:00,004] Trial 0 finished with value: 1.733955351297681 and parameters: {'n_estimators': 105, 'max_depth': 3, 'learning_rate': 0.09081657098351001, 'subsample': 0.6343927212625212, 'colsample_bytree': 0.7114673627844682, 'reg_alpha': 2.863393242532845, 'reg_lambda': 7.788378506590616}. Best is trial 0 with value: 1.733955351297681.\n",
            "[I 2025-07-08 10:04:30,736] Trial 1 finished with value: 1.6187947943525398 and parameters: {'n_estimators': 202, 'max_depth': 3, 'learning_rate': 0.16358769936413256, 'subsample': 0.8713684886327985, 'colsample_bytree': 0.8989571120505515, 'reg_alpha': 9.721217119693648, 'reg_lambda': 7.222324123450962}. Best is trial 1 with value: 1.6187947943525398.\n",
            "[I 2025-07-08 10:08:44,733] Trial 2 finished with value: 1.546541295857835 and parameters: {'n_estimators': 229, 'max_depth': 6, 'learning_rate': 0.10023039434039135, 'subsample': 0.7866896602541875, 'colsample_bytree': 0.7498306162009712, 'reg_alpha': 5.728336164438056, 'reg_lambda': 1.4523484053760976}. Best is trial 2 with value: 1.546541295857835.\n",
            "[I 2025-07-08 10:10:21,998] Trial 3 finished with value: 1.652138404292654 and parameters: {'n_estimators': 101, 'max_depth': 5, 'learning_rate': 0.20580352823568238, 'subsample': 0.7090292072199607, 'colsample_bytree': 0.9105436249010948, 'reg_alpha': 8.928428374009657, 'reg_lambda': 7.122341497903969}. Best is trial 2 with value: 1.546541295857835.\n",
            "[I 2025-07-08 10:12:06,031] Trial 4 finished with value: 2.206623271531108 and parameters: {'n_estimators': 167, 'max_depth': 4, 'learning_rate': 0.012953079136367222, 'subsample': 0.7743956155822675, 'colsample_bytree': 0.8728175272703338, 'reg_alpha': 5.141493201956666, 'reg_lambda': 3.2990022846085534}. Best is trial 2 with value: 1.546541295857835.\n"
          ]
        },
        {
          "name": "stdout",
          "output_type": "stream",
          "text": [
            "Time bin 89 (22:15-22:29) - Best MAE: 1.5465\n"
          ]
        },
        {
          "name": "stderr",
          "output_type": "stream",
          "text": [
            "[I 2025-07-08 10:16:43,747] A new study created in memory with name: timebin_90\n"
          ]
        },
        {
          "name": "stdout",
          "output_type": "stream",
          "text": [
            "Training model for time bin 90 (22:30-22:44)...\n"
          ]
        },
        {
          "name": "stderr",
          "output_type": "stream",
          "text": [
            "[I 2025-07-08 10:19:10,496] Trial 0 finished with value: 1.5684140419790724 and parameters: {'n_estimators': 180, 'max_depth': 5, 'learning_rate': 0.10075329406619535, 'subsample': 0.6544866735160518, 'colsample_bytree': 0.8100183121701479, 'reg_alpha': 9.69944354301008, 'reg_lambda': 0.9100327517165371}. Best is trial 0 with value: 1.5684140419790724.\n",
            "[I 2025-07-08 10:20:42,106] Trial 1 finished with value: 1.5780389923758378 and parameters: {'n_estimators': 222, 'max_depth': 3, 'learning_rate': 0.05892423427839813, 'subsample': 0.6441584734378968, 'colsample_bytree': 0.7991729103392059, 'reg_alpha': 2.7242480871873798, 'reg_lambda': 2.8560064351426777}. Best is trial 0 with value: 1.5684140419790724.\n",
            "[I 2025-07-08 10:21:30,058] Trial 2 finished with value: 1.4816477713330212 and parameters: {'n_estimators': 110, 'max_depth': 3, 'learning_rate': 0.28775117228942604, 'subsample': 0.9968012951424915, 'colsample_bytree': 0.7650538141489847, 'reg_alpha': 0.8229110943150852, 'reg_lambda': 6.70617784283152}. Best is trial 2 with value: 1.4816477713330212.\n",
            "[I 2025-07-08 10:22:24,799] Trial 3 finished with value: 1.7371751873490988 and parameters: {'n_estimators': 124, 'max_depth': 3, 'learning_rate': 0.06427464640685965, 'subsample': 0.8712166410191959, 'colsample_bytree': 0.754873911150842, 'reg_alpha': 9.309505965240515, 'reg_lambda': 9.567384309252825}. Best is trial 2 with value: 1.4816477713330212.\n",
            "[I 2025-07-08 10:26:25,538] Trial 4 finished with value: 1.4833511690785761 and parameters: {'n_estimators': 243, 'max_depth': 5, 'learning_rate': 0.23580378427891893, 'subsample': 0.9935079125519839, 'colsample_bytree': 0.8997948408631498, 'reg_alpha': 3.9604010625248103, 'reg_lambda': 0.4414163391632946}. Best is trial 2 with value: 1.4816477713330212.\n"
          ]
        },
        {
          "name": "stdout",
          "output_type": "stream",
          "text": [
            "Time bin 90 (22:30-22:44) - Best MAE: 1.4816\n",
            "Training model for time bin 91 (22:45-22:59)...\n"
          ]
        },
        {
          "name": "stderr",
          "output_type": "stream",
          "text": [
            "[I 2025-07-08 10:27:14,370] A new study created in memory with name: timebin_91\n",
            "[I 2025-07-08 10:29:19,501] Trial 0 finished with value: 1.492466399304793 and parameters: {'n_estimators': 136, 'max_depth': 5, 'learning_rate': 0.2308836921767563, 'subsample': 0.9268449826580412, 'colsample_bytree': 0.9388307514845592, 'reg_alpha': 0.7445409403664432, 'reg_lambda': 2.5369061684674885}. Best is trial 0 with value: 1.492466399304793.\n",
            "[I 2025-07-08 10:32:37,851] Trial 1 finished with value: 1.5690826913649691 and parameters: {'n_estimators': 191, 'max_depth': 6, 'learning_rate': 0.06631158058169678, 'subsample': 0.6694589721567566, 'colsample_bytree': 0.7577566228943553, 'reg_alpha': 5.38522659898527, 'reg_lambda': 5.051976201705014}. Best is trial 0 with value: 1.492466399304793.\n",
            "[I 2025-07-08 10:33:32,766] Trial 2 finished with value: 1.6682131186824183 and parameters: {'n_estimators': 121, 'max_depth': 3, 'learning_rate': 0.11685364487132642, 'subsample': 0.7468308647302445, 'colsample_bytree': 0.8301814932900615, 'reg_alpha': 5.4516299939718245, 'reg_lambda': 9.96389218925065}. Best is trial 0 with value: 1.492466399304793.\n",
            "[I 2025-07-08 10:36:11,213] Trial 3 finished with value: 1.4770663449164831 and parameters: {'n_estimators': 255, 'max_depth': 4, 'learning_rate': 0.25711054267158334, 'subsample': 0.9464219866882189, 'colsample_bytree': 0.7877996462578584, 'reg_alpha': 5.78079689966483, 'reg_lambda': 3.5100214360278583}. Best is trial 3 with value: 1.4770663449164831.\n",
            "[I 2025-07-08 10:37:18,364] Trial 4 finished with value: 1.621292418789763 and parameters: {'n_estimators': 109, 'max_depth': 4, 'learning_rate': 0.183380281011058, 'subsample': 0.8194922620386464, 'colsample_bytree': 0.6617738784189992, 'reg_alpha': 7.695687934894332, 'reg_lambda': 4.917543101620179}. Best is trial 3 with value: 1.4770663449164831.\n"
          ]
        },
        {
          "name": "stdout",
          "output_type": "stream",
          "text": [
            "Time bin 91 (22:45-22:59) - Best MAE: 1.4771\n"
          ]
        },
        {
          "name": "stderr",
          "output_type": "stream",
          "text": [
            "[I 2025-07-08 10:40:02,048] A new study created in memory with name: timebin_92\n"
          ]
        },
        {
          "name": "stdout",
          "output_type": "stream",
          "text": [
            "Training model for time bin 92 (23:00-23:14)...\n"
          ]
        },
        {
          "name": "stderr",
          "output_type": "stream",
          "text": [
            "[I 2025-07-08 10:42:04,509] Trial 0 finished with value: 1.5201272781653157 and parameters: {'n_estimators': 269, 'max_depth': 3, 'learning_rate': 0.09970324561193618, 'subsample': 0.7631316449956277, 'colsample_bytree': 0.8984968597227885, 'reg_alpha': 2.3174492196764223, 'reg_lambda': 1.3352644555949937}. Best is trial 0 with value: 1.5201272781653157.\n",
            "[I 2025-07-08 10:43:12,034] Trial 1 finished with value: 1.6221923574832553 and parameters: {'n_estimators': 166, 'max_depth': 3, 'learning_rate': 0.08229301349380048, 'subsample': 0.8656332187007343, 'colsample_bytree': 0.6101576244264291, 'reg_alpha': 2.574013372962531, 'reg_lambda': 9.320719049471837}. Best is trial 0 with value: 1.5201272781653157.\n",
            "[I 2025-07-08 10:44:42,894] Trial 2 finished with value: 1.5680398711420154 and parameters: {'n_estimators': 203, 'max_depth': 3, 'learning_rate': 0.1660595497742319, 'subsample': 0.8341105789056587, 'colsample_bytree': 0.9135177958014742, 'reg_alpha': 2.8921150191448937, 'reg_lambda': 6.38766823579557}. Best is trial 0 with value: 1.5201272781653157.\n",
            "[I 2025-07-08 10:47:53,534] Trial 3 finished with value: 1.5866690251129671 and parameters: {'n_estimators': 153, 'max_depth': 6, 'learning_rate': 0.07489030310734353, 'subsample': 0.9156140794171812, 'colsample_bytree': 0.922044092151333, 'reg_alpha': 1.3954124195328306, 'reg_lambda': 9.179674104384553}. Best is trial 0 with value: 1.5201272781653157.\n",
            "[I 2025-07-08 10:49:44,370] Trial 4 finished with value: 1.616185761848521 and parameters: {'n_estimators': 101, 'max_depth': 6, 'learning_rate': 0.15096844241358842, 'subsample': 0.8376714509683947, 'colsample_bytree': 0.6723850916535864, 'reg_alpha': 1.5047395232778056, 'reg_lambda': 3.9411363674790816}. Best is trial 0 with value: 1.5201272781653157.\n"
          ]
        },
        {
          "name": "stdout",
          "output_type": "stream",
          "text": [
            "Time bin 92 (23:00-23:14) - Best MAE: 1.5201\n",
            "Training model for time bin 93 (23:15-23:29)...\n"
          ]
        },
        {
          "name": "stderr",
          "output_type": "stream",
          "text": [
            "[I 2025-07-08 10:51:42,604] A new study created in memory with name: timebin_93\n",
            "[I 2025-07-08 10:53:10,668] Trial 0 finished with value: 1.6383742942232968 and parameters: {'n_estimators': 130, 'max_depth': 4, 'learning_rate': 0.22102892490553602, 'subsample': 0.6698876459805879, 'colsample_bytree': 0.851658459343041, 'reg_alpha': 8.174076750827291, 'reg_lambda': 2.3629435452612326}. Best is trial 0 with value: 1.6383742942232968.\n",
            "[I 2025-07-08 10:56:15,378] Trial 1 finished with value: 1.5454178897880828 and parameters: {'n_estimators': 229, 'max_depth': 5, 'learning_rate': 0.08823935641549957, 'subsample': 0.783100234760198, 'colsample_bytree': 0.6500305943128226, 'reg_alpha': 4.583565797661804, 'reg_lambda': 1.8755275893586065}. Best is trial 1 with value: 1.5454178897880828.\n",
            "[I 2025-07-08 10:57:48,105] Trial 2 finished with value: 1.6632836755774352 and parameters: {'n_estimators': 230, 'max_depth': 3, 'learning_rate': 0.0878917976345752, 'subsample': 0.6052478007358285, 'colsample_bytree': 0.6716388147916185, 'reg_alpha': 4.4705950975110555, 'reg_lambda': 3.604810777771943}. Best is trial 1 with value: 1.5454178897880828.\n",
            "[I 2025-07-08 11:00:55,869] Trial 3 finished with value: 1.5827317029767116 and parameters: {'n_estimators': 191, 'max_depth': 5, 'learning_rate': 0.10748688012717758, 'subsample': 0.9064570892186964, 'colsample_bytree': 0.8836831130520142, 'reg_alpha': 4.956485510411851, 'reg_lambda': 9.062793317624518}. Best is trial 1 with value: 1.5454178897880828.\n",
            "[I 2025-07-08 11:03:22,483] Trial 4 finished with value: 1.591828232070626 and parameters: {'n_estimators': 192, 'max_depth': 5, 'learning_rate': 0.05841380568232026, 'subsample': 0.9347776530956801, 'colsample_bytree': 0.618286723905055, 'reg_alpha': 1.9030173236343162, 'reg_lambda': 5.643886996073215}. Best is trial 1 with value: 1.5454178897880828.\n"
          ]
        },
        {
          "name": "stdout",
          "output_type": "stream",
          "text": [
            "Time bin 93 (23:15-23:29) - Best MAE: 1.5454\n"
          ]
        },
        {
          "name": "stderr",
          "output_type": "stream",
          "text": [
            "[I 2025-07-08 11:06:37,483] A new study created in memory with name: timebin_94\n"
          ]
        },
        {
          "name": "stdout",
          "output_type": "stream",
          "text": [
            "Training model for time bin 94 (23:30-23:44)...\n"
          ]
        },
        {
          "name": "stderr",
          "output_type": "stream",
          "text": [
            "[I 2025-07-08 11:09:02,041] Trial 0 finished with value: 1.5864572077915353 and parameters: {'n_estimators': 150, 'max_depth': 6, 'learning_rate': 0.07460684704547488, 'subsample': 0.8735164003519416, 'colsample_bytree': 0.6124083732392848, 'reg_alpha': 0.8960016481007972, 'reg_lambda': 4.354264320591234}. Best is trial 0 with value: 1.5864572077915353.\n",
            "[I 2025-07-08 11:10:31,768] Trial 1 finished with value: 1.5428084471952748 and parameters: {'n_estimators': 134, 'max_depth': 4, 'learning_rate': 0.24444954521026174, 'subsample': 0.6997472776750481, 'colsample_bytree': 0.8286855843051368, 'reg_alpha': 3.3391396307914105, 'reg_lambda': 4.925742514214415}. Best is trial 1 with value: 1.5428084471952748.\n",
            "[I 2025-07-08 11:13:51,450] Trial 2 finished with value: 1.568888386365893 and parameters: {'n_estimators': 290, 'max_depth': 4, 'learning_rate': 0.2791581032870337, 'subsample': 0.6346415927704875, 'colsample_bytree': 0.9883325628911762, 'reg_alpha': 9.729094494993332, 'reg_lambda': 1.8303703189876686}. Best is trial 1 with value: 1.5428084471952748.\n",
            "[I 2025-07-08 11:19:23,270] Trial 3 finished with value: 1.5066929105275986 and parameters: {'n_estimators': 273, 'max_depth': 6, 'learning_rate': 0.1225856000778552, 'subsample': 0.7872615719678635, 'colsample_bytree': 0.8181831497324876, 'reg_alpha': 2.220938437609972, 'reg_lambda': 3.9039150943261323}. Best is trial 3 with value: 1.5066929105275986.\n",
            "[I 2025-07-08 11:21:18,137] Trial 4 finished with value: 1.5875203153416486 and parameters: {'n_estimators': 286, 'max_depth': 3, 'learning_rate': 0.10907016986256066, 'subsample': 0.8684318294407954, 'colsample_bytree': 0.6707253315643614, 'reg_alpha': 9.301849522142312, 'reg_lambda': 3.7758762562841786}. Best is trial 3 with value: 1.5066929105275986.\n"
          ]
        },
        {
          "name": "stdout",
          "output_type": "stream",
          "text": [
            "Time bin 94 (23:30-23:44) - Best MAE: 1.5067\n",
            "Training model for time bin 95 (23:45-23:59)...\n"
          ]
        },
        {
          "name": "stderr",
          "output_type": "stream",
          "text": [
            "[I 2025-07-08 11:27:08,610] A new study created in memory with name: timebin_95\n",
            "[I 2025-07-08 11:29:30,881] Trial 0 finished with value: 1.8147058891256342 and parameters: {'n_estimators': 173, 'max_depth': 5, 'learning_rate': 0.03668724156392989, 'subsample': 0.683261631447151, 'colsample_bytree': 0.7620059477400543, 'reg_alpha': 5.348947356364374, 'reg_lambda': 9.111069357913452}. Best is trial 0 with value: 1.8147058891256342.\n",
            "[I 2025-07-08 11:33:03,545] Trial 1 finished with value: 1.5781411463019164 and parameters: {'n_estimators': 226, 'max_depth': 5, 'learning_rate': 0.07937528000300047, 'subsample': 0.6762310851376891, 'colsample_bytree': 0.9129146639310275, 'reg_alpha': 3.062363847147984, 'reg_lambda': 8.499945985730447}. Best is trial 1 with value: 1.5781411463019164.\n",
            "[I 2025-07-08 11:35:34,699] Trial 2 finished with value: 1.5881506961336889 and parameters: {'n_estimators': 164, 'max_depth': 5, 'learning_rate': 0.090154759009947, 'subsample': 0.7850016041071592, 'colsample_bytree': 0.905328780048705, 'reg_alpha': 3.422856692593661, 'reg_lambda': 6.226984607989253}. Best is trial 1 with value: 1.5781411463019164.\n",
            "[I 2025-07-08 11:37:59,236] Trial 3 finished with value: 1.512914223627285 and parameters: {'n_estimators': 262, 'max_depth': 4, 'learning_rate': 0.2562397647079037, 'subsample': 0.9853789176133766, 'colsample_bytree': 0.6846921518301464, 'reg_alpha': 0.07496970157357144, 'reg_lambda': 3.486428706229477}. Best is trial 3 with value: 1.512914223627285.\n",
            "[I 2025-07-08 11:40:02,198] Trial 4 finished with value: 1.5888944159509026 and parameters: {'n_estimators': 274, 'max_depth': 3, 'learning_rate': 0.19726197363592868, 'subsample': 0.8090775447982936, 'colsample_bytree': 0.9717489208907238, 'reg_alpha': 9.966169421706667, 'reg_lambda': 2.9325005620590505}. Best is trial 3 with value: 1.512914223627285.\n"
          ]
        },
        {
          "name": "stdout",
          "output_type": "stream",
          "text": [
            "Time bin 95 (23:45-23:59) - Best MAE: 1.5129\n",
            "Training completed. 96 fifteen-minute models trained out of 96 available time periods.\n",
            "Preparing test data...\n",
            "Found 116 NaN values in test data (0.00%)\n",
            "Applied fitted imputer to test data\n",
            "NaN values after imputation: 0\n",
            "Test data shape: (33877, 809)\n",
            "Making predictions...\n",
            "Predictions shape: (33877, 123)\n",
            "True values shape: (33877, 123)\n",
            "\n",
            "Evaluation Results:\n",
            "==================================================\n",
            "first_week: MAE = 1.3982\n",
            "first_2_weeks: MAE = 1.3982\n",
            "first_month: MAE = 1.5705\n",
            "first_3_months: MAE = 1.3755\n",
            "entire_period: MAE = 1.3328\n"
          ]
        }
      ],
      "source": [
        "import numpy as np\n",
        "import pandas as pd\n",
        "import xgboost as xgb\n",
        "import optuna\n",
        "from sklearn.metrics import mean_absolute_error\n",
        "from sklearn.preprocessing import StandardScaler\n",
        "from sklearn.decomposition import PCA\n",
        "from sklearn.impute import SimpleImputer\n",
        "from sklearn.multioutput import MultiOutputRegressor\n",
        "from datetime import datetime, timedelta\n",
        "import warnings\n",
        "import gc\n",
        "warnings.filterwarnings('ignore')\n",
        "\n",
        "# GPU memory management\n",
        "def clear_gpu_memory():\n",
        "    \"\"\"Clear GPU memory cache\"\"\"\n",
        "    try:\n",
        "        import torch\n",
        "        if torch.cuda.is_available():\n",
        "            torch.cuda.empty_cache()\n",
        "            torch.cuda.synchronize()\n",
        "    except ImportError:\n",
        "        pass\n",
        "    \n",
        "    # Force garbage collection\n",
        "    gc.collect()\n",
        "\n",
        "def kelvin_to_fahrenheit(temp_k):\n",
        "    \"\"\"Convert temperature from Kelvin to Fahrenheit\"\"\"\n",
        "    return (temp_k - 273.15) * 9/5 + 32\n",
        "\n",
        "def preprocess_temperatures(data_matrix, metadata_dict, data_name=\"data\"):\n",
        "    \"\"\"\n",
        "    Preprocess temperature data by converting Kelvin to Fahrenheit\n",
        "    \n",
        "    Args:\n",
        "        data_matrix: numpy array of observation data\n",
        "        metadata_dict: dictionary containing observation_ids mapping\n",
        "        data_name: string name for logging purposes\n",
        "\n",
        "    Returns:\n",
        "        data_matrix: preprocessed data matrix (modified in-place)\n",
        "        temp_conversion_info: dictionary with conversion statistics\n",
        "    \"\"\"\n",
        "    \n",
        "    print(f\"\\n=== Temperature Preprocessing for {data_name} ===\")\n",
        "    \n",
        "    # Find temperature-related observation IDs\n",
        "    temp_sensor_ids = []\n",
        "    temp_setpoint_ids = []\n",
        "    \n",
        "    for obs_name, obs_idx in metadata_dict.items():\n",
        "        if any(temp_keyword in obs_name.lower() for temp_keyword in [\n",
        "            'temperature_sensor', 'temperature_setpoint', \n",
        "            'air_temperature', 'mixed_air_temperature',\n",
        "            'supply_air_temperature', 'return_air_temperature',\n",
        "            'discharge_air_temperature', 'outside_air_temperature'\n",
        "        ]):\n",
        "            if 'sensor' in obs_name:\n",
        "                temp_sensor_ids.append((obs_name, obs_idx))\n",
        "            elif 'setpoint' in obs_name:\n",
        "                temp_setpoint_ids.append((obs_name, obs_idx))\n",
        "            else:\n",
        "                # Default to sensor if unclear\n",
        "                temp_sensor_ids.append((obs_name, obs_idx))\n",
        "    \n",
        "    print(f\"Found {len(temp_sensor_ids)} temperature sensors\")\n",
        "    print(f\"Found {len(temp_setpoint_ids)} temperature setpoints\")\n",
        "    \n",
        "    conversion_info = {\n",
        "        'sensors_converted': 0,\n",
        "        'setpoints_converted': 0,\n",
        "        'total_values_converted': 0,\n",
        "        'sensor_details': [],\n",
        "        'setpoint_details': []\n",
        "    }\n",
        "    \n",
        "    # Process temperature sensors\n",
        "    for obs_name, obs_idx in temp_sensor_ids:\n",
        "        temp_values = data_matrix[:, obs_idx]\n",
        "        \n",
        "        # Find values that might be in Kelvin (> 273)\n",
        "        kelvin_mask = temp_values > 273\n",
        "        kelvin_count = np.sum(kelvin_mask)\n",
        "        \n",
        "        if kelvin_count > 0:\n",
        "            print(f\"  Converting {kelvin_count}/{len(temp_values)} values in {obs_name}\")\n",
        "            print(f\"    Before: min={temp_values[kelvin_mask].min():.2f}, max={temp_values[kelvin_mask].max():.2f}\")\n",
        "            \n",
        "            # Convert Kelvin to Fahrenheit\n",
        "            data_matrix[kelvin_mask, obs_idx] = kelvin_to_fahrenheit(temp_values[kelvin_mask])\n",
        "            \n",
        "            print(f\"    After:  min={data_matrix[kelvin_mask, obs_idx].min():.2f}, max={data_matrix[kelvin_mask, obs_idx].max():.2f}\")\n",
        "            \n",
        "            conversion_info['sensors_converted'] += 1\n",
        "            conversion_info['total_values_converted'] += kelvin_count\n",
        "            conversion_info['sensor_details'].append({\n",
        "                'name': obs_name,\n",
        "                'index': obs_idx,\n",
        "                'values_converted': kelvin_count,\n",
        "                'total_values': len(temp_values)\n",
        "            })\n",
        "    \n",
        "    # Process temperature setpoints\n",
        "    for obs_name, obs_idx in temp_setpoint_ids:\n",
        "        temp_values = data_matrix[:, obs_idx]\n",
        "        \n",
        "        # Find values that might be in Kelvin (> 273)\n",
        "        kelvin_mask = temp_values > 273\n",
        "        kelvin_count = np.sum(kelvin_mask)\n",
        "        \n",
        "        if kelvin_count > 0:\n",
        "            print(f\"  Converting {kelvin_count}/{len(temp_values)} values in {obs_name}\")\n",
        "            print(f\"    Before: min={temp_values[kelvin_mask].min():.2f}, max={temp_values[kelvin_mask].max():.2f}\")\n",
        "            \n",
        "            # Convert Kelvin to Fahrenheit\n",
        "            data_matrix[kelvin_mask, obs_idx] = kelvin_to_fahrenheit(temp_values[kelvin_mask])\n",
        "            \n",
        "            print(f\"    After:  min={data_matrix[kelvin_mask, obs_idx].min():.2f}, max={data_matrix[kelvin_mask, obs_idx].max():.2f}\")\n",
        "            \n",
        "            conversion_info['setpoints_converted'] += 1\n",
        "            conversion_info['total_values_converted'] += kelvin_count\n",
        "            conversion_info['setpoint_details'].append({\n",
        "                'name': obs_name,\n",
        "                'index': obs_idx,\n",
        "                'values_converted': kelvin_count,\n",
        "                'total_values': len(temp_values)\n",
        "            })\n",
        "    \n",
        "    print(f\"\\nConversion Summary for {data_name}:\")\n",
        "    print(f\"  Temperature sensors converted: {conversion_info['sensors_converted']}\")\n",
        "    print(f\"  Temperature setpoints converted: {conversion_info['setpoints_converted']}\")\n",
        "    print(f\"  Total values converted: {conversion_info['total_values_converted']}\")\n",
        "    \n",
        "    return data_matrix, conversion_info\n",
        "\n",
        "def preprocess_temp_data_array(temp_data_array, temp_data_ids, data_name=\"temperature data\"):\n",
        "    \"\"\"\n",
        "    Preprocess temperature data array (for validation temperature data)\n",
        "    \n",
        "    Args:\n",
        "        temp_data_array: numpy array of temperature data\n",
        "        temp_data_ids: dictionary mapping temperature sensor names to column indices\n",
        "        data_name: string name for logging purposes\n",
        "\n",
        "    Returns:\n",
        "        temp_data_array: preprocessed temperature data (modified in-place)\n",
        "        conversion_info: dictionary with conversion statistics\n",
        "    \"\"\"\n",
        "    \n",
        "    print(f\"\\n=== Temperature Preprocessing for {data_name} ===\")\n",
        "    \n",
        "    conversion_info = {\n",
        "        'sensors_converted': 0,\n",
        "        'total_values_converted': 0,\n",
        "        'sensor_details': []\n",
        "    }\n",
        "    \n",
        "    for sensor_name, col_idx in temp_data_ids.items():\n",
        "        temp_values = temp_data_array[:, col_idx]\n",
        "        \n",
        "        # Find values that might be in Kelvin (> 273)\n",
        "        kelvin_mask = temp_values > 273\n",
        "        kelvin_count = np.sum(kelvin_mask)\n",
        "        \n",
        "        if kelvin_count > 0:\n",
        "            print(f\"  Converting {kelvin_count}/{len(temp_values)} values in {sensor_name}\")\n",
        "            print(f\"    Before: min={temp_values[kelvin_mask].min():.2f}, max={temp_values[kelvin_mask].max():.2f}\")\n",
        "            \n",
        "            # Convert Kelvin to Fahrenheit\n",
        "            temp_data_array[kelvin_mask, col_idx] = kelvin_to_fahrenheit(temp_values[kelvin_mask])\n",
        "            \n",
        "            print(f\"    After:  min={temp_data_array[kelvin_mask, col_idx].min():.2f}, max={temp_data_array[kelvin_mask, col_idx].max():.2f}\")\n",
        "            \n",
        "            conversion_info['sensors_converted'] += 1\n",
        "            conversion_info['total_values_converted'] += kelvin_count\n",
        "            conversion_info['sensor_details'].append({\n",
        "                'name': sensor_name,\n",
        "                'index': col_idx,\n",
        "                'values_converted': kelvin_count,\n",
        "                'total_values': len(temp_values)\n",
        "            })\n",
        "    \n",
        "    print(f\"\\nConversion Summary for {data_name}:\")\n",
        "    print(f\"  Temperature sensors converted: {conversion_info['sensors_converted']}\")\n",
        "    print(f\"  Total values converted: {conversion_info['total_values_converted']}\")\n",
        "    \n",
        "    return temp_data_array, conversion_info\n",
        "\n",
        "def remove_zero_temperature_readings(obs_matrix, temp_data_matrix, exog_data_matrix, \n",
        "                                   timestamps_train, timestamps_val, metadata_obs_ids, \n",
        "                                   temp_data_ids, exog_data_ids):\n",
        "    \"\"\"\n",
        "    Remove rows where temperature sensors have zero values from both training and validation sets\n",
        "    \n",
        "    Args:\n",
        "        obs_matrix: training observation matrix\n",
        "        temp_data_matrix: validation temperature data matrix  \n",
        "        exog_data_matrix: validation exogenous data matrix\n",
        "        timestamps_train: training timestamps\n",
        "        timestamps_val: validation timestamps\n",
        "        metadata_obs_ids: training observation IDs mapping\n",
        "        temp_data_ids: validation temperature IDs mapping\n",
        "        exog_data_ids: validation exogenous IDs mapping\n",
        "\n",
        "    Returns:\n",
        "        Cleaned datasets with zero temperature readings removed\n",
        "    \"\"\"\n",
        "    \n",
        "    print(\"\\n\" + \"=\"*60)\n",
        "    print(\"REMOVING ZERO TEMPERATURE READINGS\")\n",
        "    print(\"=\"*60)\n",
        "    \n",
        "    # 1. Clean training data\n",
        "    print(\"\\nCleaning training data...\")\n",
        "    \n",
        "    # Find temperature sensor columns in training data\n",
        "    train_temp_indices = [v for k, v in metadata_obs_ids.items() \n",
        "                         if \"zone_air_temperature_sensor\" in k]\n",
        "    \n",
        "    # Get temperature data from training matrix\n",
        "    train_temp_data = obs_matrix[:, train_temp_indices]\n",
        "    \n",
        "    # Find rows where ANY temperature sensor has zero values\n",
        "    zero_mask_train = np.any(train_temp_data == 0, axis=1)\n",
        "    valid_mask_train = ~zero_mask_train\n",
        "    \n",
        "    print(f\"  Original training data: {len(obs_matrix)} rows\")\n",
        "    print(f\"  Rows with zero temperatures: {np.sum(zero_mask_train)}\")\n",
        "    print(f\"  Rows to keep: {np.sum(valid_mask_train)}\")\n",
        "    print(f\"  Percentage kept: {np.sum(valid_mask_train)/len(obs_matrix)*100:.1f}%\")\n",
        "    \n",
        "    # Apply mask to training data\n",
        "    obs_matrix_clean = obs_matrix[valid_mask_train]\n",
        "    timestamps_train_clean = [timestamps_train[i] for i in range(len(timestamps_train)) if valid_mask_train[i]]\n",
        "    \n",
        "    # 2. Clean validation data\n",
        "    print(\"\\nCleaning validation data...\")\n",
        "    \n",
        "    # Find rows where ANY temperature sensor has zero values in validation\n",
        "    zero_mask_val = np.any(temp_data_matrix == 0, axis=1)\n",
        "    valid_mask_val = ~zero_mask_val\n",
        "    \n",
        "    print(f\"  Original validation data: {len(temp_data_matrix)} rows\")\n",
        "    print(f\"  Rows with zero temperatures: {np.sum(zero_mask_val)}\")\n",
        "    print(f\"  Rows to keep: {np.sum(valid_mask_val)}\")\n",
        "    print(f\"  Percentage kept: {np.sum(valid_mask_val)/len(temp_data_matrix)*100:.1f}%\")\n",
        "    \n",
        "    # Apply mask to validation data\n",
        "    temp_data_clean = temp_data_matrix[valid_mask_val]\n",
        "    exog_data_clean = exog_data_matrix[valid_mask_val]\n",
        "    timestamps_val_clean = [timestamps_val[i] for i in range(len(timestamps_val)) if valid_mask_val[i]]\n",
        "    \n",
        "    print(f\"\\nData cleaning summary:\")\n",
        "    print(f\"  Training: {len(obs_matrix)} -> {len(obs_matrix_clean)} rows\")\n",
        "    print(f\"  Validation: {len(temp_data_matrix)} -> {len(temp_data_clean)} rows\")\n",
        "    \n",
        "    return (obs_matrix_clean, temp_data_clean, exog_data_clean, \n",
        "            timestamps_train_clean, timestamps_val_clean)\n",
        "\n",
        "# ===== MAIN PREPROCESSING STEP =====\n",
        "print(\"Starting temperature preprocessing...\")\n",
        "\n",
        "# First, extract arrays from NpzFile objects to make them modifiable\n",
        "print(\"Extracting arrays from NpzFile objects...\")\n",
        "\n",
        "# Extract training observation matrix (make it modifiable)\n",
        "train_obs_matrix = np.array(data['observation_value_matrix'])\n",
        "print(f\"Training observation matrix shape: {train_obs_matrix.shape}\")\n",
        "\n",
        "# Extract validation exogenous data (make it modifiable) \n",
        "val_exog_matrix = np.array(exogenous_observation_data)\n",
        "print(f\"Validation exogenous matrix shape: {val_exog_matrix.shape}\")\n",
        "\n",
        "# Extract validation temperature data (make it modifiable)\n",
        "val_temp_matrix = np.array(temp_data)\n",
        "print(f\"Validation temperature matrix shape: {val_temp_matrix.shape}\")\n",
        "\n",
        "# 1. Preprocess training data (observation_value_matrix)\n",
        "print(\"\\n\" + \"=\"*60)\n",
        "print(\"PREPROCESSING TRAINING DATA\")\n",
        "print(\"=\"*60)\n",
        "\n",
        "train_obs_matrix, train_conversion_info = preprocess_temperatures(\n",
        "    train_obs_matrix, \n",
        "    metadata['observation_ids'], \n",
        "    \"training data\"\n",
        ")\n",
        "\n",
        "# 2. Preprocess validation exogenous data\n",
        "print(\"\\n\" + \"=\"*60)\n",
        "print(\"PREPROCESSING VALIDATION EXOGENOUS DATA\")\n",
        "print(\"=\"*60)\n",
        "\n",
        "val_exog_matrix, val_exog_conversion_info = preprocess_temperatures(\n",
        "    val_exog_matrix, \n",
        "    exogenous_observation_data_ids, \n",
        "    \"validation exogenous data\"\n",
        ")\n",
        "\n",
        "# 3. Preprocess validation temperature data (targets)\n",
        "print(\"\\n\" + \"=\"*60)\n",
        "print(\"PREPROCESSING VALIDATION TEMPERATURE DATA (TARGETS)\")\n",
        "print(\"=\"*60)\n",
        "\n",
        "val_temp_matrix, val_temp_conversion_info = preprocess_temp_data_array(\n",
        "    val_temp_matrix, \n",
        "    temp_data_ids, \n",
        "    \"validation temperature targets\"\n",
        ")\n",
        "\n",
        "# 4. Remove zero temperature readings from both training and validation\n",
        "print(\"\\n\" + \"=\"*60)\n",
        "print(\"REMOVING ZERO TEMPERATURE READINGS\")\n",
        "print(\"=\"*60)\n",
        "\n",
        "# Remove rows with zero temperature readings\n",
        "(train_obs_matrix_clean, val_temp_matrix_clean, val_exog_matrix_clean, \n",
        " timestamps_train_clean, timestamps_val_clean) = remove_zero_temperature_readings(\n",
        "    train_obs_matrix, val_temp_matrix, val_exog_matrix,\n",
        "    metadata[\"observation_timestamps\"], metadata_val[\"observation_timestamps\"],\n",
        "    metadata['observation_ids'], temp_data_ids, exogenous_observation_data_ids\n",
        ")\n",
        "\n",
        "print(\"\\n\" + \"=\"*60)\n",
        "print(\"TEMPERATURE PREPROCESSING COMPLETED\")\n",
        "print(\"=\"*60)\n",
        "\n",
        "# Print overall summary\n",
        "total_converted = (train_conversion_info['total_values_converted'] + \n",
        "                  val_exog_conversion_info['total_values_converted'] + \n",
        "                  val_temp_conversion_info['total_values_converted'])\n",
        "\n",
        "print(f\"\\nOVERALL CONVERSION SUMMARY:\")\n",
        "print(f\"  Training data: {train_conversion_info['total_values_converted']} values converted\")\n",
        "print(f\"  Validation exogenous: {val_exog_conversion_info['total_values_converted']} values converted\")\n",
        "print(f\"  Validation targets: {val_temp_conversion_info['total_values_converted']} values converted\")\n",
        "print(f\"  TOTAL: {total_converted} temperature values converted from Kelvin to Fahrenheit\")\n",
        "\n",
        "print(f\"\\nOVERALL ZERO REMOVAL SUMMARY:\")\n",
        "print(f\"  Training data: {len(train_obs_matrix)} -> {len(train_obs_matrix_clean)} rows\")\n",
        "print(f\"  Validation data: {len(val_temp_matrix)} -> {len(val_temp_matrix_clean)} rows\")\n",
        "\n",
        "# Update the global variables to use the cleaned, preprocessed data\n",
        "print(\"\\nUpdating global variables with cleaned and preprocessed data...\")\n",
        "exogenous_observation_data = val_exog_matrix_clean\n",
        "temp_data = val_temp_matrix_clean\n",
        "\n",
        "print(\"Preprocessing complete! Now starting model training with Grouped PCA...\")\n",
        "\n",
        "# ===== MODEL WITH GROUPED PCA =====\n",
        "\n",
        "class SmartBuildingsPredictor:\n",
        "    def __init__(self, use_gpu=True, components_per_group=5):\n",
        "        self.use_gpu = use_gpu\n",
        "        self.components_per_group = components_per_group\n",
        "        self.models = {}  # Will store 24 hourly models\n",
        "        self.scalers = {}  # Will store scalers for each hour\n",
        "        self.group_pcas = {}  # Will store PCA transformers for each group\n",
        "        self.imputer = None  # Will store imputer for NaN handling\n",
        "        self.feature_groups = {}  # Will store feature group definitions\n",
        "        self.exog_feature_names = None  # Will store original exogenous feature names\n",
        "        self.feature_columns = None\n",
        "        self.temp_columns = None\n",
        "        \n",
        "    def interpolate_zeros(self, data):\n",
        "        \"\"\"Interpolate zero values in training data\"\"\"\n",
        "        data_df = pd.DataFrame(data)\n",
        "        # Replace zeros with NaN for interpolation\n",
        "        data_df = data_df.replace(0, np.nan)\n",
        "        # Forward fill then backward fill\n",
        "        data_df = data_df.fillna(method='ffill').fillna(method='bfill')\n",
        "        # If still NaN, fill with column mean\n",
        "        data_df = data_df.fillna(data_df.mean())\n",
        "        return data_df.values\n",
        "    \n",
        "    def handle_nan_values(self, exog_data, is_training=True):\n",
        "        \"\"\"Handle NaN values in exogenous data\"\"\"\n",
        "        nan_count = np.isnan(exog_data).sum()\n",
        "        \n",
        "        if is_training:\n",
        "            # Always fit imputer on training data (even if no NaN values)\n",
        "            # This ensures imputer is available for test data that might have NaN values\n",
        "            self.imputer = SimpleImputer(strategy='mean')\n",
        "            exog_data_clean = self.imputer.fit_transform(exog_data)\n",
        "            print(f\"Fitted imputer on training data (found {nan_count} NaN values, {nan_count/exog_data.size*100:.2f}%)\")\n",
        "        else:\n",
        "            # Use fitted imputer on test data\n",
        "            if self.imputer is None:\n",
        "                raise ValueError(\"Imputer not fitted yet. Train model first.\")\n",
        "            print(f\"Found {nan_count} NaN values in test data ({nan_count/exog_data.size*100:.2f}%)\")\n",
        "            exog_data_clean = self.imputer.transform(exog_data)\n",
        "            print(\"Applied fitted imputer to test data\")\n",
        "        \n",
        "        nan_count_after = np.isnan(exog_data_clean).sum()\n",
        "        print(f\"NaN values after imputation: {nan_count_after}\")\n",
        "        return exog_data_clean\n",
        "    \n",
        "    def create_temporal_features(self, timestamps):\n",
        "        \"\"\"Create temporal dummy features\"\"\"\n",
        "        features = []\n",
        "        \n",
        "        for ts in timestamps:\n",
        "            # Handle both pandas Timestamp and Unix timestamp\n",
        "            if hasattr(ts, 'hour'):  # pandas Timestamp\n",
        "                dt = ts\n",
        "            else:  # Unix timestamp\n",
        "                dt = datetime.fromtimestamp(ts)\n",
        "            \n",
        "            # Hour of day (0-23)\n",
        "            hour = dt.hour\n",
        "            \n",
        "            # Time of day categories\n",
        "            if 6 <= hour < 12:\n",
        "                time_of_day = [1, 0, 0, 0]  # morning\n",
        "            elif 12 <= hour < 18:\n",
        "                time_of_day = [0, 1, 0, 0]  # day\n",
        "            elif 18 <= hour < 22:\n",
        "                time_of_day = [0, 0, 1, 0]  # evening\n",
        "            else:\n",
        "                time_of_day = [0, 0, 0, 1]  # night\n",
        "            \n",
        "            # Season\n",
        "            month = dt.month\n",
        "            if month in [12, 1, 2]:\n",
        "                season = [1, 0, 0, 0]  # winter\n",
        "            elif month in [3, 4, 5]:\n",
        "                season = [0, 1, 0, 0]  # spring\n",
        "            elif month in [6, 7, 8]:\n",
        "                season = [0, 0, 1, 0]  # summer\n",
        "            else:\n",
        "                season = [0, 0, 0, 1]  # fall\n",
        "            \n",
        "            # Weekend/weekday\n",
        "            is_weekend = 1 if dt.weekday() >= 5 else 0\n",
        "            \n",
        "            # Day of week (one-hot)\n",
        "            day_of_week = [0] * 7\n",
        "            day_of_week[dt.weekday()] = 1\n",
        "            \n",
        "            # Combine all features\n",
        "            feature_row = [hour] + time_of_day + season + [is_weekend] + day_of_week\n",
        "            features.append(feature_row)\n",
        "        \n",
        "        feature_names = ['hour'] + \\\n",
        "                       ['morning', 'day', 'evening', 'night'] + \\\n",
        "                       ['winter', 'spring', 'summer', 'fall'] + \\\n",
        "                       ['is_weekend'] + \\\n",
        "                       [f'dow_{i}' for i in range(7)]\n",
        "        \n",
        "        return np.array(features), feature_names\n",
        "    \n",
        "    def create_device_to_zone_mapping(self):\n",
        "        \"\"\"Create mapping from device IDs to zone IDs using metadata\"\"\"\n",
        "        device_to_zone = {}\n",
        "        \n",
        "        # Check if we have zone info available\n",
        "        if 'metadata' in globals() and 'zone_infos' in metadata:\n",
        "            zone_infos = metadata['zone_infos']\n",
        "            print(f\"Found {len(zone_infos)} zones in metadata\")\n",
        "            \n",
        "            for zone_info in zone_infos:\n",
        "                zone_id = zone_info.get('zone_id', 'unknown_zone')\n",
        "                zone_description = zone_info.get('zone_description', zone_id)\n",
        "                devices = zone_info.get('devices', [])\n",
        "                \n",
        "                # Map each device to this zone\n",
        "                for device_id in devices:\n",
        "                    device_to_zone[device_id] = {\n",
        "                        'zone_id': zone_id,\n",
        "                        'zone_description': zone_description,\n",
        "                        'floor': zone_info.get('floor', 0),\n",
        "                        'zone_type': zone_info.get('zone_type', 0)\n",
        "                    }\n",
        "            \n",
        "            print(f\"Mapped {len(device_to_zone)} devices to zones\")\n",
        "        else:\n",
        "            print(\"No zone metadata found, using device-based grouping as fallback\")\n",
        "        \n",
        "        return device_to_zone\n",
        "    \n",
        "    def create_feature_groups(self, exog_data, exog_metadata_dict):\n",
        "        \"\"\"Create feature groups based on actual zones and domain knowledge\"\"\"\n",
        "        print(\"Creating zone-aware feature groups using actual zone metadata...\")\n",
        "        \n",
        "        # Create device to zone mapping\n",
        "        device_to_zone = self.create_device_to_zone_mapping()\n",
        "        \n",
        "        # Create feature names for mapping\n",
        "        feature_names = []\n",
        "        if isinstance(exog_metadata_dict, dict):\n",
        "            name_to_idx = {name: idx for name, idx in exog_metadata_dict.items()}\n",
        "            feature_names = list(name_to_idx.keys())\n",
        "        else:\n",
        "            feature_names = [f'feature_{i}' for i in range(exog_data.shape[1])]\n",
        "        \n",
        "        # Initialize zone-domain groups\n",
        "        zone_domain_groups = {}\n",
        "        \n",
        "        print(\"Analyzing features and mapping to zones...\")\n",
        "        \n",
        "        # Process each feature\n",
        "        for i, feature_name in enumerate(feature_names):\n",
        "            name_lower = feature_name.lower()\n",
        "            \n",
        "            # Extract device ID (before @ symbol)\n",
        "            device_id = \"unknown_device\"\n",
        "            if '@' in feature_name:\n",
        "                device_id = feature_name.split('@')[0]\n",
        "            \n",
        "            # Map device to zone\n",
        "            zone_info = device_to_zone.get(device_id, {\n",
        "                'zone_id': f'device_{device_id}',\n",
        "                'zone_description': f'Device_{device_id}',\n",
        "                'floor': 0,\n",
        "                'zone_type': 0\n",
        "            })\n",
        "            \n",
        "            zone_id = zone_info['zone_id']\n",
        "            \n",
        "            # Determine domain\n",
        "            domain = 'other'\n",
        "            if any(keyword in name_lower for keyword in [\n",
        "                'air_temperature', 'mixed_air_temperature', \n",
        "                'supply_air_temperature', 'return_air_temperature',\n",
        "                'discharge_air_temperature', 'outside_air_temperature'\n",
        "            ]):\n",
        "                domain = 'air_temperatures'\n",
        "            \n",
        "            elif any(keyword in name_lower for keyword in [\n",
        "                'water_temperature', 'supply_water_temperature',\n",
        "                'return_water_temperature', 'hot_water', 'chilled_water'\n",
        "            ]):\n",
        "                domain = 'water_temperatures'\n",
        "            \n",
        "            elif any(keyword in name_lower for keyword in [\n",
        "                'setpoint', '_setpoint', 'temperature_setpoint'\n",
        "            ]):\n",
        "                domain = 'setpoints'\n",
        "            \n",
        "            elif any(keyword in name_lower for keyword in [\n",
        "                'command', 'percentage_command', 'damper', 'fan_speed',\n",
        "                'valve', 'position', 'cooling', 'heating'\n",
        "            ]):\n",
        "                domain = 'control_commands'\n",
        "            \n",
        "            elif any(keyword in name_lower for keyword in [\n",
        "                'outside_air', 'outdoor', 'ambient', 'humidity', \n",
        "                'dewpoint', 'wetbulb', 'pressure_sensor', 'static_pressure'\n",
        "            ]):\n",
        "                domain = 'environmental'\n",
        "            \n",
        "            elif any(keyword in name_lower for keyword in [\n",
        "                'flow', 'flowrate', 'pressure', 'static', 'differential'\n",
        "            ]):\n",
        "                domain = 'flow_pressure'\n",
        "            \n",
        "            # Create zone-domain group name\n",
        "            # Use zone description if available, otherwise zone_id\n",
        "            zone_name = zone_info.get('zone_description', zone_id)\n",
        "            # Clean zone name for group naming\n",
        "            zone_name = zone_name.replace('/', '_').replace('-', '_').replace(' ', '_')\n",
        "            group_name = f\"{domain}_{zone_name}\"\n",
        "            \n",
        "            # Add feature to group\n",
        "            if group_name not in zone_domain_groups:\n",
        "                zone_domain_groups[group_name] = []\n",
        "            zone_domain_groups[group_name].append(i)\n",
        "        \n",
        "        # Also create building-wide groups for environmental features\n",
        "        # These affect all zones similarly\n",
        "        environmental_features = []\n",
        "        for i, feature_name in enumerate(feature_names):\n",
        "            name_lower = feature_name.lower()\n",
        "            if any(keyword in name_lower for keyword in [\n",
        "                'outside_air', 'outdoor', 'ambient', 'humidity', \n",
        "                'dewpoint', 'wetbulb'\n",
        "            ]):\n",
        "                environmental_features.append(i)\n",
        "        \n",
        "        if environmental_features:\n",
        "            zone_domain_groups['environmental_building_wide'] = environmental_features\n",
        "        \n",
        "        # Filter out groups with too few features (less than 2)\n",
        "        zone_domain_groups = {name: indices for name, indices in zone_domain_groups.items() \n",
        "                            if len(indices) >= 2}\n",
        "        \n",
        "        # Store the final groups\n",
        "        self.feature_groups = zone_domain_groups\n",
        "        \n",
        "        # Print detailed group summary\n",
        "        print(f\"\\nZone-aware feature groups created:\")\n",
        "        total_features = 0\n",
        "        domain_counts = {}\n",
        "        zone_counts = {}\n",
        "        \n",
        "        for group_name, indices in self.feature_groups.items():\n",
        "            parts = group_name.split('_', 1)\n",
        "            domain = parts[0] if len(parts) > 0 else 'unknown'\n",
        "            zone = parts[1] if len(parts) > 1 else 'unknown'\n",
        "            \n",
        "            domain_counts[domain] = domain_counts.get(domain, 0) + len(indices)\n",
        "            zone_counts[zone] = zone_counts.get(zone, 0) + 1\n",
        "            \n",
        "            total_features += len(indices)\n",
        "        \n",
        "        # Show sample of groups\n",
        "        group_items = list(self.feature_groups.items())\n",
        "        sample_size = min(10, len(group_items))\n",
        "        print(f\"  Sample groups (showing {sample_size} of {len(self.feature_groups)}):\")\n",
        "        for group_name, indices in group_items[:sample_size]:\n",
        "            print(f\"    {group_name}: {len(indices)} features\")\n",
        "        \n",
        "        if len(group_items) > sample_size:\n",
        "            print(f\"    ... and {len(group_items) - sample_size} more groups\")\n",
        "        \n",
        "        print(f\"\\nSummary:\")\n",
        "        print(f\"  Total feature groups: {len(self.feature_groups)}\")\n",
        "        print(f\"  Total features categorized: {total_features}/{exog_data.shape[1]}\")\n",
        "        print(f\"  Features per domain: {dict(domain_counts)}\")\n",
        "        print(f\"  Unique zones found: {len(set(zone_counts.keys()))}\")\n",
        "        print(f\"  Average features per group: {total_features/len(self.feature_groups):.1f}\")\n",
        "        \n",
        "        return self.feature_groups\n",
        "    \n",
        "    def fit_grouped_pca(self, exog_data, exog_metadata_dict):\n",
        "        \"\"\"Fit PCA separately for each zone-aware feature group\"\"\"\n",
        "        print(f\"\\nFitting Zone-Aware Grouped PCA (max {self.components_per_group} components per group)...\")\n",
        "        \n",
        "        # Create zone-aware feature groups\n",
        "        self.create_feature_groups(exog_data, exog_metadata_dict)\n",
        "        \n",
        "        total_components = 0\n",
        "        successful_groups = 0\n",
        "        \n",
        "        for group_name, feature_indices in self.feature_groups.items():\n",
        "            if len(feature_indices) == 0:\n",
        "                continue\n",
        "                \n",
        "            # Extract group data\n",
        "            group_data = exog_data[:, feature_indices]\n",
        "            \n",
        "            # Determine number of components (min of requested and available)\n",
        "            n_components = min(self.components_per_group, len(feature_indices), group_data.shape[0]-1)\n",
        "            \n",
        "            if n_components <= 0:\n",
        "                print(f\"  Skipping {group_name}: insufficient data\")\n",
        "                continue\n",
        "            \n",
        "            # Fit PCA for this group\n",
        "            group_pca = PCA(n_components=n_components, random_state=42)\n",
        "            group_pca.fit(group_data)\n",
        "            \n",
        "            self.group_pcas[group_name] = group_pca\n",
        "            \n",
        "            explained_variance = np.sum(group_pca.explained_variance_ratio_)\n",
        "            total_components += n_components\n",
        "            successful_groups += 1\n",
        "            \n",
        "            # Only print details for first few groups to avoid spam\n",
        "            if successful_groups <= 10:\n",
        "                print(f\"  {group_name}: {len(feature_indices)} features → {n_components} components \"\n",
        "                      f\"(explained variance: {explained_variance:.3f})\")\n",
        "            elif successful_groups == 11:\n",
        "                print(f\"  ... (showing first 10 groups, {len(self.feature_groups) - 10} more groups fitted)\")\n",
        "        \n",
        "        print(f\"\\nZone-Aware Grouped PCA Summary:\")\n",
        "        print(f\"  Original features: {exog_data.shape[1]}\")\n",
        "        print(f\"  Total PCA components: {total_components}\")\n",
        "        print(f\"  Successful feature groups: {successful_groups}\")\n",
        "        print(f\"  Average components per group: {total_components/successful_groups:.1f}\")\n",
        "        print(f\"  Dimensionality reduction: {exog_data.shape[1]} → {total_components}\")\n",
        "        print(f\"  Reduction factor: {exog_data.shape[1]/total_components:.1f}x\")\n",
        "    \n",
        "    def transform_grouped_pca(self, exog_data):\n",
        "        \"\"\"Transform exogenous data using fitted grouped PCA\"\"\"\n",
        "        if not self.group_pcas:\n",
        "            raise ValueError(\"Grouped PCA not fitted yet. Call fit_grouped_pca first.\")\n",
        "        \n",
        "        transformed_groups = []\n",
        "        group_feature_names = []\n",
        "        \n",
        "        for group_name, group_pca in self.group_pcas.items():\n",
        "            # Get feature indices for this group\n",
        "            feature_indices = self.feature_groups[group_name]\n",
        "            \n",
        "            # Extract and transform group data\n",
        "            group_data = exog_data[:, feature_indices]\n",
        "            group_transformed = group_pca.transform(group_data)\n",
        "            \n",
        "            transformed_groups.append(group_transformed)\n",
        "            \n",
        "            # Create feature names for this group\n",
        "            n_components = group_transformed.shape[1]\n",
        "            group_names = [f'{group_name}_pc{i}' for i in range(n_components)]\n",
        "            group_feature_names.extend(group_names)\n",
        "        \n",
        "        # Combine all transformed groups\n",
        "        if transformed_groups:\n",
        "            combined_transformed = np.hstack(transformed_groups)\n",
        "        else:\n",
        "            combined_transformed = np.array([]).reshape(exog_data.shape[0], 0)\n",
        "        \n",
        "        return combined_transformed, group_feature_names\n",
        "    \n",
        "    def prepare_data(self, obs_data, exog_data, timestamps, temp_data=None, is_training=True):\n",
        "        \"\"\"Prepare data with interpolation, NaN handling, Grouped PCA, and feature engineering\"\"\"\n",
        "        \n",
        "        # Interpolate training data\n",
        "        if is_training:\n",
        "            obs_data = self.interpolate_zeros(obs_data) if obs_data is not None else None\n",
        "            temp_data = self.interpolate_zeros(temp_data) if temp_data is not None else None\n",
        "        \n",
        "        # Create temporal features\n",
        "        temporal_features, temporal_names = self.create_temporal_features(timestamps)\n",
        "        \n",
        "        # Apply NaN handling and Grouped PCA to exogenous features\n",
        "        if exog_data is not None:\n",
        "            # Handle NaN values first\n",
        "            exog_data_clean = self.handle_nan_values(exog_data, is_training=is_training)\n",
        "            \n",
        "            if is_training and not self.group_pcas:\n",
        "                # Fit Grouped PCA on training data\n",
        "                # We need the metadata dict for feature grouping\n",
        "                exog_metadata = exogenous_observation_data_ids if 'exogenous_observation_data_ids' in globals() else None\n",
        "                self.fit_grouped_pca(exog_data_clean, exog_metadata)\n",
        "            \n",
        "            # Transform exogenous data using Grouped PCA\n",
        "            exog_pca, exog_names = self.transform_grouped_pca(exog_data_clean)\n",
        "            \n",
        "            # Combine PCA features and temporal features\n",
        "            X = np.hstack([exog_pca, temporal_features])\n",
        "            feature_names = exog_names + temporal_names\n",
        "        else:\n",
        "            X = temporal_features\n",
        "            feature_names = temporal_names\n",
        "        \n",
        "        return X, feature_names, temp_data\n",
        "    \n",
        "    def create_hourly_bins(self, X, y, timestamps):\n",
        "        \"\"\"Create 15-minute bins for data (96 bins total: 24 hours × 4 fifteen-minute periods)\"\"\"\n",
        "        time_bins_data = {}\n",
        "        \n",
        "        for i, ts in enumerate(timestamps):\n",
        "            # Handle both pandas Timestamp and Unix timestamp\n",
        "            if hasattr(ts, 'hour'):  # pandas Timestamp\n",
        "                dt = ts\n",
        "            else:  # Unix timestamp\n",
        "                dt = datetime.fromtimestamp(ts)\n",
        "            \n",
        "            # Calculate 15-minute time bin\n",
        "            hour = dt.hour  # 0-23\n",
        "            minute = dt.minute  # 0-59\n",
        "            minute_bin = minute // 15  # 0-3 (0-14min=0, 15-29min=1, 30-44min=2, 45-59min=3)\n",
        "            time_bin = hour * 4 + minute_bin  # 0-95 (96 total bins)\n",
        "                \n",
        "            if time_bin not in time_bins_data:\n",
        "                time_bins_data[time_bin] = {'X': [], 'y': []}\n",
        "            time_bins_data[time_bin]['X'].append(X[i])\n",
        "            if y is not None:\n",
        "                time_bins_data[time_bin]['y'].append(y[i])\n",
        "        \n",
        "        # Convert to numpy arrays\n",
        "        for time_bin in time_bins_data:\n",
        "            time_bins_data[time_bin]['X'] = np.array(time_bins_data[time_bin]['X'])\n",
        "            if y is not None:\n",
        "                time_bins_data[time_bin]['y'] = np.array(time_bins_data[time_bin]['y'])\n",
        "        \n",
        "        return time_bins_data\n",
        "    \n",
        "    def optimize_hyperparameters(self, X_train, y_train, trial):\n",
        "        \"\"\"Optuna objective function for hyperparameter optimization\"\"\"\n",
        "        \n",
        "        # Clear GPU memory before optimization\n",
        "        clear_gpu_memory()\n",
        "        \n",
        "        params = {\n",
        "            'objective': 'reg:absoluteerror',  # MAE objective\n",
        "            'tree_method': 'gpu_hist' if self.use_gpu else 'hist',\n",
        "            'n_estimators': trial.suggest_int('n_estimators', 100, 300),  # Reduced for memory\n",
        "            'max_depth': trial.suggest_int('max_depth', 3, 6),  # Reduced for memory\n",
        "            'learning_rate': trial.suggest_float('learning_rate', 0.01, 0.3),\n",
        "            'subsample': trial.suggest_float('subsample', 0.6, 1.0),\n",
        "            'colsample_bytree': trial.suggest_float('colsample_bytree', 0.6, 1.0),\n",
        "            'reg_alpha': trial.suggest_float('reg_alpha', 0.01, 10.0),\n",
        "            'reg_lambda': trial.suggest_float('reg_lambda', 0.01, 10.0),\n",
        "            'random_state': 42,\n",
        "            'n_jobs': 1\n",
        "        }\n",
        "        \n",
        "        # Add GPU-specific memory management parameters\n",
        "        if self.use_gpu:\n",
        "            params.update({\n",
        "                'gpu_id': 0,\n",
        "                'max_bin': 256,  # Reduce memory usage\n",
        "                'single_precision_histogram': True  # Use less memory\n",
        "            })\n",
        "        \n",
        "        base_model = xgb.XGBRegressor(**params)\n",
        "        model = MultiOutputRegressor(base_model, n_jobs=1)\n",
        "        \n",
        "        # Simple train/validation split for optimization\n",
        "        split_idx = int(0.8 * len(X_train))\n",
        "        X_tr, X_val = X_train[:split_idx], X_train[split_idx:]\n",
        "        y_tr, y_val = y_train[:split_idx], y_train[split_idx:]\n",
        "        \n",
        "        try:\n",
        "            model.fit(X_tr, y_tr)\n",
        "            y_pred = model.predict(X_val)\n",
        "            result = mean_absolute_error(y_val, y_pred)\n",
        "            \n",
        "            # Clear memory after each trial\n",
        "            del model, base_model\n",
        "            clear_gpu_memory()\n",
        "            \n",
        "            return result\n",
        "            \n",
        "        except Exception as e:\n",
        "            print(f\"Trial failed with error: {e}\")\n",
        "            clear_gpu_memory()\n",
        "            return float('inf')  # Return worst possible score\n",
        "    \n",
        "    def train_hourly_models(self, X_train, y_train, timestamps_train, n_trials=5):\n",
        "        \"\"\"Train 96 fifteen-minute XGBoost models with hyperparameter optimization\"\"\"\n",
        "        \n",
        "        # Clear GPU memory before starting\n",
        "        clear_gpu_memory()\n",
        "        \n",
        "        # Create 15-minute time bins (96 total)\n",
        "        time_bins_data = self.create_hourly_bins(X_train, y_train, timestamps_train)\n",
        "        \n",
        "        print(f\"Training {len(time_bins_data)} fifteen-minute models (out of 96 possible)...\")\n",
        "        \n",
        "        successful_models = 0\n",
        "        for time_bin in range(96):  # 96 fifteen-minute periods in 24 hours\n",
        "            if time_bin not in time_bins_data:\n",
        "                hour = time_bin // 4\n",
        "                minute_period = (time_bin % 4) * 15\n",
        "                print(f\"No data for time bin {time_bin} ({hour:02d}:{minute_period:02d}-{hour:02d}:{minute_period+14:02d}), skipping...\")\n",
        "                continue\n",
        "                \n",
        "            hour = time_bin // 4\n",
        "            minute_period = (time_bin % 4) * 15\n",
        "            print(f\"Training model for time bin {time_bin} ({hour:02d}:{minute_period:02d}-{hour:02d}:{minute_period+14:02d})...\")\n",
        "            \n",
        "            # Clear GPU memory before each model\n",
        "            clear_gpu_memory()\n",
        "            \n",
        "            X_timebin = time_bins_data[time_bin]['X']\n",
        "            y_timebin = time_bins_data[time_bin]['y']\n",
        "            \n",
        "            if len(X_timebin) < 10:\n",
        "                print(f\"Too few samples for time bin {time_bin} ({len(X_timebin)}), skipping...\")\n",
        "                continue\n",
        "            \n",
        "            # Scale features\n",
        "            scaler = StandardScaler()\n",
        "            X_timebin_scaled = scaler.fit_transform(X_timebin)\n",
        "            self.scalers[time_bin] = scaler\n",
        "            \n",
        "            # Optimize hyperparameters\n",
        "            study = optuna.create_study(direction='minimize', study_name=f'timebin_{time_bin}')\n",
        "            \n",
        "            def objective(trial):\n",
        "                return self.optimize_hyperparameters(X_timebin_scaled, y_timebin, trial)\n",
        "            \n",
        "            try:\n",
        "                study.optimize(objective, n_trials=n_trials, show_progress_bar=False)\n",
        "                \n",
        "                # Train final model with best parameters\n",
        "                best_params = study.best_params\n",
        "                best_params.update({\n",
        "                    'objective': 'reg:absoluteerror',\n",
        "                    'tree_method': 'gpu_hist' if self.use_gpu else 'hist',\n",
        "                    'random_state': 42,\n",
        "                    'n_jobs': 1\n",
        "                })\n",
        "                \n",
        "                # Add GPU-specific parameters for final model\n",
        "                if self.use_gpu:\n",
        "                    best_params.update({\n",
        "                        'gpu_id': 0,\n",
        "                        'max_bin': 256,\n",
        "                        'single_precision_histogram': True\n",
        "                    })\n",
        "                \n",
        "                base_model = xgb.XGBRegressor(**best_params)\n",
        "                model = MultiOutputRegressor(base_model, n_jobs=1)\n",
        "                model.fit(X_timebin_scaled, y_timebin)\n",
        "                \n",
        "                self.models[time_bin] = model\n",
        "                successful_models += 1\n",
        "                \n",
        "                print(f\"Time bin {time_bin} ({hour:02d}:{minute_period:02d}-{hour:02d}:{minute_period+14:02d}) - Best MAE: {study.best_value:.4f}\")\n",
        "                \n",
        "            except Exception as e:\n",
        "                print(f\"Error training time bin {time_bin}: {e}\")\n",
        "                print(f\"Skipping time bin {time_bin}\")\n",
        "                continue\n",
        "            \n",
        "            # Clear memory after each time bin\n",
        "            clear_gpu_memory()\n",
        "        \n",
        "        print(f\"Training completed. {successful_models} fifteen-minute models trained out of {len(time_bins_data)} available time periods.\")\n",
        "        \n",
        "        # Final memory cleanup\n",
        "        clear_gpu_memory()\n",
        "    \n",
        "    def predict(self, X_test, timestamps_test):\n",
        "        \"\"\"Make predictions using fifteen-minute models\"\"\"\n",
        "        \n",
        "        # Clear GPU memory before prediction\n",
        "        clear_gpu_memory()\n",
        "        \n",
        "        first_model = self.models[list(self.models.keys())[0]]\n",
        "        n_outputs = len(first_model.estimators_)\n",
        "        \n",
        "        predictions = np.zeros((len(X_test), n_outputs))\n",
        "        \n",
        "        # Create 15-minute time bins for test data\n",
        "        time_bins_data = self.create_hourly_bins(X_test, None, timestamps_test)\n",
        "        \n",
        "        for time_bin in time_bins_data:\n",
        "            if time_bin not in self.models:\n",
        "                # Find closest available time bin\n",
        "                available_time_bins = list(self.models.keys())\n",
        "                time_bin_to_use = min(available_time_bins, key=lambda x: abs(x - time_bin))\n",
        "                hour = time_bin // 4\n",
        "                minute_period = (time_bin % 4) * 15\n",
        "                hour_to_use = time_bin_to_use // 4\n",
        "                minute_period_to_use = (time_bin_to_use % 4) * 15\n",
        "                print(f\"Using model for time bin {time_bin_to_use} ({hour_to_use:02d}:{minute_period_to_use:02d}) instead of time bin {time_bin} ({hour:02d}:{minute_period:02d})\")\n",
        "            else:\n",
        "                time_bin_to_use = time_bin\n",
        "            \n",
        "            X_timebin = time_bins_data[time_bin]['X']\n",
        "            X_timebin_scaled = self.scalers[time_bin_to_use].transform(X_timebin)\n",
        "            \n",
        "            try:\n",
        "                timebin_predictions = self.models[time_bin_to_use].predict(X_timebin_scaled)\n",
        "                \n",
        "                # Map predictions back to original indices\n",
        "                timebin_indices = []\n",
        "                for i, ts in enumerate(timestamps_test):\n",
        "                    if hasattr(ts, 'hour'):  # pandas Timestamp\n",
        "                        dt = ts\n",
        "                    else:  # Unix timestamp\n",
        "                        dt = datetime.fromtimestamp(ts)\n",
        "                    \n",
        "                    # Calculate 15-minute time bin for this timestamp\n",
        "                    hour = dt.hour\n",
        "                    minute = dt.minute\n",
        "                    minute_bin = minute // 15\n",
        "                    ts_time_bin = hour * 4 + minute_bin\n",
        "                        \n",
        "                    if ts_time_bin == time_bin:\n",
        "                        timebin_indices.append(i)\n",
        "                \n",
        "                for i, idx in enumerate(timebin_indices):\n",
        "                    predictions[idx] = timebin_predictions[i]\n",
        "                    \n",
        "            except Exception as e:\n",
        "                hour = time_bin // 4\n",
        "                minute_period = (time_bin % 4) * 15\n",
        "                print(f\"Error predicting for time bin {time_bin} ({hour:02d}:{minute_period:02d}): {e}\")\n",
        "                continue\n",
        "        \n",
        "        # Clear memory after prediction\n",
        "        clear_gpu_memory()\n",
        "        \n",
        "        return predictions\n",
        "    \n",
        "    def evaluate_predictions(self, y_true, y_pred, timestamps_test):\n",
        "        \"\"\"Evaluate predictions for different time periods\"\"\"\n",
        "        results = {}\n",
        "        \n",
        "        # Convert timestamps to datetime for easier handling\n",
        "        dates = []\n",
        "        for ts in timestamps_test:\n",
        "            if hasattr(ts, 'to_pydatetime'):\n",
        "                dates.append(ts.to_pydatetime())\n",
        "            elif hasattr(ts, 'hour'):\n",
        "                dates.append(ts)\n",
        "            else:\n",
        "                dates.append(datetime.fromtimestamp(ts))\n",
        "        \n",
        "        start_date = min(dates)\n",
        "        \n",
        "        # Define evaluation periods\n",
        "        periods = {\n",
        "            'first_week': timedelta(days=7),\n",
        "            'first_2_weeks': timedelta(days=14),\n",
        "            'first_month': timedelta(days=30),\n",
        "            'first_3_months': timedelta(days=90),\n",
        "            'entire_period': timedelta(days=365)\n",
        "        }\n",
        "        \n",
        "        for period_name, period_length in periods.items():\n",
        "            end_date = start_date + period_length\n",
        "            \n",
        "            period_indices = [i for i, date in enumerate(dates) if date <= end_date]\n",
        "            \n",
        "            if period_indices:\n",
        "                y_true_period = y_true[period_indices]\n",
        "                y_pred_period = y_pred[period_indices]\n",
        "                \n",
        "                mae = mean_absolute_error(y_true_period, y_pred_period)\n",
        "                results[period_name] = mae\n",
        "                print(f\"{period_name}: MAE = {mae:.4f}\")\n",
        "        \n",
        "        return results\n",
        "\n",
        "# Main execution function\n",
        "def run_smart_buildings_model():\n",
        "    \"\"\"Main function to run the complete model\"\"\"\n",
        "    \n",
        "    # Clear GPU memory at start\n",
        "    clear_gpu_memory()\n",
        "    \n",
        "    print(\"Initializing Smart Buildings Predictor with Zone-Aware Grouped PCA...\")\n",
        "    predictor = SmartBuildingsPredictor(use_gpu=True, components_per_group=3)\n",
        "    \n",
        "    # Prepare training data\n",
        "    print(\"Preparing training data...\")\n",
        "    \n",
        "    # Extract training temperature data (target) from cleaned preprocessed data\n",
        "    train_temp_indices = [v for k, v in metadata['observation_ids'].items() \n",
        "                         if \"zone_air_temperature_sensor\" in k]\n",
        "    train_temp_data = train_obs_matrix_clean[:, train_temp_indices]\n",
        "    \n",
        "    # Extract training exogenous data from cleaned preprocessed data\n",
        "    train_exog_indices = [v for k, v in metadata['observation_ids'].items() \n",
        "                         if \"zone_air_temperature_sensor\" not in k]\n",
        "    train_exog_data = train_obs_matrix_clean[:, train_exog_indices]\n",
        "    \n",
        "    # Prepare training features and targets using cleaned timestamps\n",
        "    X_train, feature_names, y_train = predictor.prepare_data(\n",
        "        None, train_exog_data, timestamps_train_clean, \n",
        "        train_temp_data, is_training=True\n",
        "    )\n",
        "    \n",
        "    predictor.feature_columns = feature_names\n",
        "    \n",
        "    print(f\"Training data shape: X={X_train.shape}, y={y_train.shape}\")\n",
        "    print(f\"Feature names: {len(feature_names)} features\")\n",
        "    \n",
        "    # Debug: Check if feature count is reasonable\n",
        "    if X_train.shape[1] > 500:\n",
        "        print(f\"WARNING: Large feature count ({X_train.shape[1]}). Consider reducing components_per_group.\")\n",
        "    elif X_train.shape[1] < 50:\n",
        "        print(f\"WARNING: Very small feature count ({X_train.shape[1]}). Consider increasing components_per_group.\")\n",
        "    \n",
        "    # Clear memory before training\n",
        "    clear_gpu_memory()\n",
        "    \n",
        "    # Train models using cleaned timestamps with 5 trials\n",
        "    predictor.train_hourly_models(X_train, y_train, timestamps_train_clean, n_trials=5)\n",
        "    \n",
        "    # Clear memory after training\n",
        "    clear_gpu_memory()\n",
        "    \n",
        "    # Prepare test data using cleaned validation data\n",
        "    print(\"Preparing test data...\")\n",
        "    X_test, _, _ = predictor.prepare_data(\n",
        "        None, exogenous_observation_data, timestamps_val_clean, \n",
        "        None, is_training=False\n",
        "    )\n",
        "    \n",
        "    print(f\"Test data shape: {X_test.shape}\")\n",
        "    \n",
        "    # Make predictions using cleaned validation timestamps\n",
        "    print(\"Making predictions...\")\n",
        "    predictions = predictor.predict(X_test, timestamps_val_clean)\n",
        "    \n",
        "    print(f\"Predictions shape: {predictions.shape}\")\n",
        "    print(f\"True values shape: {temp_data.shape}\")\n",
        "    \n",
        "    # Evaluate results using cleaned validation timestamps\n",
        "    print(\"\\nEvaluation Results:\")\n",
        "    print(\"=\" * 50)\n",
        "    results = predictor.evaluate_predictions(\n",
        "        temp_data, predictions, timestamps_val_clean\n",
        "    )\n",
        "    \n",
        "    # Final memory cleanup\n",
        "    clear_gpu_memory()\n",
        "    \n",
        "    return predictor, predictions, results\n",
        "\n",
        "# Run the model\n",
        "if __name__ == \"__main__\":\n",
        "    predictor, predictions, results = run_smart_buildings_model()"
      ]
    }
  ],
  "metadata": {
    "colab": {
      "provenance": []
    },
    "kernelspec": {
      "display_name": ".venv",
      "language": "python",
      "name": "python3"
    },
    "language_info": {
      "codemirror_mode": {
        "name": "ipython",
        "version": 3
      },
      "file_extension": ".py",
      "mimetype": "text/x-python",
      "name": "python",
      "nbconvert_exporter": "python",
      "pygments_lexer": "ipython3",
      "version": "3.11.3"
    }
  },
  "nbformat": 4,
  "nbformat_minor": 0
}
